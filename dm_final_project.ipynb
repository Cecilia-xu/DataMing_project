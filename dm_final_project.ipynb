{
 "cells": [
  {
   "cell_type": "markdown",
   "metadata": {},
   "source": [
    "# Data Mining Final Project"
   ]
  },
  {
   "cell_type": "markdown",
   "metadata": {},
   "source": [
    "- Group members: \n",
    "    - Zhehao Guo (zhg26@pitt.edu)\n",
    "    - Tong Ka (tok31@pitt.edu)\n",
    "    - Xiaoqian Xu (xix64@pitt.edu)\n",
    "- Data set resource: [Link](https://www.kesci.com/home/competition/56cd5f02b89b5bd026cb39c9/content/1)"
   ]
  },
  {
   "cell_type": "code",
   "execution_count": 2,
   "metadata": {},
   "outputs": [
    {
     "name": "stderr",
     "output_type": "stream",
     "text": [
      "Using TensorFlow backend.\n"
     ]
    }
   ],
   "source": [
    "import pandas as pd\n",
    "import numpy as np\n",
    "from sklearn import preprocessing\n",
    "from sklearn.preprocessing import StandardScaler\n",
    "import matplotlib.pyplot as plt\n",
    "from sklearn.metrics import confusion_matrix, roc_curve, roc_auc_score\n",
    "from sklearn.linear_model import LogisticRegressionCV\n",
    "from sklearn import metrics\n",
    "from sklearn.model_selection import train_test_split\n",
    "import collections\n",
    "from functools import reduce\n",
    "from sklearn import preprocessing\n",
    "from sklearn.decomposition import TruncatedSVD\n",
    "from sklearn.decomposition import PCA\n",
    "from sklearn.decomposition import NMF\n",
    "import lightgbm as lgb\n",
    "import collections\n",
    "#from pyecharts import Map, Geo\n",
    "from sklearn.ensemble import AdaBoostClassifier\n",
    "import xgboost as xgb\n",
    "from catboost import CatBoostClassifier, CatBoostRegressor, Pool, cv\n",
    "from sklearn.utils import class_weight\n",
    "from sklearn.ensemble import RandomForestClassifier\n",
    "from sklearn.metrics import classification_report\n",
    "import math\n",
    "from sklearn.linear_model import LinearRegression\n",
    "import shap\n",
    "import hyperopt as hp\n",
    "from hyperopt import Trials, fmin, STATUS_OK\n",
    "import keras\n",
    "from keras.models import Sequential\n",
    "from keras.layers import Dense\n",
    "from sklearn.model_selection import cross_val_score\n",
    "import warnings\n",
    "warnings.filterwarnings('ignore')"
   ]
  },
  {
   "cell_type": "code",
   "execution_count": 5,
   "metadata": {},
   "outputs": [],
   "source": [
    "train_loginfo = pd.read_csv(\"data/PPD-First-Round-Data-Update/Training Set/PPD_LogInfo_3_1_Training_Set.csv\", encoding='gbk')\n",
    "train_master = pd.read_csv(\"data/PPD-First-Round-Data-Update/Training Set/PPD_Training_Master_GBK_3_1_Training_Set.csv\", encoding='gbk')\n",
    "train_userinfo = pd.read_csv(\"data/PPD-First-Round-Data-Update/Training Set/PPD_Userupdate_Info_3_1_Training_Set.csv\", encoding='gbk')"
   ]
  },
  {
   "cell_type": "code",
   "execution_count": 6,
   "metadata": {},
   "outputs": [],
   "source": [
    "test_loginfo = pd.read_csv(\"data/PPD-First-Round-Data-Update/Test Set/PPD_LogInfo_2_Test_Set.csv\", encoding='gbk')\n",
    "test_master = pd.read_csv(\"data/PPD-First-Round-Data-Update/Test Set/PPD_Master_GBK_2_Test_Set.csv\", encoding='gb18030')\n",
    "test_userinfo = pd.read_csv(\"data/PPD-First-Round-Data-Update/Test Set/PPD_Userupdate_Info_2_Test_Set.csv\", encoding='gbk')"
   ]
  },
  {
   "cell_type": "code",
   "execution_count": 11,
   "metadata": {},
   "outputs": [],
   "source": [
    "train_loginfo2 = pd.read_csv(\"data/PPD-Second-Round-Data-Updated/second round newly added data/LogInfo_9w_3_2.csv\", encoding='gbk')\n",
    "train_master2 = pd.read_csv(\"data/PPD-Second-Round-Data-Updated/second round newly added data/Kesci_Master_9w_gbk_3_2.csv\", encoding='gbk')\n",
    "train_userinfo2 = pd.read_csv(\"data/PPD-Second-Round-Data-Updated/second round newly added data/Userupdate_Info_9w_3_2.csv\", encoding='gbk')"
   ]
  },
  {
   "cell_type": "code",
   "execution_count": 12,
   "metadata": {},
   "outputs": [],
   "source": [
    "train_master = pd.concat([train_master, train_master2])\n",
    "train_loginfo = pd.concat([train_loginfo, train_loginfo2])\n",
    "train_userinfo = pd.concat([train_userinfo, train_userinfo2])"
   ]
  },
  {
   "cell_type": "markdown",
   "metadata": {},
   "source": [
    "# Data Exploration"
   ]
  },
  {
   "cell_type": "markdown",
   "metadata": {},
   "source": [
    "## Master dataset"
   ]
  },
  {
   "cell_type": "code",
   "execution_count": 13,
   "metadata": {
    "scrolled": true
   },
   "outputs": [
    {
     "data": {
      "text/html": [
       "<div>\n",
       "<style scoped>\n",
       "    .dataframe tbody tr th:only-of-type {\n",
       "        vertical-align: middle;\n",
       "    }\n",
       "\n",
       "    .dataframe tbody tr th {\n",
       "        vertical-align: top;\n",
       "    }\n",
       "\n",
       "    .dataframe thead th {\n",
       "        text-align: right;\n",
       "    }\n",
       "</style>\n",
       "<table border=\"1\" class=\"dataframe\">\n",
       "  <thead>\n",
       "    <tr style=\"text-align: right;\">\n",
       "      <th></th>\n",
       "      <th>Idx</th>\n",
       "      <th>UserInfo_1</th>\n",
       "      <th>UserInfo_2</th>\n",
       "      <th>UserInfo_3</th>\n",
       "      <th>UserInfo_4</th>\n",
       "      <th>WeblogInfo_1</th>\n",
       "      <th>WeblogInfo_2</th>\n",
       "      <th>WeblogInfo_3</th>\n",
       "      <th>WeblogInfo_4</th>\n",
       "      <th>WeblogInfo_5</th>\n",
       "      <th>...</th>\n",
       "      <th>SocialNetwork_10</th>\n",
       "      <th>SocialNetwork_11</th>\n",
       "      <th>SocialNetwork_12</th>\n",
       "      <th>SocialNetwork_13</th>\n",
       "      <th>SocialNetwork_14</th>\n",
       "      <th>SocialNetwork_15</th>\n",
       "      <th>SocialNetwork_16</th>\n",
       "      <th>SocialNetwork_17</th>\n",
       "      <th>target</th>\n",
       "      <th>ListingInfo</th>\n",
       "    </tr>\n",
       "  </thead>\n",
       "  <tbody>\n",
       "    <tr>\n",
       "      <th>0</th>\n",
       "      <td>10001</td>\n",
       "      <td>1.0</td>\n",
       "      <td>深圳</td>\n",
       "      <td>4.0</td>\n",
       "      <td>深圳</td>\n",
       "      <td>NaN</td>\n",
       "      <td>1.0</td>\n",
       "      <td>NaN</td>\n",
       "      <td>1.0</td>\n",
       "      <td>1.0</td>\n",
       "      <td>...</td>\n",
       "      <td>222</td>\n",
       "      <td>-1</td>\n",
       "      <td>0</td>\n",
       "      <td>0</td>\n",
       "      <td>0</td>\n",
       "      <td>0</td>\n",
       "      <td>0</td>\n",
       "      <td>1</td>\n",
       "      <td>0</td>\n",
       "      <td>2014/3/5</td>\n",
       "    </tr>\n",
       "    <tr>\n",
       "      <th>1</th>\n",
       "      <td>10002</td>\n",
       "      <td>1.0</td>\n",
       "      <td>温州</td>\n",
       "      <td>4.0</td>\n",
       "      <td>温州</td>\n",
       "      <td>NaN</td>\n",
       "      <td>0.0</td>\n",
       "      <td>NaN</td>\n",
       "      <td>1.0</td>\n",
       "      <td>1.0</td>\n",
       "      <td>...</td>\n",
       "      <td>1</td>\n",
       "      <td>-1</td>\n",
       "      <td>0</td>\n",
       "      <td>0</td>\n",
       "      <td>0</td>\n",
       "      <td>0</td>\n",
       "      <td>0</td>\n",
       "      <td>2</td>\n",
       "      <td>0</td>\n",
       "      <td>2014/2/26</td>\n",
       "    </tr>\n",
       "    <tr>\n",
       "      <th>2</th>\n",
       "      <td>10003</td>\n",
       "      <td>1.0</td>\n",
       "      <td>宜昌</td>\n",
       "      <td>3.0</td>\n",
       "      <td>宜昌</td>\n",
       "      <td>NaN</td>\n",
       "      <td>0.0</td>\n",
       "      <td>NaN</td>\n",
       "      <td>2.0</td>\n",
       "      <td>2.0</td>\n",
       "      <td>...</td>\n",
       "      <td>-1</td>\n",
       "      <td>-1</td>\n",
       "      <td>-1</td>\n",
       "      <td>1</td>\n",
       "      <td>0</td>\n",
       "      <td>0</td>\n",
       "      <td>0</td>\n",
       "      <td>0</td>\n",
       "      <td>0</td>\n",
       "      <td>2014/2/28</td>\n",
       "    </tr>\n",
       "    <tr>\n",
       "      <th>3</th>\n",
       "      <td>10006</td>\n",
       "      <td>4.0</td>\n",
       "      <td>南平</td>\n",
       "      <td>1.0</td>\n",
       "      <td>南平</td>\n",
       "      <td>NaN</td>\n",
       "      <td>NaN</td>\n",
       "      <td>NaN</td>\n",
       "      <td>NaN</td>\n",
       "      <td>NaN</td>\n",
       "      <td>...</td>\n",
       "      <td>-1</td>\n",
       "      <td>-1</td>\n",
       "      <td>-1</td>\n",
       "      <td>0</td>\n",
       "      <td>0</td>\n",
       "      <td>0</td>\n",
       "      <td>0</td>\n",
       "      <td>0</td>\n",
       "      <td>0</td>\n",
       "      <td>2014/2/25</td>\n",
       "    </tr>\n",
       "    <tr>\n",
       "      <th>4</th>\n",
       "      <td>10007</td>\n",
       "      <td>5.0</td>\n",
       "      <td>辽阳</td>\n",
       "      <td>1.0</td>\n",
       "      <td>辽阳</td>\n",
       "      <td>NaN</td>\n",
       "      <td>0.0</td>\n",
       "      <td>NaN</td>\n",
       "      <td>1.0</td>\n",
       "      <td>1.0</td>\n",
       "      <td>...</td>\n",
       "      <td>-1</td>\n",
       "      <td>-1</td>\n",
       "      <td>-1</td>\n",
       "      <td>0</td>\n",
       "      <td>0</td>\n",
       "      <td>0</td>\n",
       "      <td>0</td>\n",
       "      <td>0</td>\n",
       "      <td>0</td>\n",
       "      <td>2014/2/27</td>\n",
       "    </tr>\n",
       "  </tbody>\n",
       "</table>\n",
       "<p>5 rows × 228 columns</p>\n",
       "</div>"
      ],
      "text/plain": [
       "     Idx  UserInfo_1 UserInfo_2  UserInfo_3 UserInfo_4  WeblogInfo_1  \\\n",
       "0  10001         1.0         深圳         4.0         深圳           NaN   \n",
       "1  10002         1.0         温州         4.0         温州           NaN   \n",
       "2  10003         1.0         宜昌         3.0         宜昌           NaN   \n",
       "3  10006         4.0         南平         1.0         南平           NaN   \n",
       "4  10007         5.0         辽阳         1.0         辽阳           NaN   \n",
       "\n",
       "   WeblogInfo_2  WeblogInfo_3  WeblogInfo_4  WeblogInfo_5  ...  \\\n",
       "0           1.0           NaN           1.0           1.0  ...   \n",
       "1           0.0           NaN           1.0           1.0  ...   \n",
       "2           0.0           NaN           2.0           2.0  ...   \n",
       "3           NaN           NaN           NaN           NaN  ...   \n",
       "4           0.0           NaN           1.0           1.0  ...   \n",
       "\n",
       "   SocialNetwork_10  SocialNetwork_11  SocialNetwork_12  SocialNetwork_13  \\\n",
       "0               222                -1                 0                 0   \n",
       "1                 1                -1                 0                 0   \n",
       "2                -1                -1                -1                 1   \n",
       "3                -1                -1                -1                 0   \n",
       "4                -1                -1                -1                 0   \n",
       "\n",
       "   SocialNetwork_14  SocialNetwork_15  SocialNetwork_16  SocialNetwork_17  \\\n",
       "0                 0                 0                 0                 1   \n",
       "1                 0                 0                 0                 2   \n",
       "2                 0                 0                 0                 0   \n",
       "3                 0                 0                 0                 0   \n",
       "4                 0                 0                 0                 0   \n",
       "\n",
       "   target  ListingInfo  \n",
       "0       0     2014/3/5  \n",
       "1       0    2014/2/26  \n",
       "2       0    2014/2/28  \n",
       "3       0    2014/2/25  \n",
       "4       0    2014/2/27  \n",
       "\n",
       "[5 rows x 228 columns]"
      ]
     },
     "execution_count": 13,
     "metadata": {},
     "output_type": "execute_result"
    }
   ],
   "source": [
    "train_master.head()"
   ]
  },
  {
   "cell_type": "markdown",
   "metadata": {},
   "source": [
    "### Outlier"
   ]
  },
  {
   "cell_type": "code",
   "execution_count": 14,
   "metadata": {},
   "outputs": [
    {
     "data": {
      "image/png": "[encoded data removed]",
      "text/plain": [
       "<Figure size 432x288 with 1 Axes>"
      ]
     },
     "metadata": {
      "needs_background": "light"
     },
     "output_type": "display_data"
    }
   ],
   "source": [
    "train_master['SocialNetwork_3'].plot.box()\n",
    "plt.grid(linestyle=\"--\", alpha=0.3)\n",
    "plt.show()"
   ]
  },
  {
   "cell_type": "code",
   "execution_count": 15,
   "metadata": {},
   "outputs": [
    {
     "data": {
      "text/plain": [
       "count    6.000000e+04\n",
       "mean     6.638933e+01\n",
       "std      4.830254e+03\n",
       "min     -1.000000e+00\n",
       "25%     -1.000000e+00\n",
       "50%     -1.000000e+00\n",
       "75%     -1.000000e+00\n",
       "max      1.032721e+06\n",
       "Name: SocialNetwork_3, dtype: float64"
      ]
     },
     "execution_count": 15,
     "metadata": {},
     "output_type": "execute_result"
    }
   ],
   "source": [
    "train_master['SocialNetwork_3'].describe()"
   ]
  },
  {
   "cell_type": "code",
   "execution_count": 16,
   "metadata": {},
   "outputs": [
    {
     "data": {
      "text/plain": [
       "(59996,)"
      ]
     },
     "execution_count": 16,
     "metadata": {},
     "output_type": "execute_result"
    }
   ],
   "source": [
    "train_master['SocialNetwork_3'][train_master['SocialNetwork_3']<200000].shape"
   ]
  },
  {
   "cell_type": "code",
   "execution_count": 17,
   "metadata": {},
   "outputs": [
    {
     "data": {
      "image/png": "[encoded data removed]",
      "text/plain": [
       "<Figure size 432x288 with 1 Axes>"
      ]
     },
     "metadata": {
      "needs_background": "light"
     },
     "output_type": "display_data"
    }
   ],
   "source": [
    "train_master['SocialNetwork_3'][train_master['SocialNetwork_3']<200000].plot.box()\n",
    "plt.grid(linestyle=\"--\", alpha=0.3)\n",
    "plt.show()"
   ]
  },
  {
   "cell_type": "code",
   "execution_count": null,
   "metadata": {},
   "outputs": [],
   "source": []
  },
  {
   "cell_type": "code",
   "execution_count": 18,
   "metadata": {},
   "outputs": [
    {
     "data": {
      "image/png": "[encoded data removed]",
      "text/plain": [
       "<Figure size 432x288 with 1 Axes>"
      ]
     },
     "metadata": {
      "needs_background": "light"
     },
     "output_type": "display_data"
    }
   ],
   "source": [
    "train_master['ThirdParty_Info_Period1_13'].plot.box()\n",
    "plt.grid(linestyle=\"--\", alpha=0.3)\n",
    "plt.show()"
   ]
  },
  {
   "cell_type": "code",
   "execution_count": 19,
   "metadata": {},
   "outputs": [
    {
     "data": {
      "text/plain": [
       "count    6.000000e+04\n",
       "mean     1.522182e+04\n",
       "std      2.573820e+04\n",
       "min     -1.000000e+00\n",
       "25%      3.837000e+03\n",
       "50%      9.302500e+03\n",
       "75%      1.911800e+04\n",
       "max      1.950405e+06\n",
       "Name: ThirdParty_Info_Period1_13, dtype: float64"
      ]
     },
     "execution_count": 19,
     "metadata": {},
     "output_type": "execute_result"
    }
   ],
   "source": [
    "train_master['ThirdParty_Info_Period1_13'].describe()"
   ]
  },
  {
   "cell_type": "code",
   "execution_count": 20,
   "metadata": {},
   "outputs": [
    {
     "data": {
      "text/plain": [
       "(55850,)"
      ]
     },
     "execution_count": 20,
     "metadata": {},
     "output_type": "execute_result"
    }
   ],
   "source": [
    "train_master['ThirdParty_Info_Period1_13'][(train_master['ThirdParty_Info_Period1_13']<42039.5) & (train_master['ThirdParty_Info_Period1_13']>-1)].shape"
   ]
  },
  {
   "cell_type": "code",
   "execution_count": 21,
   "metadata": {},
   "outputs": [
    {
     "data": {
      "image/png": "[encoded data removed]",
      "text/plain": [
       "<Figure size 432x288 with 1 Axes>"
      ]
     },
     "metadata": {
      "needs_background": "light"
     },
     "output_type": "display_data"
    }
   ],
   "source": [
    "train_master['ThirdParty_Info_Period1_13'][(train_master['ThirdParty_Info_Period1_13']<42039.5) & (train_master['ThirdParty_Info_Period1_13']>-1)].plot.box()\n",
    "plt.grid(linestyle=\"--\", alpha=0.3)\n",
    "plt.show()"
   ]
  },
  {
   "cell_type": "code",
   "execution_count": 22,
   "metadata": {},
   "outputs": [
    {
     "data": {
      "image/png": "[encoded data removed]",
      "text/plain": [
       "<Figure size 432x288 with 1 Axes>"
      ]
     },
     "metadata": {
      "needs_background": "light"
     },
     "output_type": "display_data"
    }
   ],
   "source": [
    "train_master['WeblogInfo_6'].plot.box()\n",
    "plt.grid(linestyle=\"--\", alpha=0.3)\n",
    "plt.show()"
   ]
  },
  {
   "cell_type": "code",
   "execution_count": 23,
   "metadata": {},
   "outputs": [
    {
     "data": {
      "text/plain": [
       "count    56648.000000\n",
       "mean         2.946476\n",
       "std          3.641129\n",
       "min          1.000000\n",
       "25%          1.000000\n",
       "50%          2.000000\n",
       "75%          3.000000\n",
       "max        165.000000\n",
       "Name: WeblogInfo_6, dtype: float64"
      ]
     },
     "execution_count": 23,
     "metadata": {},
     "output_type": "execute_result"
    }
   ],
   "source": [
    "train_master['WeblogInfo_6'].describe()"
   ]
  },
  {
   "cell_type": "code",
   "execution_count": 24,
   "metadata": {},
   "outputs": [
    {
     "data": {
      "text/plain": [
       "(28197, 228)"
      ]
     },
     "execution_count": 24,
     "metadata": {},
     "output_type": "execute_result"
    }
   ],
   "source": [
    "train_master[(train_master['WeblogInfo_6']<6) & (train_master['WeblogInfo_6']>1)].shape"
   ]
  },
  {
   "cell_type": "code",
   "execution_count": 25,
   "metadata": {},
   "outputs": [
    {
     "data": {
      "image/png": "[encoded data removed]",
      "text/plain": [
       "<Figure size 432x288 with 1 Axes>"
      ]
     },
     "metadata": {
      "needs_background": "light"
     },
     "output_type": "display_data"
    }
   ],
   "source": [
    "train_master['WeblogInfo_3'][(train_master['WeblogInfo_3']<6) & (train_master['WeblogInfo_3']>1)].plot.box()\n",
    "plt.grid(linestyle=\"--\", alpha=0.3)\n",
    "plt.show()"
   ]
  },
  {
   "cell_type": "markdown",
   "metadata": {},
   "source": [
    "### Unify datetime"
   ]
  },
  {
   "cell_type": "code",
   "execution_count": 26,
   "metadata": {},
   "outputs": [
    {
     "data": {
      "text/plain": [
       "670"
      ]
     },
     "execution_count": 26,
     "metadata": {},
     "output_type": "execute_result"
    }
   ],
   "source": [
    "train_master['ListingInfo'].nunique()"
   ]
  },
  {
   "cell_type": "code",
   "execution_count": 27,
   "metadata": {},
   "outputs": [
    {
     "data": {
      "text/plain": [
       "339"
      ]
     },
     "execution_count": 27,
     "metadata": {},
     "output_type": "execute_result"
    }
   ],
   "source": [
    "train_master['ListingInfo'].astype('datetime64').astype('str').nunique()"
   ]
  },
  {
   "cell_type": "code",
   "execution_count": 28,
   "metadata": {},
   "outputs": [],
   "source": [
    "train_master['ListingInfo'] = train_master['ListingInfo'].astype('datetime64').astype('str')"
   ]
  },
  {
   "cell_type": "markdown",
   "metadata": {},
   "source": [
    "### Delete suffix of city name"
   ]
  },
  {
   "cell_type": "code",
   "execution_count": 29,
   "metadata": {},
   "outputs": [],
   "source": [
    "def delete_suffix_city(x):\n",
    "    if str(x) == 'nan' or x == '不详':\n",
    "        return 'None'\n",
    "    if len(x.split(\"、\")) == 1 and len(x.split(\" \")) == 1:\n",
    "        if x[-2:] == \"地区\":\n",
    "            x = x[:-2]\n",
    "        if x[-1] == \"市\":\n",
    "            x = x[:-1]\n",
    "    else:\n",
    "        x = \">1\"\n",
    "    return x\n",
    "train_master['UserInfo_2'] = train_master['UserInfo_2'].apply(delete_suffix_city)\n",
    "train_master['UserInfo_4'] = train_master['UserInfo_4'].apply(delete_suffix_city)\n",
    "train_master['UserInfo_8'] = train_master['UserInfo_8'].apply(delete_suffix_city)\n",
    "train_master['UserInfo_20'] = train_master['UserInfo_20'].apply(delete_suffix_city)"
   ]
  },
  {
   "cell_type": "markdown",
   "metadata": {},
   "source": [
    "### Deal with columns which have similar meanings"
   ]
  },
  {
   "cell_type": "code",
   "execution_count": 30,
   "metadata": {
    "scrolled": true
   },
   "outputs": [
    {
     "data": {
      "text/html": [
       "<div>\n",
       "<style scoped>\n",
       "    .dataframe tbody tr th:only-of-type {\n",
       "        vertical-align: middle;\n",
       "    }\n",
       "\n",
       "    .dataframe tbody tr th {\n",
       "        vertical-align: top;\n",
       "    }\n",
       "\n",
       "    .dataframe thead th {\n",
       "        text-align: right;\n",
       "    }\n",
       "</style>\n",
       "<table border=\"1\" class=\"dataframe\">\n",
       "  <thead>\n",
       "    <tr style=\"text-align: right;\">\n",
       "      <th></th>\n",
       "      <th>UserInfo_2</th>\n",
       "      <th>UserInfo_4</th>\n",
       "      <th>UserInfo_8</th>\n",
       "      <th>UserInfo_20</th>\n",
       "      <th>UserInfo_24</th>\n",
       "    </tr>\n",
       "  </thead>\n",
       "  <tbody>\n",
       "    <tr>\n",
       "      <th>0</th>\n",
       "      <td>深圳</td>\n",
       "      <td>深圳</td>\n",
       "      <td>深圳</td>\n",
       "      <td>南充</td>\n",
       "      <td>D</td>\n",
       "    </tr>\n",
       "    <tr>\n",
       "      <th>1</th>\n",
       "      <td>温州</td>\n",
       "      <td>温州</td>\n",
       "      <td>温州</td>\n",
       "      <td>None</td>\n",
       "      <td>D</td>\n",
       "    </tr>\n",
       "    <tr>\n",
       "      <th>2</th>\n",
       "      <td>宜昌</td>\n",
       "      <td>宜昌</td>\n",
       "      <td>宜昌</td>\n",
       "      <td>宜昌</td>\n",
       "      <td>D</td>\n",
       "    </tr>\n",
       "    <tr>\n",
       "      <th>3</th>\n",
       "      <td>南平</td>\n",
       "      <td>南平</td>\n",
       "      <td>南平</td>\n",
       "      <td>None</td>\n",
       "      <td>D</td>\n",
       "    </tr>\n",
       "    <tr>\n",
       "      <th>4</th>\n",
       "      <td>辽阳</td>\n",
       "      <td>辽阳</td>\n",
       "      <td>辽阳</td>\n",
       "      <td>锦州</td>\n",
       "      <td>D</td>\n",
       "    </tr>\n",
       "  </tbody>\n",
       "</table>\n",
       "</div>"
      ],
      "text/plain": [
       "  UserInfo_2 UserInfo_4 UserInfo_8 UserInfo_20 UserInfo_24\n",
       "0         深圳         深圳         深圳          南充           D\n",
       "1         温州         温州         温州        None           D\n",
       "2         宜昌         宜昌         宜昌          宜昌           D\n",
       "3         南平         南平         南平        None           D\n",
       "4         辽阳         辽阳         辽阳          锦州           D"
      ]
     },
     "execution_count": 30,
     "metadata": {},
     "output_type": "execute_result"
    }
   ],
   "source": [
    "train_master[['UserInfo_2','UserInfo_4', 'UserInfo_8', 'UserInfo_20', 'UserInfo_24']].head()"
   ]
  },
  {
   "cell_type": "markdown",
   "metadata": {},
   "source": [
    "**Map cities to responding provinces**"
   ]
  },
  {
   "cell_type": "code",
   "execution_count": 31,
   "metadata": {},
   "outputs": [],
   "source": [
    "China_map={\n",
    "'香港':['香港'],'澳门':['澳门'],'北京市':['北京市'],'天津市':['天津市'],'上海市':['上海市'],'重庆市':['重庆市'],\n",
    "'河北省':['石家庄市','唐山市','秦皇岛市','邯郸市','邢台市','保定市','张家口市','承德市','沧州市','廊坊市','衡水市'],\n",
    "'山西省':['太原市','大同市','阳泉市','长治市','晋城市','朔州市','晋中市','运城市','忻州市','临汾市','吕梁市'],\n",
    "'内蒙古自治区':['呼和浩特市','包头市','乌海市','赤峰市','通辽市','鄂尔多斯市','呼伦贝尔市','巴彦淖尔市','乌兰察布市','兴安盟','锡林郭勒盟','阿拉善盟','巴彦淖尔盟','乌兰察布盟','古包头市',\n",
    "         '集宁市'],\n",
    "'辽宁省':['沈阳市','大连市','鞍山市','抚顺市','本溪市','丹东市','锦州市','营口市','阜新市','辽阳市','盘锦市','铁岭市','朝阳市','葫芦岛市'],\n",
    "'吉林省':['长春市','吉林市','四平市','辽源市','通化市','白山市','松原市','白城市','延边朝鲜族自治州'],\n",
    "'黑龙江省':['哈尔滨市','齐齐哈尔市','鸡西市','鹤岗市','双鸭山市','大庆市','伊春市','佳木斯市','七台河市','牡丹江市','黑河市','绥化市','大兴安岭地区','大兴安岭市','延吉市'],\n",
    "'江苏省':['南京市','无锡市','徐州市','常州市','苏州市','南通市','连云港市','淮安市','盐城市','扬州市','镇江市','泰州市','宿迁市'],\n",
    "'浙江省':['杭州市','宁波市','温州市','嘉兴市','湖州市','绍兴市','金华市','衢州市','舟山市','台州市','丽水市'],\n",
    "'安徽省':['合肥市','芜湖市','蚌埠市','淮南市','马鞍山市','淮北市','铜陵市','安庆市','黄山市','滁州市','阜阳市','宿州市','六安市','亳州市','池州市','宣城市','巢湖市'],\n",
    "'福建省':['福州市','厦门市','莆田市','三明市','泉州市','漳州市','南平市','龙岩市','宁德市'],\n",
    "'江西省':['南昌市','景德镇市','萍乡市','九江市','新余市','鹰潭市','赣州市','吉安市','宜春市','抚州市','上饶市'],\n",
    "'山东省':['济南市','青岛市','淄博市','枣庄市','东营市','烟台市','潍坊市','济宁市','泰安市','威海市','日照市','莱芜市','临沂市','德州市','聊城市','滨州市','菏泽市'],\n",
    "'河南省':['郑州市','开封市','洛阳市','平顶山市','安阳市','鹤壁市','新乡市','焦作市','濮阳市','许昌市','漯河市','三门峡市','南阳市','商丘市','信阳市','周口市','驻马店市','济源市'],\n",
    "'湖北省':['武汉市','黄石市','十堰市','宜昌市','襄阳市','鄂州市','荆门市','孝感市','荆州市','黄冈市','咸宁市','随州市','恩施土家族苗族自治州','恩施市','襄樊市','江汉市'],\n",
    "'湖南省':['长沙市','株洲市','湘潭市','衡阳市','邵阳市','岳阳市','常德市','张家界市','益阳市','郴州市','永州市','怀化市','娄底市','湘西土家族苗族自治州'],\n",
    "'广东省':['广州市','韶关市','深圳市','珠海市','汕头市','佛山市','江门市','湛江市','茂名市','肇庆市','惠州市','梅州市',\n",
    "'汕尾市','河源市','阳江市','清远市','东莞市','中山市','潮州市','揭阳市','云浮市'],\n",
    "'广西壮族自治区':['南宁市','柳州市','桂林市','梧州市','北海市','防城港市','钦州市','贵港市','玉林市','百色市','贺州市','河池市','来宾市','崇左市'],\n",
    "'四川省':['成都市','自贡市','攀枝花市','泸州市','德阳市','绵阳市','广元市','遂宁市','内江市','乐山市','南充市','眉山市',\n",
    "'宜宾市','广安市','达州市','雅安市','巴中市','资阳市','阿坝藏族羌族自治州','甘孜藏族自治州','凉山彝族自治州','黔江市','万州市'],\n",
    "'贵州省':['贵阳市','六盘水市','遵义市','安顺市','毕节市','铜仁市','黔西南布依族苗族自治州','黔东南苗族侗族自治州','黔南布依族苗族自治州','黔南市','黔西南市','黔东南市','都匀市','兴义市',\n",
    "      '凯里市'],\n",
    "'云南省':['昆明市','曲靖市','玉溪市','保山市','昭通市','丽江市','普洱市','临沧市','楚雄彝族自治州','红河哈尼族彝族自治州',\n",
    "'文山壮族苗族自治州','西双版纳傣族自治州','大理白族自治州','德宏傣族景颇族自治州','怒江傈僳族自治州','迪庆藏族自治州','凉山市','红河市','德宏市','楚雄市','文山市'],\n",
    "'陕西省':['西安市','铜川市','宝鸡市','咸阳市','渭南市','延安市','汉中市','榆林市','安康市','商洛市'],\n",
    "'甘肃省':['兰州市','嘉峪关市','金昌市','白银市','天水市','武威市','张掖市','平凉市','酒泉市','庆阳市','定西市','陇南市','临夏回族自治州','甘南藏族自治州'],\n",
    "'青海省':['西宁市','海东市','海北藏族自治州','黄南藏族自治州','海南藏族自治州','果洛藏族自治州','玉树藏族自治州','海西蒙古族藏族自治州'],\n",
    "'宁夏回族自治区':['银川市','石嘴山市','吴忠市','固原市','中卫市'],'海南省':['海口市','三亚市','三沙市','儋州市'],\n",
    "'西藏自治区':['拉萨市','日喀则市','昌都市','林芝市','山南市','那曲市','阿里地区','迪庆市'],\n",
    "'新疆维吾尔自治区':['乌鲁木齐市','克拉玛依市','吐鲁番市','哈密市','昌吉回族自治州','博尔塔拉蒙古自治州','巴音郭楞蒙古自治州',\n",
    "'阿克苏地区','克孜勒苏柯尔克孜自治州','喀什地区','和田地区','伊犁哈萨克自治州','塔城地区','阿勒泰地区','阿克苏市','喀什市','石河子市','和田市','伊犁市','塔城地区市','喀什地区市']\n",
    "}"
   ]
  },
  {
   "cell_type": "code",
   "execution_count": 32,
   "metadata": {},
   "outputs": [],
   "source": [
    "def findProvince(x):\n",
    "    if x[-1] == \"省\":\n",
    "        return x\n",
    "    if x[-2:] != '地区' and not (len(x) > 3 and x[-3:] == \"自治州\") and not x[-1] == '市' and x != \"None\" and not (len(x) > 2 and x[-1] == \"盟\"):\n",
    "        x += \"市\"\n",
    "    for i, j in China_map.items():\n",
    "        if x in j:\n",
    "            return i\n",
    "    return x"
   ]
  },
  {
   "cell_type": "code",
   "execution_count": 33,
   "metadata": {},
   "outputs": [],
   "source": [
    "train_master['UserInfo_2'] = train_master['UserInfo_2'].fillna(\"None\")\n",
    "train_master['UserInfo_2_to_province'] = train_master['UserInfo_2'].apply(findProvince)\n",
    "train_master['UserInfo_4'] = train_master['UserInfo_4'].fillna(\"None\")\n",
    "train_master['UserInfo_4_to_province'] = train_master['UserInfo_4'].apply(findProvince)"
   ]
  },
  {
   "cell_type": "markdown",
   "metadata": {},
   "source": [
    "### Default rate of each province"
   ]
  },
  {
   "cell_type": "code",
   "execution_count": 34,
   "metadata": {},
   "outputs": [
    {
     "data": {
      "text/html": [
       "<div>\n",
       "<style scoped>\n",
       "    .dataframe tbody tr th:only-of-type {\n",
       "        vertical-align: middle;\n",
       "    }\n",
       "\n",
       "    .dataframe tbody tr th {\n",
       "        vertical-align: top;\n",
       "    }\n",
       "\n",
       "    .dataframe thead th {\n",
       "        text-align: right;\n",
       "    }\n",
       "</style>\n",
       "<table border=\"1\" class=\"dataframe\">\n",
       "  <thead>\n",
       "    <tr style=\"text-align: right;\">\n",
       "      <th></th>\n",
       "      <th>target</th>\n",
       "    </tr>\n",
       "    <tr>\n",
       "      <th>UserInfo_4_to_province</th>\n",
       "      <th></th>\n",
       "    </tr>\n",
       "  </thead>\n",
       "  <tbody>\n",
       "    <tr>\n",
       "      <th>上海市</th>\n",
       "      <td>0.065527</td>\n",
       "    </tr>\n",
       "    <tr>\n",
       "      <th>云南省</th>\n",
       "      <td>0.048713</td>\n",
       "    </tr>\n",
       "    <tr>\n",
       "      <th>内蒙古自治区</th>\n",
       "      <td>0.046729</td>\n",
       "    </tr>\n",
       "    <tr>\n",
       "      <th>北京市</th>\n",
       "      <td>0.072464</td>\n",
       "    </tr>\n",
       "    <tr>\n",
       "      <th>吉林省</th>\n",
       "      <td>0.102439</td>\n",
       "    </tr>\n",
       "  </tbody>\n",
       "</table>\n",
       "</div>"
      ],
      "text/plain": [
       "                          target\n",
       "UserInfo_4_to_province          \n",
       "上海市                     0.065527\n",
       "云南省                     0.048713\n",
       "内蒙古自治区                  0.046729\n",
       "北京市                     0.072464\n",
       "吉林省                     0.102439"
      ]
     },
     "execution_count": 34,
     "metadata": {},
     "output_type": "execute_result"
    }
   ],
   "source": [
    "tmp_df = train_master[(train_master['UserInfo_2_to_province']==train_master['UserInfo_4_to_province'])&(train_master['UserInfo_4_to_province']==train_master['UserInfo_19'])&(train_master['UserInfo_2_to_province']==train_master['UserInfo_19'])]\n",
    "province_default_df = tmp_df[['UserInfo_4_to_province','target']].groupby(\"UserInfo_4_to_province\").sum()/tmp_df[['UserInfo_4_to_province','target']].groupby(\"UserInfo_4_to_province\").count()\n",
    "province_default_df.head()"
   ]
  },
  {
   "cell_type": "code",
   "execution_count": 36,
   "metadata": {},
   "outputs": [],
   "source": [
    "provinces = ['上海','云南','内蒙古','北京','吉林','四川','天津','宁夏','安徽','山东','山西','广东','广西','新疆','江苏'\n",
    "    ,'江西','河北','河南','浙江','海南','湖北','湖南','甘肃','福建','西藏','贵州','辽宁','重庆','陕西','青海','黑龙江']"
   ]
  },
  {
   "cell_type": "code",
   "execution_count": 37,
   "metadata": {},
   "outputs": [
    {
     "data": {
      "text/plain": [
       "defaultdict(list,\n",
       "            {'上海': 0.06552706552706553,\n",
       "             '云南': 0.04871323529411765,\n",
       "             '内蒙古': 0.04672897196261682,\n",
       "             '北京': 0.07246376811594203,\n",
       "             '吉林': 0.1024390243902439,\n",
       "             '四川': 0.10832544938505204,\n",
       "             '天津': 0.14492753623188406,\n",
       "             '宁夏': 0.05371900826446281,\n",
       "             '安徽': 0.07846715328467153,\n",
       "             '山东': 0.11127857322280833,\n",
       "             '山西': 0.06010568031704095,\n",
       "             '广东': 0.067853170189099,\n",
       "             '广西': 0.04605678233438486,\n",
       "             '新疆': 0.047058823529411764,\n",
       "             '江苏': 0.0795415074678708,\n",
       "             '江西': 0.0831858407079646,\n",
       "             '河北': 0.08535242290748898,\n",
       "             '河南': 0.067578125,\n",
       "             '浙江': 0.059901338971106416,\n",
       "             '海南': 0.08582089552238806,\n",
       "             '湖北': 0.08978328173374613,\n",
       "             '湖南': 0.10098039215686275,\n",
       "             '甘肃': 0.05611510791366906,\n",
       "             '福建': 0.06042764177254416,\n",
       "             '西藏': 0.0,\n",
       "             '贵州': 0.046826222684703434,\n",
       "             '辽宁': 0.09466911764705882,\n",
       "             '重庆': 0.09853249475890985,\n",
       "             '陕西': 0.0673469387755102,\n",
       "             '青海': 0.04,\n",
       "             '黑龙江': 0.07497467071935157})"
      ]
     },
     "execution_count": 37,
     "metadata": {},
     "output_type": "execute_result"
    }
   ],
   "source": [
    "province_default_dict = collections.defaultdict(list)\n",
    "j = 0\n",
    "for i in province_default_df.index:\n",
    "    if i[:2] in provinces:\n",
    "        province_default_dict[i[:2]] = province_default_df.iloc[j].values[0]\n",
    "    if i[:3] in provinces:\n",
    "        province_default_dict[i[:3]] = province_default_df.iloc[j].values[0]\n",
    "    j+=1\n",
    "province_default_dict"
   ]
  },
  {
   "cell_type": "code",
   "execution_count": 38,
   "metadata": {},
   "outputs": [
    {
     "ename": "NameError",
     "evalue": "name 'Map' is not defined",
     "output_type": "error",
     "traceback": [
      "\u001b[0;31m---------------------------------------------------------------------------\u001b[0m",
      "\u001b[0;31mNameError\u001b[0m                                 Traceback (most recent call last)",
      "\u001b[0;32m<ipython-input-38-fe42a4f635c9>\u001b[0m in \u001b[0;36m<module>\u001b[0;34m\u001b[0m\n\u001b[1;32m      3\u001b[0m \u001b[0mvalues\u001b[0m\u001b[0;34m=\u001b[0m\u001b[0mlist\u001b[0m\u001b[0;34m(\u001b[0m\u001b[0mprovince_distribution\u001b[0m\u001b[0;34m.\u001b[0m\u001b[0mvalues\u001b[0m\u001b[0;34m(\u001b[0m\u001b[0;34m)\u001b[0m\u001b[0;34m)\u001b[0m\u001b[0;34m\u001b[0m\u001b[0;34m\u001b[0m\u001b[0m\n\u001b[1;32m      4\u001b[0m \u001b[0;34m\u001b[0m\u001b[0m\n\u001b[0;32m----> 5\u001b[0;31m \u001b[0mmap\u001b[0m \u001b[0;34m=\u001b[0m \u001b[0mMap\u001b[0m\u001b[0;34m(\u001b[0m\u001b[0;34m\"Default rate of each province\"\u001b[0m\u001b[0;34m,\u001b[0m\u001b[0;34m'Map of China'\u001b[0m\u001b[0;34m,\u001b[0m \u001b[0mwidth\u001b[0m\u001b[0;34m=\u001b[0m\u001b[0;36m1200\u001b[0m\u001b[0;34m,\u001b[0m \u001b[0mheight\u001b[0m\u001b[0;34m=\u001b[0m\u001b[0;36m600\u001b[0m\u001b[0;34m)\u001b[0m\u001b[0;34m\u001b[0m\u001b[0;34m\u001b[0m\u001b[0m\n\u001b[0m\u001b[1;32m      6\u001b[0m map.add(\"\", province, values, visual_range=[0, max(province_default_dict.values())],  maptype='china', is_visualmap=True,\n\u001b[1;32m      7\u001b[0m     visual_text_color='#000')\n",
      "\u001b[0;31mNameError\u001b[0m: name 'Map' is not defined"
     ]
    }
   ],
   "source": [
    "province_distribution = province_default_dict\n",
    "province=list(province_distribution.keys())\n",
    "values=list(province_distribution.values())\n",
    "\n",
    "map = Map(\"Default rate of each province\",'Map of China', width=1200, height=600)\n",
    "map.add(\"\", province, values, visual_range=[0, max(province_default_dict.values())],  maptype='china', is_visualmap=True,\n",
    "    visual_text_color='#000')\n",
    "# map.show_config()\n",
    "map.render(path=\"DefaultRateOfEachProvince.html\")\n",
    "map"
   ]
  },
  {
   "cell_type": "markdown",
   "metadata": {},
   "source": [
    "### External data\n",
    "- GDP(\"https://zh.wikipedia.org/wiki/%E4%B8%AD%E5%8D%8E%E4%BA%BA%E6%B0%91%E5%85%B1%E5%92%8C%E5%9B%BD%E7%9C%81%E7%BA%A7%E8%A1%8C%E6%94%BF%E5%8C%BA%E5%9C%B0%E5%8C%BA%E7%94%9F%E4%BA%A7%E6%80%BB%E5%80%BC%E5%88%97%E8%A1%A8\")"
   ]
  },
  {
   "cell_type": "code",
   "execution_count": 68,
   "metadata": {
    "scrolled": true
   },
   "outputs": [
    {
     "data": {
      "text/html": [
       "<div>\n",
       "<style scoped>\n",
       "    .dataframe tbody tr th:only-of-type {\n",
       "        vertical-align: middle;\n",
       "    }\n",
       "\n",
       "    .dataframe tbody tr th {\n",
       "        vertical-align: top;\n",
       "    }\n",
       "\n",
       "    .dataframe thead th {\n",
       "        text-align: right;\n",
       "    }\n",
       "</style>\n",
       "<table border=\"1\" class=\"dataframe\">\n",
       "  <thead>\n",
       "    <tr style=\"text-align: right;\">\n",
       "      <th></th>\n",
       "      <th>Provinces</th>\n",
       "      <th>GDP</th>\n",
       "    </tr>\n",
       "  </thead>\n",
       "  <tbody>\n",
       "    <tr>\n",
       "      <th>0</th>\n",
       "      <td>广东</td>\n",
       "      <td>1103.89</td>\n",
       "    </tr>\n",
       "    <tr>\n",
       "      <th>1</th>\n",
       "      <td>江苏</td>\n",
       "      <td>1059.59</td>\n",
       "    </tr>\n",
       "    <tr>\n",
       "      <th>2</th>\n",
       "      <td>山东</td>\n",
       "      <td>967.42</td>\n",
       "    </tr>\n",
       "    <tr>\n",
       "      <th>3</th>\n",
       "      <td>浙江</td>\n",
       "      <td>653.99</td>\n",
       "    </tr>\n",
       "    <tr>\n",
       "      <th>4</th>\n",
       "      <td>河南</td>\n",
       "      <td>568.77</td>\n",
       "    </tr>\n",
       "  </tbody>\n",
       "</table>\n",
       "</div>"
      ],
      "text/plain": [
       "  Provinces      GDP\n",
       "0        广东  1103.89\n",
       "1        江苏  1059.59\n",
       "2        山东   967.42\n",
       "3        浙江   653.99\n",
       "4        河南   568.77"
      ]
     },
     "execution_count": 68,
     "metadata": {},
     "output_type": "execute_result"
    }
   ],
   "source": [
    "gdp_df = pd.read_csv(\"GDP.csv\")[['Provinces', 'GDP']]\n",
    "gdp_df.head()"
   ]
  },
  {
   "cell_type": "code",
   "execution_count": 69,
   "metadata": {},
   "outputs": [
    {
     "data": {
      "text/plain": [
       "defaultdict(list,\n",
       "            {'广东': 1103.89,\n",
       "             '江苏': 1059.59,\n",
       "             '山东': 967.42,\n",
       "             '浙江': 653.99,\n",
       "             '河南': 568.77,\n",
       "             '四川': 464.56,\n",
       "             '湖北': 445.71,\n",
       "             '河北': 478.95,\n",
       "             '湖南': 440.15,\n",
       "             '福建': 391.61,\n",
       "             '上海': 383.66,\n",
       "             '北京': 347.25,\n",
       "             '安徽': 339.4,\n",
       "             '辽宁': 466.02,\n",
       "             '陕西': 287.98,\n",
       "             '江西': 255.82,\n",
       "             '天津': 256.02,\n",
       "             '广西': 255.14,\n",
       "             '云南': 208.61,\n",
       "             '内蒙古': 289.29,\n",
       "             '黑龙江': 244.83,\n",
       "             '山西': 207.75,\n",
       "             '吉林': 224.7,\n",
       "             '贵州': 150.85,\n",
       "             '新疆': 150.97,\n",
       "             '甘肃': 111.3,\n",
       "             '海南': 56.99,\n",
       "             '宁夏': 44.8,\n",
       "             '青海': 37.5,\n",
       "             '西藏': 14.99,\n",
       "             '重庆': 380.1})"
      ]
     },
     "execution_count": 69,
     "metadata": {},
     "output_type": "execute_result"
    }
   ],
   "source": [
    "province_gdp_dict = collections.defaultdict(list)\n",
    "j = 0\n",
    "for i in gdp_df.index:\n",
    "    province_gdp_dict[gdp_df.iloc[i][\"Provinces\"]] = gdp_df.iloc[i][\"GDP\"]\n",
    "    j+=1\n",
    "province_gdp_dict"
   ]
  },
  {
   "cell_type": "code",
   "execution_count": 70,
   "metadata": {},
   "outputs": [
    {
     "ename": "NameError",
     "evalue": "name 'Map' is not defined",
     "output_type": "error",
     "traceback": [
      "\u001b[0;31m---------------------------------------------------------------------------\u001b[0m",
      "\u001b[0;31mNameError\u001b[0m                                 Traceback (most recent call last)",
      "\u001b[0;32m<ipython-input-70-4a448902419e>\u001b[0m in \u001b[0;36m<module>\u001b[0;34m\u001b[0m\n\u001b[1;32m      3\u001b[0m \u001b[0mvalues\u001b[0m \u001b[0;34m=\u001b[0m \u001b[0mlist\u001b[0m\u001b[0;34m(\u001b[0m\u001b[0mprovince_gdp_distribution\u001b[0m\u001b[0;34m.\u001b[0m\u001b[0mvalues\u001b[0m\u001b[0;34m(\u001b[0m\u001b[0;34m)\u001b[0m\u001b[0;34m)\u001b[0m\u001b[0;34m\u001b[0m\u001b[0;34m\u001b[0m\u001b[0m\n\u001b[1;32m      4\u001b[0m \u001b[0;34m\u001b[0m\u001b[0m\n\u001b[0;32m----> 5\u001b[0;31m \u001b[0mmap\u001b[0m \u001b[0;34m=\u001b[0m \u001b[0mMap\u001b[0m\u001b[0;34m(\u001b[0m\u001b[0;34m\"GDP per capita of each province\"\u001b[0m\u001b[0;34m,\u001b[0m\u001b[0;34m'Map of China'\u001b[0m\u001b[0;34m,\u001b[0m \u001b[0mwidth\u001b[0m\u001b[0;34m=\u001b[0m\u001b[0;36m1200\u001b[0m\u001b[0;34m,\u001b[0m \u001b[0mheight\u001b[0m\u001b[0;34m=\u001b[0m\u001b[0;36m600\u001b[0m\u001b[0;34m)\u001b[0m\u001b[0;34m\u001b[0m\u001b[0;34m\u001b[0m\u001b[0m\n\u001b[0m\u001b[1;32m      6\u001b[0m map.add(\"\", province, values, visual_range=[min(province_gdp_dict.values()), max(province_gdp_dict.values())],  maptype='china', is_visualmap=True,\n\u001b[1;32m      7\u001b[0m     visual_text_color='#000')\n",
      "\u001b[0;31mNameError\u001b[0m: name 'Map' is not defined"
     ]
    }
   ],
   "source": [
    "province_gdp_distribution = province_gdp_dict\n",
    "province = list(province_gdp_distribution.keys())\n",
    "values = list(province_gdp_distribution.values())\n",
    "\n",
    "map = Map(\"GDP per capita of each province\",'Map of China', width=1200, height=600)\n",
    "map.add(\"\", province, values, visual_range=[min(province_gdp_dict.values()), max(province_gdp_dict.values())],  maptype='china', is_visualmap=True,\n",
    "    visual_text_color='#000')\n",
    "# map.show_config()\n",
    "map.render(path=\"GdpPerCapitaOfEachProvince.html\")\n",
    "map"
   ]
  },
  {
   "cell_type": "markdown",
   "metadata": {},
   "source": [
    "### Deal with same meaning observations"
   ]
  },
  {
   "cell_type": "code",
   "execution_count": 40,
   "metadata": {},
   "outputs": [
    {
     "data": {
      "text/plain": [
       "array(['D', '未婚', '已婚', '不详', '离婚', '再婚', '初婚', '丧偶', '复婚'], dtype=object)"
      ]
     },
     "execution_count": 40,
     "metadata": {},
     "output_type": "execute_result"
    }
   ],
   "source": [
    "train_master['UserInfo_22'].unique()"
   ]
  },
  {
   "cell_type": "markdown",
   "metadata": {},
   "source": [
    "** Merge 'D' and '不详' ('Unknown')**"
   ]
  },
  {
   "cell_type": "code",
   "execution_count": 41,
   "metadata": {},
   "outputs": [
    {
     "data": {
      "text/plain": [
       "array(['None', '未婚', '已婚', '离婚', '再婚', '初婚', '丧偶', '复婚'], dtype=object)"
      ]
     },
     "execution_count": 41,
     "metadata": {},
     "output_type": "execute_result"
    }
   ],
   "source": [
    "def status_marriage(x):\n",
    "    if x == 'D' or x == '不详':\n",
    "        return 'None'\n",
    "    return x\n",
    "train_master['UserInfo_22'] = train_master['UserInfo_22'].apply(status_marriage)\n",
    "train_master['UserInfo_22'].unique()"
   ]
  },
  {
   "cell_type": "code",
   "execution_count": null,
   "metadata": {},
   "outputs": [],
   "source": [
    "# for feature in train_master.columns:\n",
    "#     if train_master[feature].dtype != 'int64' and train_master[feature].dtype != 'float64':\n",
    "#         print(feature, train_master[feature].dtype, train_master[feature].unique())"
   ]
  },
  {
   "cell_type": "markdown",
   "metadata": {},
   "source": [
    "**Strip blank**"
   ]
  },
  {
   "cell_type": "code",
   "execution_count": 42,
   "metadata": {},
   "outputs": [
    {
     "data": {
      "text/plain": [
       "array(['中国移动 ', '中国电信 ', '不详', '中国联通 ', '中国联通', '中国电信', '中国移动'],\n",
       "      dtype=object)"
      ]
     },
     "execution_count": 42,
     "metadata": {},
     "output_type": "execute_result"
    }
   ],
   "source": [
    "train_master['UserInfo_9'].unique()"
   ]
  },
  {
   "cell_type": "code",
   "execution_count": 43,
   "metadata": {},
   "outputs": [
    {
     "data": {
      "text/plain": [
       "array(['中国移动', '中国电信', '不详', '中国联通'], dtype=object)"
      ]
     },
     "execution_count": 43,
     "metadata": {},
     "output_type": "execute_result"
    }
   ],
   "source": [
    "train_master['UserInfo_9'] = train_master['UserInfo_9'].str.strip()\n",
    "train_master['UserInfo_9'].unique()"
   ]
  },
  {
   "cell_type": "markdown",
   "metadata": {},
   "source": [
    "# Feature generation"
   ]
  },
  {
   "cell_type": "markdown",
   "metadata": {},
   "source": [
    "## loginfo dataset"
   ]
  },
  {
   "cell_type": "code",
   "execution_count": 44,
   "metadata": {
    "scrolled": true
   },
   "outputs": [
    {
     "data": {
      "text/html": [
       "<div>\n",
       "<style scoped>\n",
       "    .dataframe tbody tr th:only-of-type {\n",
       "        vertical-align: middle;\n",
       "    }\n",
       "\n",
       "    .dataframe tbody tr th {\n",
       "        vertical-align: top;\n",
       "    }\n",
       "\n",
       "    .dataframe thead th {\n",
       "        text-align: right;\n",
       "    }\n",
       "</style>\n",
       "<table border=\"1\" class=\"dataframe\">\n",
       "  <thead>\n",
       "    <tr style=\"text-align: right;\">\n",
       "      <th></th>\n",
       "      <th>Idx</th>\n",
       "      <th>Listinginfo1</th>\n",
       "      <th>LogInfo1</th>\n",
       "      <th>LogInfo2</th>\n",
       "      <th>LogInfo3</th>\n",
       "    </tr>\n",
       "  </thead>\n",
       "  <tbody>\n",
       "    <tr>\n",
       "      <th>0</th>\n",
       "      <td>10001</td>\n",
       "      <td>2014-03-05</td>\n",
       "      <td>107</td>\n",
       "      <td>6</td>\n",
       "      <td>2014-02-20</td>\n",
       "    </tr>\n",
       "    <tr>\n",
       "      <th>1</th>\n",
       "      <td>10001</td>\n",
       "      <td>2014-03-05</td>\n",
       "      <td>107</td>\n",
       "      <td>6</td>\n",
       "      <td>2014-02-23</td>\n",
       "    </tr>\n",
       "    <tr>\n",
       "      <th>2</th>\n",
       "      <td>10001</td>\n",
       "      <td>2014-03-05</td>\n",
       "      <td>107</td>\n",
       "      <td>6</td>\n",
       "      <td>2014-02-24</td>\n",
       "    </tr>\n",
       "    <tr>\n",
       "      <th>3</th>\n",
       "      <td>10001</td>\n",
       "      <td>2014-03-05</td>\n",
       "      <td>107</td>\n",
       "      <td>6</td>\n",
       "      <td>2014-02-25</td>\n",
       "    </tr>\n",
       "    <tr>\n",
       "      <th>4</th>\n",
       "      <td>10001</td>\n",
       "      <td>2014-03-05</td>\n",
       "      <td>107</td>\n",
       "      <td>6</td>\n",
       "      <td>2014-02-27</td>\n",
       "    </tr>\n",
       "  </tbody>\n",
       "</table>\n",
       "</div>"
      ],
      "text/plain": [
       "     Idx Listinginfo1  LogInfo1  LogInfo2    LogInfo3\n",
       "0  10001   2014-03-05       107         6  2014-02-20\n",
       "1  10001   2014-03-05       107         6  2014-02-23\n",
       "2  10001   2014-03-05       107         6  2014-02-24\n",
       "3  10001   2014-03-05       107         6  2014-02-25\n",
       "4  10001   2014-03-05       107         6  2014-02-27"
      ]
     },
     "execution_count": 44,
     "metadata": {},
     "output_type": "execute_result"
    }
   ],
   "source": [
    "train_loginfo.head()"
   ]
  },
  {
   "cell_type": "code",
   "execution_count": 45,
   "metadata": {},
   "outputs": [],
   "source": [
    "train_loginfo['Listinginfo1'] = train_loginfo['Listinginfo1'].astype('datetime64')\n",
    "train_loginfo['LogInfo3'] = train_loginfo['LogInfo3'].astype('datetime64')"
   ]
  },
  {
   "cell_type": "markdown",
   "metadata": {},
   "source": [
    "### number_of_train_loginfo"
   ]
  },
  {
   "cell_type": "code",
   "execution_count": 46,
   "metadata": {},
   "outputs": [
    {
     "data": {
      "text/html": [
       "<div>\n",
       "<style scoped>\n",
       "    .dataframe tbody tr th:only-of-type {\n",
       "        vertical-align: middle;\n",
       "    }\n",
       "\n",
       "    .dataframe tbody tr th {\n",
       "        vertical-align: top;\n",
       "    }\n",
       "\n",
       "    .dataframe thead th {\n",
       "        text-align: right;\n",
       "    }\n",
       "</style>\n",
       "<table border=\"1\" class=\"dataframe\">\n",
       "  <thead>\n",
       "    <tr style=\"text-align: right;\">\n",
       "      <th></th>\n",
       "      <th>number_of_train_loginfo</th>\n",
       "    </tr>\n",
       "    <tr>\n",
       "      <th>Idx</th>\n",
       "      <th></th>\n",
       "    </tr>\n",
       "  </thead>\n",
       "  <tbody>\n",
       "    <tr>\n",
       "      <th>86155</th>\n",
       "      <td>1959</td>\n",
       "    </tr>\n",
       "    <tr>\n",
       "      <th>44451</th>\n",
       "      <td>1957</td>\n",
       "    </tr>\n",
       "    <tr>\n",
       "      <th>60899</th>\n",
       "      <td>1869</td>\n",
       "    </tr>\n",
       "    <tr>\n",
       "      <th>76291</th>\n",
       "      <td>1292</td>\n",
       "    </tr>\n",
       "    <tr>\n",
       "      <th>12671</th>\n",
       "      <td>1262</td>\n",
       "    </tr>\n",
       "  </tbody>\n",
       "</table>\n",
       "</div>"
      ],
      "text/plain": [
       "       number_of_train_loginfo\n",
       "Idx                           \n",
       "86155                     1959\n",
       "44451                     1957\n",
       "60899                     1869\n",
       "76291                     1292\n",
       "12671                     1262"
      ]
     },
     "execution_count": 46,
     "metadata": {},
     "output_type": "execute_result"
    }
   ],
   "source": [
    "number_of_train_loginfo_df = train_loginfo['Idx'].value_counts().to_frame(name=\"number_of_train_loginfo\")\n",
    "number_of_train_loginfo_df.index.name = 'Idx'\n",
    "number_of_train_loginfo_df.head()"
   ]
  },
  {
   "cell_type": "markdown",
   "metadata": {},
   "source": [
    "### LogInfo3"
   ]
  },
  {
   "cell_type": "markdown",
   "metadata": {},
   "source": [
    "#### For each Idx, latest loginfo3 date"
   ]
  },
  {
   "cell_type": "code",
   "execution_count": 47,
   "metadata": {},
   "outputs": [
    {
     "data": {
      "text/html": [
       "<div>\n",
       "<style scoped>\n",
       "    .dataframe tbody tr th:only-of-type {\n",
       "        vertical-align: middle;\n",
       "    }\n",
       "\n",
       "    .dataframe tbody tr th {\n",
       "        vertical-align: top;\n",
       "    }\n",
       "\n",
       "    .dataframe thead th {\n",
       "        text-align: right;\n",
       "    }\n",
       "</style>\n",
       "<table border=\"1\" class=\"dataframe\">\n",
       "  <thead>\n",
       "    <tr style=\"text-align: right;\">\n",
       "      <th></th>\n",
       "      <th>train_loginfo3_max</th>\n",
       "    </tr>\n",
       "    <tr>\n",
       "      <th>Idx</th>\n",
       "      <th></th>\n",
       "    </tr>\n",
       "  </thead>\n",
       "  <tbody>\n",
       "    <tr>\n",
       "      <th>3</th>\n",
       "      <td>2013-11-01</td>\n",
       "    </tr>\n",
       "    <tr>\n",
       "      <th>5</th>\n",
       "      <td>2013-11-06</td>\n",
       "    </tr>\n",
       "    <tr>\n",
       "      <th>6</th>\n",
       "      <td>2013-11-01</td>\n",
       "    </tr>\n",
       "    <tr>\n",
       "      <th>8</th>\n",
       "      <td>2013-11-06</td>\n",
       "    </tr>\n",
       "    <tr>\n",
       "      <th>9</th>\n",
       "      <td>2013-11-04</td>\n",
       "    </tr>\n",
       "  </tbody>\n",
       "</table>\n",
       "</div>"
      ],
      "text/plain": [
       "    train_loginfo3_max\n",
       "Idx                   \n",
       "3           2013-11-01\n",
       "5           2013-11-06\n",
       "6           2013-11-01\n",
       "8           2013-11-06\n",
       "9           2013-11-04"
      ]
     },
     "execution_count": 47,
     "metadata": {},
     "output_type": "execute_result"
    }
   ],
   "source": [
    "train_loginfo3_max_df = train_loginfo.groupby('Idx')['LogInfo3'].max().to_frame(name=\"train_loginfo3_max\")\n",
    "train_loginfo3_max_df.head()"
   ]
  },
  {
   "cell_type": "markdown",
   "metadata": {},
   "source": [
    "#### For each Idx, earlest loginfo3 date"
   ]
  },
  {
   "cell_type": "code",
   "execution_count": 49,
   "metadata": {},
   "outputs": [
    {
     "data": {
      "text/html": [
       "<div>\n",
       "<style scoped>\n",
       "    .dataframe tbody tr th:only-of-type {\n",
       "        vertical-align: middle;\n",
       "    }\n",
       "\n",
       "    .dataframe tbody tr th {\n",
       "        vertical-align: top;\n",
       "    }\n",
       "\n",
       "    .dataframe thead th {\n",
       "        text-align: right;\n",
       "    }\n",
       "</style>\n",
       "<table border=\"1\" class=\"dataframe\">\n",
       "  <thead>\n",
       "    <tr style=\"text-align: right;\">\n",
       "      <th></th>\n",
       "      <th>train_loginfo3_min</th>\n",
       "    </tr>\n",
       "    <tr>\n",
       "      <th>Idx</th>\n",
       "      <th></th>\n",
       "    </tr>\n",
       "  </thead>\n",
       "  <tbody>\n",
       "    <tr>\n",
       "      <th>3</th>\n",
       "      <td>2013-08-30</td>\n",
       "    </tr>\n",
       "    <tr>\n",
       "      <th>5</th>\n",
       "      <td>2013-10-24</td>\n",
       "    </tr>\n",
       "    <tr>\n",
       "      <th>6</th>\n",
       "      <td>2013-10-14</td>\n",
       "    </tr>\n",
       "    <tr>\n",
       "      <th>8</th>\n",
       "      <td>2013-10-25</td>\n",
       "    </tr>\n",
       "    <tr>\n",
       "      <th>9</th>\n",
       "      <td>2013-10-26</td>\n",
       "    </tr>\n",
       "  </tbody>\n",
       "</table>\n",
       "</div>"
      ],
      "text/plain": [
       "    train_loginfo3_min\n",
       "Idx                   \n",
       "3           2013-08-30\n",
       "5           2013-10-24\n",
       "6           2013-10-14\n",
       "8           2013-10-25\n",
       "9           2013-10-26"
      ]
     },
     "execution_count": 49,
     "metadata": {},
     "output_type": "execute_result"
    }
   ],
   "source": [
    "train_loginfo3_min_df = train_loginfo.groupby('Idx')['LogInfo3'].min().to_frame(name=\"train_loginfo3_min\")\n",
    "train_loginfo3_min_df.head()"
   ]
  },
  {
   "cell_type": "markdown",
   "metadata": {},
   "source": [
    "#### For each Idx, date difference between earliest loginfo3 date and latest loginfo3 date"
   ]
  },
  {
   "cell_type": "code",
   "execution_count": 48,
   "metadata": {},
   "outputs": [
    {
     "data": {
      "text/html": [
       "<div>\n",
       "<style scoped>\n",
       "    .dataframe tbody tr th:only-of-type {\n",
       "        vertical-align: middle;\n",
       "    }\n",
       "\n",
       "    .dataframe tbody tr th {\n",
       "        vertical-align: top;\n",
       "    }\n",
       "\n",
       "    .dataframe thead th {\n",
       "        text-align: right;\n",
       "    }\n",
       "</style>\n",
       "<table border=\"1\" class=\"dataframe\">\n",
       "  <thead>\n",
       "    <tr style=\"text-align: right;\">\n",
       "      <th></th>\n",
       "      <th>train_loginfo3_max_min_diff</th>\n",
       "    </tr>\n",
       "    <tr>\n",
       "      <th>Idx</th>\n",
       "      <th></th>\n",
       "    </tr>\n",
       "  </thead>\n",
       "  <tbody>\n",
       "    <tr>\n",
       "      <th>3</th>\n",
       "      <td>63</td>\n",
       "    </tr>\n",
       "    <tr>\n",
       "      <th>5</th>\n",
       "      <td>13</td>\n",
       "    </tr>\n",
       "    <tr>\n",
       "      <th>6</th>\n",
       "      <td>18</td>\n",
       "    </tr>\n",
       "    <tr>\n",
       "      <th>8</th>\n",
       "      <td>12</td>\n",
       "    </tr>\n",
       "    <tr>\n",
       "      <th>9</th>\n",
       "      <td>9</td>\n",
       "    </tr>\n",
       "  </tbody>\n",
       "</table>\n",
       "</div>"
      ],
      "text/plain": [
       "     train_loginfo3_max_min_diff\n",
       "Idx                             \n",
       "3                             63\n",
       "5                             13\n",
       "6                             18\n",
       "8                             12\n",
       "9                              9"
      ]
     },
     "execution_count": 48,
     "metadata": {},
     "output_type": "execute_result"
    }
   ],
   "source": [
    "diff = (train_loginfo.groupby('Idx')['LogInfo3'].max()-train_loginfo.groupby('Idx')['LogInfo3'].min()).map(lambda x: x.days)\n",
    "train_loginfo3_max_min_diff_df = diff.to_frame(name=\"train_loginfo3_max_min_diff\")\n",
    "train_loginfo3_max_min_diff_df.head()"
   ]
  },
  {
   "cell_type": "markdown",
   "metadata": {},
   "source": [
    "#### For each Idx, loginfo3 frequency"
   ]
  },
  {
   "cell_type": "code",
   "execution_count": 50,
   "metadata": {},
   "outputs": [
    {
     "data": {
      "text/html": [
       "<div>\n",
       "<style scoped>\n",
       "    .dataframe tbody tr th:only-of-type {\n",
       "        vertical-align: middle;\n",
       "    }\n",
       "\n",
       "    .dataframe tbody tr th {\n",
       "        vertical-align: top;\n",
       "    }\n",
       "\n",
       "    .dataframe thead th {\n",
       "        text-align: right;\n",
       "    }\n",
       "</style>\n",
       "<table border=\"1\" class=\"dataframe\">\n",
       "  <thead>\n",
       "    <tr style=\"text-align: right;\">\n",
       "      <th></th>\n",
       "      <th>freq_loginfo3</th>\n",
       "    </tr>\n",
       "    <tr>\n",
       "      <th>Idx</th>\n",
       "      <th></th>\n",
       "    </tr>\n",
       "  </thead>\n",
       "  <tbody>\n",
       "    <tr>\n",
       "      <th>86155</th>\n",
       "      <td>1.95</td>\n",
       "    </tr>\n",
       "    <tr>\n",
       "      <th>44451</th>\n",
       "      <td>177.91</td>\n",
       "    </tr>\n",
       "    <tr>\n",
       "      <th>60899</th>\n",
       "      <td>16.11</td>\n",
       "    </tr>\n",
       "    <tr>\n",
       "      <th>76291</th>\n",
       "      <td>3.26</td>\n",
       "    </tr>\n",
       "    <tr>\n",
       "      <th>12671</th>\n",
       "      <td>7.60</td>\n",
       "    </tr>\n",
       "  </tbody>\n",
       "</table>\n",
       "</div>"
      ],
      "text/plain": [
       "       freq_loginfo3\n",
       "Idx                 \n",
       "86155           1.95\n",
       "44451         177.91\n",
       "60899          16.11\n",
       "76291           3.26\n",
       "12671           7.60"
      ]
     },
     "execution_count": 50,
     "metadata": {},
     "output_type": "execute_result"
    }
   ],
   "source": [
    "# frequency decimal is 2; set inf to 1\n",
    "freq_df = number_of_train_loginfo_df.merge(train_loginfo3_max_min_diff_df, left_index=True, right_index=True, how='inner')\n",
    "freq_df['freq_loginfo3'] = freq_df['number_of_train_loginfo']/freq_df['train_loginfo3_max_min_diff']\n",
    "freq_df.drop(columns=['number_of_train_loginfo', 'train_loginfo3_max_min_diff'], inplace = True)\n",
    "freq_df = freq_df.round(2)\n",
    "freq_df = freq_df['freq_loginfo3'].map(lambda x: 1 if x == float('inf') else x).to_frame(name=\"freq_loginfo3\")\n",
    "freq_df.index.name = 'Idx'\n",
    "freq_df.head()"
   ]
  },
  {
   "cell_type": "markdown",
   "metadata": {},
   "source": [
    "#### For each Idx, number of loginfo1"
   ]
  },
  {
   "cell_type": "code",
   "execution_count": 51,
   "metadata": {},
   "outputs": [
    {
     "data": {
      "text/html": [
       "<div>\n",
       "<style scoped>\n",
       "    .dataframe tbody tr th:only-of-type {\n",
       "        vertical-align: middle;\n",
       "    }\n",
       "\n",
       "    .dataframe tbody tr th {\n",
       "        vertical-align: top;\n",
       "    }\n",
       "\n",
       "    .dataframe thead th {\n",
       "        text-align: right;\n",
       "    }\n",
       "</style>\n",
       "<table border=\"1\" class=\"dataframe\">\n",
       "  <thead>\n",
       "    <tr style=\"text-align: right;\">\n",
       "      <th></th>\n",
       "      <th>#LogInfo1</th>\n",
       "    </tr>\n",
       "    <tr>\n",
       "      <th>Idx</th>\n",
       "      <th></th>\n",
       "    </tr>\n",
       "  </thead>\n",
       "  <tbody>\n",
       "    <tr>\n",
       "      <th>3</th>\n",
       "      <td>4</td>\n",
       "    </tr>\n",
       "    <tr>\n",
       "      <th>5</th>\n",
       "      <td>6</td>\n",
       "    </tr>\n",
       "    <tr>\n",
       "      <th>6</th>\n",
       "      <td>4</td>\n",
       "    </tr>\n",
       "    <tr>\n",
       "      <th>8</th>\n",
       "      <td>7</td>\n",
       "    </tr>\n",
       "    <tr>\n",
       "      <th>9</th>\n",
       "      <td>4</td>\n",
       "    </tr>\n",
       "  </tbody>\n",
       "</table>\n",
       "</div>"
      ],
      "text/plain": [
       "     #LogInfo1\n",
       "Idx           \n",
       "3            4\n",
       "5            6\n",
       "6            4\n",
       "8            7\n",
       "9            4"
      ]
     },
     "execution_count": 51,
     "metadata": {},
     "output_type": "execute_result"
    }
   ],
   "source": [
    "num_LogInfo1_df = train_loginfo.groupby('Idx')['LogInfo1'].nunique().to_frame(name = '#LogInfo1')\n",
    "num_LogInfo1_df.head()"
   ]
  },
  {
   "cell_type": "markdown",
   "metadata": {},
   "source": [
    "#### For each Idx, number of loginfo2"
   ]
  },
  {
   "cell_type": "code",
   "execution_count": 52,
   "metadata": {},
   "outputs": [
    {
     "data": {
      "text/html": [
       "<div>\n",
       "<style scoped>\n",
       "    .dataframe tbody tr th:only-of-type {\n",
       "        vertical-align: middle;\n",
       "    }\n",
       "\n",
       "    .dataframe tbody tr th {\n",
       "        vertical-align: top;\n",
       "    }\n",
       "\n",
       "    .dataframe thead th {\n",
       "        text-align: right;\n",
       "    }\n",
       "</style>\n",
       "<table border=\"1\" class=\"dataframe\">\n",
       "  <thead>\n",
       "    <tr style=\"text-align: right;\">\n",
       "      <th></th>\n",
       "      <th>#LogInfo2</th>\n",
       "    </tr>\n",
       "    <tr>\n",
       "      <th>Idx</th>\n",
       "      <th></th>\n",
       "    </tr>\n",
       "  </thead>\n",
       "  <tbody>\n",
       "    <tr>\n",
       "      <th>3</th>\n",
       "      <td>6</td>\n",
       "    </tr>\n",
       "    <tr>\n",
       "      <th>5</th>\n",
       "      <td>5</td>\n",
       "    </tr>\n",
       "    <tr>\n",
       "      <th>6</th>\n",
       "      <td>6</td>\n",
       "    </tr>\n",
       "    <tr>\n",
       "      <th>8</th>\n",
       "      <td>7</td>\n",
       "    </tr>\n",
       "    <tr>\n",
       "      <th>9</th>\n",
       "      <td>4</td>\n",
       "    </tr>\n",
       "  </tbody>\n",
       "</table>\n",
       "</div>"
      ],
      "text/plain": [
       "     #LogInfo2\n",
       "Idx           \n",
       "3            6\n",
       "5            5\n",
       "6            6\n",
       "8            7\n",
       "9            4"
      ]
     },
     "execution_count": 52,
     "metadata": {},
     "output_type": "execute_result"
    }
   ],
   "source": [
    "num_LogInfo2_df = train_loginfo.groupby('Idx')['LogInfo2'].nunique().to_frame(name = '#LogInfo2')\n",
    "num_LogInfo2_df.head()"
   ]
  },
  {
   "cell_type": "markdown",
   "metadata": {},
   "source": [
    "#### All new dfs in train_loginfo"
   ]
  },
  {
   "cell_type": "code",
   "execution_count": 53,
   "metadata": {},
   "outputs": [
    {
     "data": {
      "text/html": [
       "<div>\n",
       "<style scoped>\n",
       "    .dataframe tbody tr th:only-of-type {\n",
       "        vertical-align: middle;\n",
       "    }\n",
       "\n",
       "    .dataframe tbody tr th {\n",
       "        vertical-align: top;\n",
       "    }\n",
       "\n",
       "    .dataframe thead th {\n",
       "        text-align: right;\n",
       "    }\n",
       "</style>\n",
       "<table border=\"1\" class=\"dataframe\">\n",
       "  <thead>\n",
       "    <tr style=\"text-align: right;\">\n",
       "      <th></th>\n",
       "      <th>number_of_train_loginfo</th>\n",
       "      <th>train_loginfo3_max_min_diff</th>\n",
       "      <th>freq_loginfo3</th>\n",
       "      <th>#LogInfo1</th>\n",
       "      <th>#LogInfo2</th>\n",
       "    </tr>\n",
       "    <tr>\n",
       "      <th>Idx</th>\n",
       "      <th></th>\n",
       "      <th></th>\n",
       "      <th></th>\n",
       "      <th></th>\n",
       "      <th></th>\n",
       "    </tr>\n",
       "  </thead>\n",
       "  <tbody>\n",
       "    <tr>\n",
       "      <th>86155</th>\n",
       "      <td>1959</td>\n",
       "      <td>1003</td>\n",
       "      <td>1.95</td>\n",
       "      <td>8</td>\n",
       "      <td>10</td>\n",
       "    </tr>\n",
       "    <tr>\n",
       "      <th>44451</th>\n",
       "      <td>1957</td>\n",
       "      <td>11</td>\n",
       "      <td>177.91</td>\n",
       "      <td>6</td>\n",
       "      <td>6</td>\n",
       "    </tr>\n",
       "    <tr>\n",
       "      <th>60899</th>\n",
       "      <td>1869</td>\n",
       "      <td>116</td>\n",
       "      <td>16.11</td>\n",
       "      <td>6</td>\n",
       "      <td>9</td>\n",
       "    </tr>\n",
       "    <tr>\n",
       "      <th>76291</th>\n",
       "      <td>1292</td>\n",
       "      <td>396</td>\n",
       "      <td>3.26</td>\n",
       "      <td>12</td>\n",
       "      <td>10</td>\n",
       "    </tr>\n",
       "    <tr>\n",
       "      <th>12671</th>\n",
       "      <td>1262</td>\n",
       "      <td>166</td>\n",
       "      <td>7.60</td>\n",
       "      <td>6</td>\n",
       "      <td>11</td>\n",
       "    </tr>\n",
       "  </tbody>\n",
       "</table>\n",
       "</div>"
      ],
      "text/plain": [
       "       number_of_train_loginfo  train_loginfo3_max_min_diff  freq_loginfo3  \\\n",
       "Idx                                                                          \n",
       "86155                     1959                         1003           1.95   \n",
       "44451                     1957                           11         177.91   \n",
       "60899                     1869                          116          16.11   \n",
       "76291                     1292                          396           3.26   \n",
       "12671                     1262                          166           7.60   \n",
       "\n",
       "       #LogInfo1  #LogInfo2  \n",
       "Idx                          \n",
       "86155          8         10  \n",
       "44451          6          6  \n",
       "60899          6          9  \n",
       "76291         12         10  \n",
       "12671          6         11  "
      ]
     },
     "execution_count": 53,
     "metadata": {},
     "output_type": "execute_result"
    }
   ],
   "source": [
    "dfs = [number_of_train_loginfo_df, train_loginfo3_max_min_diff_df, freq_df,num_LogInfo1_df,num_LogInfo2_df]\n",
    "train_loginfo_final = reduce(lambda left,right: pd.merge(left,right,on='Idx'), dfs)\n",
    "train_loginfo_final.head()"
   ]
  },
  {
   "cell_type": "markdown",
   "metadata": {},
   "source": [
    "## Userupdate_Info dataset"
   ]
  },
  {
   "cell_type": "code",
   "execution_count": 54,
   "metadata": {},
   "outputs": [
    {
     "data": {
      "text/html": [
       "<div>\n",
       "<style scoped>\n",
       "    .dataframe tbody tr th:only-of-type {\n",
       "        vertical-align: middle;\n",
       "    }\n",
       "\n",
       "    .dataframe tbody tr th {\n",
       "        vertical-align: top;\n",
       "    }\n",
       "\n",
       "    .dataframe thead th {\n",
       "        text-align: right;\n",
       "    }\n",
       "</style>\n",
       "<table border=\"1\" class=\"dataframe\">\n",
       "  <thead>\n",
       "    <tr style=\"text-align: right;\">\n",
       "      <th></th>\n",
       "      <th>Idx</th>\n",
       "      <th>ListingInfo1</th>\n",
       "      <th>UserupdateInfo1</th>\n",
       "      <th>UserupdateInfo2</th>\n",
       "    </tr>\n",
       "  </thead>\n",
       "  <tbody>\n",
       "    <tr>\n",
       "      <th>0</th>\n",
       "      <td>10001</td>\n",
       "      <td>2014/03/05</td>\n",
       "      <td>_EducationId</td>\n",
       "      <td>2014/02/20</td>\n",
       "    </tr>\n",
       "    <tr>\n",
       "      <th>1</th>\n",
       "      <td>10001</td>\n",
       "      <td>2014/03/05</td>\n",
       "      <td>_HasBuyCar</td>\n",
       "      <td>2014/02/20</td>\n",
       "    </tr>\n",
       "    <tr>\n",
       "      <th>2</th>\n",
       "      <td>10001</td>\n",
       "      <td>2014/03/05</td>\n",
       "      <td>_LastUpdateDate</td>\n",
       "      <td>2014/02/20</td>\n",
       "    </tr>\n",
       "    <tr>\n",
       "      <th>3</th>\n",
       "      <td>10001</td>\n",
       "      <td>2014/03/05</td>\n",
       "      <td>_MarriageStatusId</td>\n",
       "      <td>2014/02/20</td>\n",
       "    </tr>\n",
       "    <tr>\n",
       "      <th>4</th>\n",
       "      <td>10001</td>\n",
       "      <td>2014/03/05</td>\n",
       "      <td>_MobilePhone</td>\n",
       "      <td>2014/02/20</td>\n",
       "    </tr>\n",
       "  </tbody>\n",
       "</table>\n",
       "</div>"
      ],
      "text/plain": [
       "     Idx ListingInfo1    UserupdateInfo1 UserupdateInfo2\n",
       "0  10001   2014/03/05       _EducationId      2014/02/20\n",
       "1  10001   2014/03/05         _HasBuyCar      2014/02/20\n",
       "2  10001   2014/03/05    _LastUpdateDate      2014/02/20\n",
       "3  10001   2014/03/05  _MarriageStatusId      2014/02/20\n",
       "4  10001   2014/03/05       _MobilePhone      2014/02/20"
      ]
     },
     "execution_count": 54,
     "metadata": {},
     "output_type": "execute_result"
    }
   ],
   "source": [
    "train_userinfo.head()"
   ]
  },
  {
   "cell_type": "markdown",
   "metadata": {},
   "source": [
    "### Lowercase letters"
   ]
  },
  {
   "cell_type": "code",
   "execution_count": 55,
   "metadata": {},
   "outputs": [
    {
     "data": {
      "text/plain": [
       "87"
      ]
     },
     "execution_count": 55,
     "metadata": {},
     "output_type": "execute_result"
    }
   ],
   "source": [
    "train_userinfo[\"UserupdateInfo1\"].nunique()"
   ]
  },
  {
   "cell_type": "code",
   "execution_count": 56,
   "metadata": {},
   "outputs": [
    {
     "data": {
      "text/plain": [
       "55"
      ]
     },
     "execution_count": 56,
     "metadata": {},
     "output_type": "execute_result"
    }
   ],
   "source": [
    "train_userinfo[\"UserupdateInfo1\"] = train_userinfo[\"UserupdateInfo1\"].map(lambda x: x.lower())\n",
    "train_userinfo[\"UserupdateInfo1\"].nunique()"
   ]
  },
  {
   "cell_type": "markdown",
   "metadata": {},
   "source": [
    "### Make datatime columns transfered to datetime"
   ]
  },
  {
   "cell_type": "code",
   "execution_count": 57,
   "metadata": {},
   "outputs": [],
   "source": [
    "train_userinfo['ListingInfo1'] = train_userinfo['ListingInfo1'].astype('datetime64')\n",
    "train_userinfo['UserupdateInfo2'] = train_userinfo['UserupdateInfo2'].astype('datetime64')"
   ]
  },
  {
   "cell_type": "markdown",
   "metadata": {},
   "source": [
    "### number_of_train_loginfo"
   ]
  },
  {
   "cell_type": "code",
   "execution_count": 58,
   "metadata": {},
   "outputs": [
    {
     "data": {
      "text/html": [
       "<div>\n",
       "<style scoped>\n",
       "    .dataframe tbody tr th:only-of-type {\n",
       "        vertical-align: middle;\n",
       "    }\n",
       "\n",
       "    .dataframe tbody tr th {\n",
       "        vertical-align: top;\n",
       "    }\n",
       "\n",
       "    .dataframe thead th {\n",
       "        text-align: right;\n",
       "    }\n",
       "</style>\n",
       "<table border=\"1\" class=\"dataframe\">\n",
       "  <thead>\n",
       "    <tr style=\"text-align: right;\">\n",
       "      <th></th>\n",
       "      <th>number_of_train_userinfo</th>\n",
       "    </tr>\n",
       "    <tr>\n",
       "      <th>Idx</th>\n",
       "      <th></th>\n",
       "    </tr>\n",
       "  </thead>\n",
       "  <tbody>\n",
       "    <tr>\n",
       "      <th>10648</th>\n",
       "      <td>156</td>\n",
       "    </tr>\n",
       "    <tr>\n",
       "      <th>27749</th>\n",
       "      <td>99</td>\n",
       "    </tr>\n",
       "    <tr>\n",
       "      <th>2192</th>\n",
       "      <td>93</td>\n",
       "    </tr>\n",
       "    <tr>\n",
       "      <th>1533</th>\n",
       "      <td>89</td>\n",
       "    </tr>\n",
       "    <tr>\n",
       "      <th>27419</th>\n",
       "      <td>88</td>\n",
       "    </tr>\n",
       "  </tbody>\n",
       "</table>\n",
       "</div>"
      ],
      "text/plain": [
       "       number_of_train_userinfo\n",
       "Idx                            \n",
       "10648                       156\n",
       "27749                        99\n",
       "2192                         93\n",
       "1533                         89\n",
       "27419                        88"
      ]
     },
     "execution_count": 58,
     "metadata": {},
     "output_type": "execute_result"
    }
   ],
   "source": [
    "number_of_train_userinfo_df = train_userinfo['Idx'].value_counts().to_frame(name=\"number_of_train_userinfo\")\n",
    "number_of_train_userinfo_df.index.name = 'Idx'\n",
    "number_of_train_userinfo_df.head()"
   ]
  },
  {
   "cell_type": "markdown",
   "metadata": {},
   "source": [
    "### For each Idx, latest and earlest UserupdateInfo2 date"
   ]
  },
  {
   "cell_type": "code",
   "execution_count": 59,
   "metadata": {},
   "outputs": [
    {
     "data": {
      "text/html": [
       "<div>\n",
       "<style scoped>\n",
       "    .dataframe tbody tr th:only-of-type {\n",
       "        vertical-align: middle;\n",
       "    }\n",
       "\n",
       "    .dataframe tbody tr th {\n",
       "        vertical-align: top;\n",
       "    }\n",
       "\n",
       "    .dataframe thead th {\n",
       "        text-align: right;\n",
       "    }\n",
       "</style>\n",
       "<table border=\"1\" class=\"dataframe\">\n",
       "  <thead>\n",
       "    <tr style=\"text-align: right;\">\n",
       "      <th></th>\n",
       "      <th>train_UserupdateInfo2_max</th>\n",
       "    </tr>\n",
       "    <tr>\n",
       "      <th>Idx</th>\n",
       "      <th></th>\n",
       "    </tr>\n",
       "  </thead>\n",
       "  <tbody>\n",
       "    <tr>\n",
       "      <th>3</th>\n",
       "      <td>2013-08-30</td>\n",
       "    </tr>\n",
       "    <tr>\n",
       "      <th>5</th>\n",
       "      <td>2013-10-24</td>\n",
       "    </tr>\n",
       "    <tr>\n",
       "      <th>6</th>\n",
       "      <td>2013-10-14</td>\n",
       "    </tr>\n",
       "    <tr>\n",
       "      <th>8</th>\n",
       "      <td>2013-11-04</td>\n",
       "    </tr>\n",
       "    <tr>\n",
       "      <th>9</th>\n",
       "      <td>2013-11-04</td>\n",
       "    </tr>\n",
       "  </tbody>\n",
       "</table>\n",
       "</div>"
      ],
      "text/plain": [
       "    train_UserupdateInfo2_max\n",
       "Idx                          \n",
       "3                  2013-08-30\n",
       "5                  2013-10-24\n",
       "6                  2013-10-14\n",
       "8                  2013-11-04\n",
       "9                  2013-11-04"
      ]
     },
     "execution_count": 59,
     "metadata": {},
     "output_type": "execute_result"
    }
   ],
   "source": [
    "train_UserupdateInfo2_max_df = train_userinfo.groupby('Idx')['UserupdateInfo2'].max().to_frame(name=\"train_UserupdateInfo2_max\")\n",
    "train_UserupdateInfo2_max_df.head()"
   ]
  },
  {
   "cell_type": "code",
   "execution_count": 60,
   "metadata": {},
   "outputs": [
    {
     "data": {
      "text/html": [
       "<div>\n",
       "<style scoped>\n",
       "    .dataframe tbody tr th:only-of-type {\n",
       "        vertical-align: middle;\n",
       "    }\n",
       "\n",
       "    .dataframe tbody tr th {\n",
       "        vertical-align: top;\n",
       "    }\n",
       "\n",
       "    .dataframe thead th {\n",
       "        text-align: right;\n",
       "    }\n",
       "</style>\n",
       "<table border=\"1\" class=\"dataframe\">\n",
       "  <thead>\n",
       "    <tr style=\"text-align: right;\">\n",
       "      <th></th>\n",
       "      <th>train_UserupdateInfo2_min</th>\n",
       "    </tr>\n",
       "    <tr>\n",
       "      <th>Idx</th>\n",
       "      <th></th>\n",
       "    </tr>\n",
       "  </thead>\n",
       "  <tbody>\n",
       "    <tr>\n",
       "      <th>3</th>\n",
       "      <td>2013-08-30</td>\n",
       "    </tr>\n",
       "    <tr>\n",
       "      <th>5</th>\n",
       "      <td>2013-10-24</td>\n",
       "    </tr>\n",
       "    <tr>\n",
       "      <th>6</th>\n",
       "      <td>2013-10-14</td>\n",
       "    </tr>\n",
       "    <tr>\n",
       "      <th>8</th>\n",
       "      <td>2013-10-25</td>\n",
       "    </tr>\n",
       "    <tr>\n",
       "      <th>9</th>\n",
       "      <td>2013-10-26</td>\n",
       "    </tr>\n",
       "  </tbody>\n",
       "</table>\n",
       "</div>"
      ],
      "text/plain": [
       "    train_UserupdateInfo2_min\n",
       "Idx                          \n",
       "3                  2013-08-30\n",
       "5                  2013-10-24\n",
       "6                  2013-10-14\n",
       "8                  2013-10-25\n",
       "9                  2013-10-26"
      ]
     },
     "execution_count": 60,
     "metadata": {},
     "output_type": "execute_result"
    }
   ],
   "source": [
    "train_UserupdateInfo2_min_df = train_userinfo.groupby('Idx')['UserupdateInfo2'].min().to_frame(name=\"train_UserupdateInfo2_min\")\n",
    "train_UserupdateInfo2_min_df.head()"
   ]
  },
  {
   "cell_type": "markdown",
   "metadata": {},
   "source": [
    "### For each Idx, date difference between earlest loginfo3 date and latest loginfo3 date"
   ]
  },
  {
   "cell_type": "code",
   "execution_count": 61,
   "metadata": {},
   "outputs": [
    {
     "data": {
      "text/html": [
       "<div>\n",
       "<style scoped>\n",
       "    .dataframe tbody tr th:only-of-type {\n",
       "        vertical-align: middle;\n",
       "    }\n",
       "\n",
       "    .dataframe tbody tr th {\n",
       "        vertical-align: top;\n",
       "    }\n",
       "\n",
       "    .dataframe thead th {\n",
       "        text-align: right;\n",
       "    }\n",
       "</style>\n",
       "<table border=\"1\" class=\"dataframe\">\n",
       "  <thead>\n",
       "    <tr style=\"text-align: right;\">\n",
       "      <th></th>\n",
       "      <th>train_userinfo_max_min_diff</th>\n",
       "    </tr>\n",
       "    <tr>\n",
       "      <th>Idx</th>\n",
       "      <th></th>\n",
       "    </tr>\n",
       "  </thead>\n",
       "  <tbody>\n",
       "    <tr>\n",
       "      <th>3</th>\n",
       "      <td>0</td>\n",
       "    </tr>\n",
       "    <tr>\n",
       "      <th>5</th>\n",
       "      <td>0</td>\n",
       "    </tr>\n",
       "    <tr>\n",
       "      <th>6</th>\n",
       "      <td>0</td>\n",
       "    </tr>\n",
       "    <tr>\n",
       "      <th>8</th>\n",
       "      <td>10</td>\n",
       "    </tr>\n",
       "    <tr>\n",
       "      <th>9</th>\n",
       "      <td>9</td>\n",
       "    </tr>\n",
       "  </tbody>\n",
       "</table>\n",
       "</div>"
      ],
      "text/plain": [
       "     train_userinfo_max_min_diff\n",
       "Idx                             \n",
       "3                              0\n",
       "5                              0\n",
       "6                              0\n",
       "8                             10\n",
       "9                              9"
      ]
     },
     "execution_count": 61,
     "metadata": {},
     "output_type": "execute_result"
    }
   ],
   "source": [
    "diff = (train_userinfo.groupby('Idx')['UserupdateInfo2'].max()-train_userinfo.groupby('Idx')['UserupdateInfo2'].min()).map(lambda x: x.days)\n",
    "train_userinfo_max_min_diff_df = diff.to_frame(name=\"train_userinfo_max_min_diff\")\n",
    "train_userinfo_max_min_diff_df.head()"
   ]
  },
  {
   "cell_type": "markdown",
   "metadata": {},
   "source": [
    "### Frequency"
   ]
  },
  {
   "cell_type": "code",
   "execution_count": 62,
   "metadata": {},
   "outputs": [
    {
     "data": {
      "text/html": [
       "<div>\n",
       "<style scoped>\n",
       "    .dataframe tbody tr th:only-of-type {\n",
       "        vertical-align: middle;\n",
       "    }\n",
       "\n",
       "    .dataframe tbody tr th {\n",
       "        vertical-align: top;\n",
       "    }\n",
       "\n",
       "    .dataframe thead th {\n",
       "        text-align: right;\n",
       "    }\n",
       "</style>\n",
       "<table border=\"1\" class=\"dataframe\">\n",
       "  <thead>\n",
       "    <tr style=\"text-align: right;\">\n",
       "      <th></th>\n",
       "      <th>freq_userinfo</th>\n",
       "    </tr>\n",
       "    <tr>\n",
       "      <th>Idx</th>\n",
       "      <th></th>\n",
       "    </tr>\n",
       "  </thead>\n",
       "  <tbody>\n",
       "    <tr>\n",
       "      <th>10648</th>\n",
       "      <td>1.51</td>\n",
       "    </tr>\n",
       "    <tr>\n",
       "      <th>27749</th>\n",
       "      <td>11.00</td>\n",
       "    </tr>\n",
       "    <tr>\n",
       "      <th>2192</th>\n",
       "      <td>1.00</td>\n",
       "    </tr>\n",
       "    <tr>\n",
       "      <th>1533</th>\n",
       "      <td>12.71</td>\n",
       "    </tr>\n",
       "    <tr>\n",
       "      <th>27419</th>\n",
       "      <td>0.24</td>\n",
       "    </tr>\n",
       "  </tbody>\n",
       "</table>\n",
       "</div>"
      ],
      "text/plain": [
       "       freq_userinfo\n",
       "Idx                 \n",
       "10648           1.51\n",
       "27749          11.00\n",
       "2192            1.00\n",
       "1533           12.71\n",
       "27419           0.24"
      ]
     },
     "execution_count": 62,
     "metadata": {},
     "output_type": "execute_result"
    }
   ],
   "source": [
    "# frequency decimal is 2; set inf to 1\n",
    "freq_user_df = number_of_train_userinfo_df.merge(train_userinfo_max_min_diff_df, left_index=True, right_index=True, how='inner')\n",
    "freq_user_df['freq_userinfo'] = freq_user_df['number_of_train_userinfo']/freq_user_df['train_userinfo_max_min_diff']\n",
    "freq_user_df.drop(columns=['number_of_train_userinfo', 'train_userinfo_max_min_diff'], inplace = True)\n",
    "freq_user_df = freq_user_df.round(2)\n",
    "freq_user_df = freq_user_df['freq_userinfo'].map(lambda x: 1 if x == float('inf') else x).to_frame(name=\"freq_userinfo\")\n",
    "freq_user_df.index.name = 'Idx'\n",
    "freq_user_df.head()"
   ]
  },
  {
   "cell_type": "markdown",
   "metadata": {},
   "source": [
    "### For each idx, number of UserupdateInfo1"
   ]
  },
  {
   "cell_type": "code",
   "execution_count": 63,
   "metadata": {},
   "outputs": [
    {
     "data": {
      "text/html": [
       "<div>\n",
       "<style scoped>\n",
       "    .dataframe tbody tr th:only-of-type {\n",
       "        vertical-align: middle;\n",
       "    }\n",
       "\n",
       "    .dataframe tbody tr th {\n",
       "        vertical-align: top;\n",
       "    }\n",
       "\n",
       "    .dataframe thead th {\n",
       "        text-align: right;\n",
       "    }\n",
       "</style>\n",
       "<table border=\"1\" class=\"dataframe\">\n",
       "  <thead>\n",
       "    <tr style=\"text-align: right;\">\n",
       "      <th></th>\n",
       "      <th>#UserupdateInfo1</th>\n",
       "    </tr>\n",
       "    <tr>\n",
       "      <th>Idx</th>\n",
       "      <th></th>\n",
       "    </tr>\n",
       "  </thead>\n",
       "  <tbody>\n",
       "    <tr>\n",
       "      <th>3</th>\n",
       "      <td>11</td>\n",
       "    </tr>\n",
       "    <tr>\n",
       "      <th>5</th>\n",
       "      <td>11</td>\n",
       "    </tr>\n",
       "    <tr>\n",
       "      <th>6</th>\n",
       "      <td>11</td>\n",
       "    </tr>\n",
       "    <tr>\n",
       "      <th>8</th>\n",
       "      <td>11</td>\n",
       "    </tr>\n",
       "    <tr>\n",
       "      <th>9</th>\n",
       "      <td>13</td>\n",
       "    </tr>\n",
       "  </tbody>\n",
       "</table>\n",
       "</div>"
      ],
      "text/plain": [
       "     #UserupdateInfo1\n",
       "Idx                  \n",
       "3                  11\n",
       "5                  11\n",
       "6                  11\n",
       "8                  11\n",
       "9                  13"
      ]
     },
     "execution_count": 63,
     "metadata": {},
     "output_type": "execute_result"
    }
   ],
   "source": [
    "num_UserupdateInfo1_df = train_userinfo.groupby('Idx')['UserupdateInfo1'].nunique().to_frame(name = '#UserupdateInfo1')\n",
    "num_UserupdateInfo1_df.head()"
   ]
  },
  {
   "cell_type": "markdown",
   "metadata": {},
   "source": [
    "### All new dfs in train_userinfo"
   ]
  },
  {
   "cell_type": "code",
   "execution_count": 64,
   "metadata": {},
   "outputs": [
    {
     "data": {
      "text/html": [
       "<div>\n",
       "<style scoped>\n",
       "    .dataframe tbody tr th:only-of-type {\n",
       "        vertical-align: middle;\n",
       "    }\n",
       "\n",
       "    .dataframe tbody tr th {\n",
       "        vertical-align: top;\n",
       "    }\n",
       "\n",
       "    .dataframe thead th {\n",
       "        text-align: right;\n",
       "    }\n",
       "</style>\n",
       "<table border=\"1\" class=\"dataframe\">\n",
       "  <thead>\n",
       "    <tr style=\"text-align: right;\">\n",
       "      <th></th>\n",
       "      <th>number_of_train_userinfo</th>\n",
       "      <th>train_userinfo_max_min_diff</th>\n",
       "      <th>freq_userinfo</th>\n",
       "      <th>#UserupdateInfo1</th>\n",
       "    </tr>\n",
       "    <tr>\n",
       "      <th>Idx</th>\n",
       "      <th></th>\n",
       "      <th></th>\n",
       "      <th></th>\n",
       "      <th></th>\n",
       "    </tr>\n",
       "  </thead>\n",
       "  <tbody>\n",
       "    <tr>\n",
       "      <th>10648</th>\n",
       "      <td>156</td>\n",
       "      <td>103</td>\n",
       "      <td>1.51</td>\n",
       "      <td>15</td>\n",
       "    </tr>\n",
       "    <tr>\n",
       "      <th>27749</th>\n",
       "      <td>99</td>\n",
       "      <td>9</td>\n",
       "      <td>11.00</td>\n",
       "      <td>13</td>\n",
       "    </tr>\n",
       "    <tr>\n",
       "      <th>2192</th>\n",
       "      <td>93</td>\n",
       "      <td>0</td>\n",
       "      <td>1.00</td>\n",
       "      <td>12</td>\n",
       "    </tr>\n",
       "    <tr>\n",
       "      <th>1533</th>\n",
       "      <td>89</td>\n",
       "      <td>7</td>\n",
       "      <td>12.71</td>\n",
       "      <td>12</td>\n",
       "    </tr>\n",
       "    <tr>\n",
       "      <th>27419</th>\n",
       "      <td>88</td>\n",
       "      <td>365</td>\n",
       "      <td>0.24</td>\n",
       "      <td>21</td>\n",
       "    </tr>\n",
       "  </tbody>\n",
       "</table>\n",
       "</div>"
      ],
      "text/plain": [
       "       number_of_train_userinfo  train_userinfo_max_min_diff  freq_userinfo  \\\n",
       "Idx                                                                           \n",
       "10648                       156                          103           1.51   \n",
       "27749                        99                            9          11.00   \n",
       "2192                         93                            0           1.00   \n",
       "1533                         89                            7          12.71   \n",
       "27419                        88                          365           0.24   \n",
       "\n",
       "       #UserupdateInfo1  \n",
       "Idx                      \n",
       "10648                15  \n",
       "27749                13  \n",
       "2192                 12  \n",
       "1533                 12  \n",
       "27419                21  "
      ]
     },
     "execution_count": 64,
     "metadata": {},
     "output_type": "execute_result"
    }
   ],
   "source": [
    "dfs = [number_of_train_userinfo_df, train_userinfo_max_min_diff_df, freq_user_df, num_UserupdateInfo1_df]\n",
    "train_userinfo_final = reduce(lambda left,right: pd.merge(left,right,on='Idx'), dfs)\n",
    "train_userinfo_final.head()"
   ]
  },
  {
   "cell_type": "markdown",
   "metadata": {},
   "source": [
    "## Combine new features in unserinfo and loginfo data set"
   ]
  },
  {
   "cell_type": "code",
   "execution_count": 65,
   "metadata": {},
   "outputs": [
    {
     "data": {
      "text/html": [
       "<div>\n",
       "<style scoped>\n",
       "    .dataframe tbody tr th:only-of-type {\n",
       "        vertical-align: middle;\n",
       "    }\n",
       "\n",
       "    .dataframe tbody tr th {\n",
       "        vertical-align: top;\n",
       "    }\n",
       "\n",
       "    .dataframe thead th {\n",
       "        text-align: right;\n",
       "    }\n",
       "</style>\n",
       "<table border=\"1\" class=\"dataframe\">\n",
       "  <thead>\n",
       "    <tr style=\"text-align: right;\">\n",
       "      <th></th>\n",
       "      <th>Idx</th>\n",
       "      <th>UserInfo_1</th>\n",
       "      <th>UserInfo_2</th>\n",
       "      <th>UserInfo_3</th>\n",
       "      <th>UserInfo_4</th>\n",
       "      <th>WeblogInfo_1</th>\n",
       "      <th>WeblogInfo_2</th>\n",
       "      <th>WeblogInfo_3</th>\n",
       "      <th>WeblogInfo_4</th>\n",
       "      <th>WeblogInfo_5</th>\n",
       "      <th>...</th>\n",
       "      <th>UserInfo_4_to_province</th>\n",
       "      <th>number_of_train_userinfo</th>\n",
       "      <th>train_userinfo_max_min_diff</th>\n",
       "      <th>freq_userinfo</th>\n",
       "      <th>#UserupdateInfo1</th>\n",
       "      <th>number_of_train_loginfo</th>\n",
       "      <th>train_loginfo3_max_min_diff</th>\n",
       "      <th>freq_loginfo3</th>\n",
       "      <th>#LogInfo1</th>\n",
       "      <th>#LogInfo2</th>\n",
       "    </tr>\n",
       "  </thead>\n",
       "  <tbody>\n",
       "    <tr>\n",
       "      <th>0</th>\n",
       "      <td>10001</td>\n",
       "      <td>1.0</td>\n",
       "      <td>深圳</td>\n",
       "      <td>4.0</td>\n",
       "      <td>深圳</td>\n",
       "      <td>NaN</td>\n",
       "      <td>1.0</td>\n",
       "      <td>NaN</td>\n",
       "      <td>1.0</td>\n",
       "      <td>1.0</td>\n",
       "      <td>...</td>\n",
       "      <td>广东省</td>\n",
       "      <td>11.0</td>\n",
       "      <td>0.0</td>\n",
       "      <td>1.00</td>\n",
       "      <td>10.0</td>\n",
       "      <td>19.0</td>\n",
       "      <td>12.0</td>\n",
       "      <td>1.58</td>\n",
       "      <td>6.0</td>\n",
       "      <td>5.0</td>\n",
       "    </tr>\n",
       "    <tr>\n",
       "      <th>1</th>\n",
       "      <td>10002</td>\n",
       "      <td>1.0</td>\n",
       "      <td>温州</td>\n",
       "      <td>4.0</td>\n",
       "      <td>温州</td>\n",
       "      <td>NaN</td>\n",
       "      <td>0.0</td>\n",
       "      <td>NaN</td>\n",
       "      <td>1.0</td>\n",
       "      <td>1.0</td>\n",
       "      <td>...</td>\n",
       "      <td>浙江省</td>\n",
       "      <td>21.0</td>\n",
       "      <td>244.0</td>\n",
       "      <td>0.09</td>\n",
       "      <td>15.0</td>\n",
       "      <td>24.0</td>\n",
       "      <td>249.0</td>\n",
       "      <td>0.10</td>\n",
       "      <td>6.0</td>\n",
       "      <td>6.0</td>\n",
       "    </tr>\n",
       "    <tr>\n",
       "      <th>2</th>\n",
       "      <td>10003</td>\n",
       "      <td>1.0</td>\n",
       "      <td>宜昌</td>\n",
       "      <td>3.0</td>\n",
       "      <td>宜昌</td>\n",
       "      <td>NaN</td>\n",
       "      <td>0.0</td>\n",
       "      <td>NaN</td>\n",
       "      <td>2.0</td>\n",
       "      <td>2.0</td>\n",
       "      <td>...</td>\n",
       "      <td>湖北省</td>\n",
       "      <td>10.0</td>\n",
       "      <td>0.0</td>\n",
       "      <td>1.00</td>\n",
       "      <td>9.0</td>\n",
       "      <td>14.0</td>\n",
       "      <td>7.0</td>\n",
       "      <td>2.00</td>\n",
       "      <td>5.0</td>\n",
       "      <td>5.0</td>\n",
       "    </tr>\n",
       "    <tr>\n",
       "      <th>3</th>\n",
       "      <td>10006</td>\n",
       "      <td>4.0</td>\n",
       "      <td>南平</td>\n",
       "      <td>1.0</td>\n",
       "      <td>南平</td>\n",
       "      <td>NaN</td>\n",
       "      <td>NaN</td>\n",
       "      <td>NaN</td>\n",
       "      <td>NaN</td>\n",
       "      <td>NaN</td>\n",
       "      <td>...</td>\n",
       "      <td>福建省</td>\n",
       "      <td>10.0</td>\n",
       "      <td>0.0</td>\n",
       "      <td>1.00</td>\n",
       "      <td>9.0</td>\n",
       "      <td>7.0</td>\n",
       "      <td>0.0</td>\n",
       "      <td>1.00</td>\n",
       "      <td>4.0</td>\n",
       "      <td>5.0</td>\n",
       "    </tr>\n",
       "    <tr>\n",
       "      <th>4</th>\n",
       "      <td>10007</td>\n",
       "      <td>5.0</td>\n",
       "      <td>辽阳</td>\n",
       "      <td>1.0</td>\n",
       "      <td>辽阳</td>\n",
       "      <td>NaN</td>\n",
       "      <td>0.0</td>\n",
       "      <td>NaN</td>\n",
       "      <td>1.0</td>\n",
       "      <td>1.0</td>\n",
       "      <td>...</td>\n",
       "      <td>辽宁省</td>\n",
       "      <td>10.0</td>\n",
       "      <td>1.0</td>\n",
       "      <td>10.00</td>\n",
       "      <td>10.0</td>\n",
       "      <td>5.0</td>\n",
       "      <td>7.0</td>\n",
       "      <td>0.71</td>\n",
       "      <td>3.0</td>\n",
       "      <td>3.0</td>\n",
       "    </tr>\n",
       "  </tbody>\n",
       "</table>\n",
       "<p>5 rows × 239 columns</p>\n",
       "</div>"
      ],
      "text/plain": [
       "     Idx  UserInfo_1 UserInfo_2  UserInfo_3 UserInfo_4  WeblogInfo_1  \\\n",
       "0  10001         1.0         深圳         4.0         深圳           NaN   \n",
       "1  10002         1.0         温州         4.0         温州           NaN   \n",
       "2  10003         1.0         宜昌         3.0         宜昌           NaN   \n",
       "3  10006         4.0         南平         1.0         南平           NaN   \n",
       "4  10007         5.0         辽阳         1.0         辽阳           NaN   \n",
       "\n",
       "   WeblogInfo_2  WeblogInfo_3  WeblogInfo_4  WeblogInfo_5  ...  \\\n",
       "0           1.0           NaN           1.0           1.0  ...   \n",
       "1           0.0           NaN           1.0           1.0  ...   \n",
       "2           0.0           NaN           2.0           2.0  ...   \n",
       "3           NaN           NaN           NaN           NaN  ...   \n",
       "4           0.0           NaN           1.0           1.0  ...   \n",
       "\n",
       "   UserInfo_4_to_province  number_of_train_userinfo  \\\n",
       "0                     广东省                      11.0   \n",
       "1                     浙江省                      21.0   \n",
       "2                     湖北省                      10.0   \n",
       "3                     福建省                      10.0   \n",
       "4                     辽宁省                      10.0   \n",
       "\n",
       "   train_userinfo_max_min_diff  freq_userinfo  #UserupdateInfo1  \\\n",
       "0                          0.0           1.00              10.0   \n",
       "1                        244.0           0.09              15.0   \n",
       "2                          0.0           1.00               9.0   \n",
       "3                          0.0           1.00               9.0   \n",
       "4                          1.0          10.00              10.0   \n",
       "\n",
       "   number_of_train_loginfo  train_loginfo3_max_min_diff  freq_loginfo3  \\\n",
       "0                     19.0                         12.0           1.58   \n",
       "1                     24.0                        249.0           0.10   \n",
       "2                     14.0                          7.0           2.00   \n",
       "3                      7.0                          0.0           1.00   \n",
       "4                      5.0                          7.0           0.71   \n",
       "\n",
       "   #LogInfo1  #LogInfo2  \n",
       "0        6.0        5.0  \n",
       "1        6.0        6.0  \n",
       "2        5.0        5.0  \n",
       "3        4.0        5.0  \n",
       "4        3.0        3.0  \n",
       "\n",
       "[5 rows x 239 columns]"
      ]
     },
     "execution_count": 65,
     "metadata": {},
     "output_type": "execute_result"
    }
   ],
   "source": [
    "dfs = [train_master, train_userinfo_final, train_loginfo_final]\n",
    "train_df = reduce(lambda left,right: pd.merge(left,right,on='Idx',how='outer'), dfs)\n",
    "train_df.head()"
   ]
  },
  {
   "cell_type": "markdown",
   "metadata": {},
   "source": [
    "## Map cities to provinces"
   ]
  },
  {
   "cell_type": "code",
   "execution_count": 66,
   "metadata": {},
   "outputs": [],
   "source": [
    "def findProvince(x):\n",
    "    if x[-1] == \"省\":\n",
    "        return x\n",
    "    if x[-2:] != '地区' and not (len(x) > 3 and x[-3:] == \"自治州\") and not x[-1] == '市' and x != \"None\" and not (len(x) > 2 and x[-1] == \"盟\"):\n",
    "        x += \"市\"\n",
    "    for i, j in China_map.items():\n",
    "        if x in j:\n",
    "            return i\n",
    "    return x\n",
    "train_master['UserInfo_2'] = train_master['UserInfo_2'].fillna(\"None\")\n",
    "train_master['UserInfo_2_to_province'] = train_master['UserInfo_2'].apply(findProvince)\n",
    "train_master['UserInfo_4'] = train_master['UserInfo_4'].fillna(\"None\")\n",
    "train_master['UserInfo_4_to_province'] = train_master['UserInfo_4'].apply(findProvince)"
   ]
  },
  {
   "cell_type": "markdown",
   "metadata": {},
   "source": [
    "## GDP of each province"
   ]
  },
  {
   "cell_type": "code",
   "execution_count": 71,
   "metadata": {},
   "outputs": [],
   "source": [
    "def map_province_gdp(x):\n",
    "    if x[:2] in provinces:\n",
    "        return province_gdp_dict[x[:2]]\n",
    "    if x[:3] in provinces:\n",
    "        return province_gdp_dict[x[:3]]\n",
    "train_master['gdp_province'] = train_master['UserInfo_2_to_province'].apply(map_province_gdp)"
   ]
  },
  {
   "cell_type": "markdown",
   "metadata": {},
   "source": [
    "## ThirdParty_Info_Period"
   ]
  },
  {
   "cell_type": "code",
   "execution_count": 72,
   "metadata": {},
   "outputs": [],
   "source": [
    "def ThirdParty_Info_type():\n",
    "    for i in range(1, 18):\n",
    "        featureList = []\n",
    "        for j in range(1, 8):\n",
    "            featureList.append('ThirdParty_Info_Period'+str(j)+'_'+str(i))\n",
    "        train_master[\"ThirdParty_Info_type\"+str(i)+\"_max\"] = train_master[featureList].max(axis=1)\n",
    "        train_master[\"ThirdParty_Info_type\"+str(i)+\"_min\"] = train_master[featureList].min(axis=1)\n",
    "        train_master[\"ThirdParty_Info_type\"+str(i)+\"_mean\"] = train_master[featureList].mean(axis=1)\n",
    "        train_master[\"ThirdParty_Info_type\"+str(i)+\"_median\"] = train_master[featureList].median(axis=1)\n",
    "ThirdParty_Info_type()"
   ]
  },
  {
   "cell_type": "code",
   "execution_count": 73,
   "metadata": {},
   "outputs": [
    {
     "data": {
      "text/html": [
       "<div>\n",
       "<style scoped>\n",
       "    .dataframe tbody tr th:only-of-type {\n",
       "        vertical-align: middle;\n",
       "    }\n",
       "\n",
       "    .dataframe tbody tr th {\n",
       "        vertical-align: top;\n",
       "    }\n",
       "\n",
       "    .dataframe thead th {\n",
       "        text-align: right;\n",
       "    }\n",
       "</style>\n",
       "<table border=\"1\" class=\"dataframe\">\n",
       "  <thead>\n",
       "    <tr style=\"text-align: right;\">\n",
       "      <th></th>\n",
       "      <th>Idx</th>\n",
       "      <th>UserInfo_1</th>\n",
       "      <th>UserInfo_2</th>\n",
       "      <th>UserInfo_3</th>\n",
       "      <th>UserInfo_4</th>\n",
       "      <th>WeblogInfo_1</th>\n",
       "      <th>WeblogInfo_2</th>\n",
       "      <th>WeblogInfo_3</th>\n",
       "      <th>WeblogInfo_4</th>\n",
       "      <th>WeblogInfo_5</th>\n",
       "      <th>...</th>\n",
       "      <th>ThirdParty_Info_type15_mean</th>\n",
       "      <th>ThirdParty_Info_type15_median</th>\n",
       "      <th>ThirdParty_Info_type16_max</th>\n",
       "      <th>ThirdParty_Info_type16_min</th>\n",
       "      <th>ThirdParty_Info_type16_mean</th>\n",
       "      <th>ThirdParty_Info_type16_median</th>\n",
       "      <th>ThirdParty_Info_type17_max</th>\n",
       "      <th>ThirdParty_Info_type17_min</th>\n",
       "      <th>ThirdParty_Info_type17_mean</th>\n",
       "      <th>ThirdParty_Info_type17_median</th>\n",
       "    </tr>\n",
       "  </thead>\n",
       "  <tbody>\n",
       "    <tr>\n",
       "      <th>0</th>\n",
       "      <td>10001</td>\n",
       "      <td>1.0</td>\n",
       "      <td>深圳</td>\n",
       "      <td>4.0</td>\n",
       "      <td>深圳</td>\n",
       "      <td>NaN</td>\n",
       "      <td>1.0</td>\n",
       "      <td>NaN</td>\n",
       "      <td>1.0</td>\n",
       "      <td>1.0</td>\n",
       "      <td>...</td>\n",
       "      <td>3070.714286</td>\n",
       "      <td>199.0</td>\n",
       "      <td>30284</td>\n",
       "      <td>-1</td>\n",
       "      <td>12683.000000</td>\n",
       "      <td>9297.0</td>\n",
       "      <td>22972</td>\n",
       "      <td>-1</td>\n",
       "      <td>7314.571429</td>\n",
       "      <td>4082.0</td>\n",
       "    </tr>\n",
       "    <tr>\n",
       "      <th>1</th>\n",
       "      <td>10002</td>\n",
       "      <td>1.0</td>\n",
       "      <td>温州</td>\n",
       "      <td>4.0</td>\n",
       "      <td>温州</td>\n",
       "      <td>NaN</td>\n",
       "      <td>0.0</td>\n",
       "      <td>NaN</td>\n",
       "      <td>1.0</td>\n",
       "      <td>1.0</td>\n",
       "      <td>...</td>\n",
       "      <td>37.428571</td>\n",
       "      <td>0.0</td>\n",
       "      <td>54055</td>\n",
       "      <td>-1</td>\n",
       "      <td>25590.714286</td>\n",
       "      <td>26656.0</td>\n",
       "      <td>14519</td>\n",
       "      <td>-1</td>\n",
       "      <td>5893.000000</td>\n",
       "      <td>5353.0</td>\n",
       "    </tr>\n",
       "    <tr>\n",
       "      <th>2</th>\n",
       "      <td>10003</td>\n",
       "      <td>1.0</td>\n",
       "      <td>宜昌</td>\n",
       "      <td>3.0</td>\n",
       "      <td>宜昌</td>\n",
       "      <td>NaN</td>\n",
       "      <td>0.0</td>\n",
       "      <td>NaN</td>\n",
       "      <td>2.0</td>\n",
       "      <td>2.0</td>\n",
       "      <td>...</td>\n",
       "      <td>101.285714</td>\n",
       "      <td>40.0</td>\n",
       "      <td>9153</td>\n",
       "      <td>-1</td>\n",
       "      <td>5097.714286</td>\n",
       "      <td>5552.0</td>\n",
       "      <td>11274</td>\n",
       "      <td>-1</td>\n",
       "      <td>4408.857143</td>\n",
       "      <td>4456.0</td>\n",
       "    </tr>\n",
       "    <tr>\n",
       "      <th>3</th>\n",
       "      <td>10006</td>\n",
       "      <td>4.0</td>\n",
       "      <td>南平</td>\n",
       "      <td>1.0</td>\n",
       "      <td>南平</td>\n",
       "      <td>NaN</td>\n",
       "      <td>NaN</td>\n",
       "      <td>NaN</td>\n",
       "      <td>NaN</td>\n",
       "      <td>NaN</td>\n",
       "      <td>...</td>\n",
       "      <td>240.428571</td>\n",
       "      <td>40.0</td>\n",
       "      <td>14464</td>\n",
       "      <td>-1</td>\n",
       "      <td>10258.000000</td>\n",
       "      <td>11083.0</td>\n",
       "      <td>6495</td>\n",
       "      <td>-1</td>\n",
       "      <td>4114.714286</td>\n",
       "      <td>4254.0</td>\n",
       "    </tr>\n",
       "    <tr>\n",
       "      <th>4</th>\n",
       "      <td>10007</td>\n",
       "      <td>5.0</td>\n",
       "      <td>辽阳</td>\n",
       "      <td>1.0</td>\n",
       "      <td>辽阳</td>\n",
       "      <td>NaN</td>\n",
       "      <td>0.0</td>\n",
       "      <td>NaN</td>\n",
       "      <td>1.0</td>\n",
       "      <td>1.0</td>\n",
       "      <td>...</td>\n",
       "      <td>1802.714286</td>\n",
       "      <td>2048.0</td>\n",
       "      <td>0</td>\n",
       "      <td>-1</td>\n",
       "      <td>-0.285714</td>\n",
       "      <td>0.0</td>\n",
       "      <td>0</td>\n",
       "      <td>-1</td>\n",
       "      <td>-0.285714</td>\n",
       "      <td>0.0</td>\n",
       "    </tr>\n",
       "  </tbody>\n",
       "</table>\n",
       "<p>5 rows × 299 columns</p>\n",
       "</div>"
      ],
      "text/plain": [
       "     Idx  UserInfo_1 UserInfo_2  UserInfo_3 UserInfo_4  WeblogInfo_1  \\\n",
       "0  10001         1.0         深圳         4.0         深圳           NaN   \n",
       "1  10002         1.0         温州         4.0         温州           NaN   \n",
       "2  10003         1.0         宜昌         3.0         宜昌           NaN   \n",
       "3  10006         4.0         南平         1.0         南平           NaN   \n",
       "4  10007         5.0         辽阳         1.0         辽阳           NaN   \n",
       "\n",
       "   WeblogInfo_2  WeblogInfo_3  WeblogInfo_4  WeblogInfo_5  ...  \\\n",
       "0           1.0           NaN           1.0           1.0  ...   \n",
       "1           0.0           NaN           1.0           1.0  ...   \n",
       "2           0.0           NaN           2.0           2.0  ...   \n",
       "3           NaN           NaN           NaN           NaN  ...   \n",
       "4           0.0           NaN           1.0           1.0  ...   \n",
       "\n",
       "   ThirdParty_Info_type15_mean  ThirdParty_Info_type15_median  \\\n",
       "0                  3070.714286                          199.0   \n",
       "1                    37.428571                            0.0   \n",
       "2                   101.285714                           40.0   \n",
       "3                   240.428571                           40.0   \n",
       "4                  1802.714286                         2048.0   \n",
       "\n",
       "   ThirdParty_Info_type16_max  ThirdParty_Info_type16_min  \\\n",
       "0                       30284                          -1   \n",
       "1                       54055                          -1   \n",
       "2                        9153                          -1   \n",
       "3                       14464                          -1   \n",
       "4                           0                          -1   \n",
       "\n",
       "   ThirdParty_Info_type16_mean  ThirdParty_Info_type16_median  \\\n",
       "0                 12683.000000                         9297.0   \n",
       "1                 25590.714286                        26656.0   \n",
       "2                  5097.714286                         5552.0   \n",
       "3                 10258.000000                        11083.0   \n",
       "4                    -0.285714                            0.0   \n",
       "\n",
       "   ThirdParty_Info_type17_max  ThirdParty_Info_type17_min  \\\n",
       "0                       22972                          -1   \n",
       "1                       14519                          -1   \n",
       "2                       11274                          -1   \n",
       "3                        6495                          -1   \n",
       "4                           0                          -1   \n",
       "\n",
       "   ThirdParty_Info_type17_mean  ThirdParty_Info_type17_median  \n",
       "0                  7314.571429                         4082.0  \n",
       "1                  5893.000000                         5353.0  \n",
       "2                  4408.857143                         4456.0  \n",
       "3                  4114.714286                         4254.0  \n",
       "4                    -0.285714                            0.0  \n",
       "\n",
       "[5 rows x 299 columns]"
      ]
     },
     "execution_count": 73,
     "metadata": {},
     "output_type": "execute_result"
    }
   ],
   "source": [
    "train_master.head()"
   ]
  },
  {
   "cell_type": "code",
   "execution_count": null,
   "metadata": {},
   "outputs": [],
   "source": [
    "train_master['ThirdParty_Info_Period1_max'] = train_master[['ThirdParty_Info_Period1_17',\n",
    "                        'ThirdParty_Info_Period1_16','ThirdParty_Info_Period1_15',\n",
    "                        'ThirdParty_Info_Period1_14','ThirdParty_Info_Period1_13','ThirdParty_Info_Period1_12',\n",
    "                        'ThirdParty_Info_Period1_11','ThirdParty_Info_Period1_10','ThirdParty_Info_Period1_9',\n",
    "                        'ThirdParty_Info_Period1_8','ThirdParty_Info_Period1_7','ThirdParty_Info_Period1_6',\n",
    "                        'ThirdParty_Info_Period1_5','ThirdParty_Info_Period1_4','ThirdParty_Info_Period1_3',\n",
    "                        'ThirdParty_Info_Period1_2','ThirdParty_Info_Period1_1']].max(axis=1)\n",
    "\n",
    "train_master['ThirdParty_Info_Period1_min'] = train_master[['ThirdParty_Info_Period1_17',\n",
    "                        'ThirdParty_Info_Period1_16','ThirdParty_Info_Period1_15',\n",
    "                        'ThirdParty_Info_Period1_14','ThirdParty_Info_Period1_13','ThirdParty_Info_Period1_12',\n",
    "                        'ThirdParty_Info_Period1_11','ThirdParty_Info_Period1_10','ThirdParty_Info_Period1_9',\n",
    "                        'ThirdParty_Info_Period1_8','ThirdParty_Info_Period1_7','ThirdParty_Info_Period1_6',\n",
    "                        'ThirdParty_Info_Period1_5','ThirdParty_Info_Period1_4','ThirdParty_Info_Period1_3',\n",
    "                        'ThirdParty_Info_Period1_2','ThirdParty_Info_Period1_1']].min(axis=1)\n",
    "\n",
    "train_master['ThirdParty_Info_Period1_mean'] = train_master[['ThirdParty_Info_Period1_17',\n",
    "                        'ThirdParty_Info_Period1_16','ThirdParty_Info_Period1_15',\n",
    "                        'ThirdParty_Info_Period1_14','ThirdParty_Info_Period1_13','ThirdParty_Info_Period1_12',\n",
    "                        'ThirdParty_Info_Period1_11','ThirdParty_Info_Period1_10','ThirdParty_Info_Period1_9',\n",
    "                        'ThirdParty_Info_Period1_8','ThirdParty_Info_Period1_7','ThirdParty_Info_Period1_6',\n",
    "                        'ThirdParty_Info_Period1_5','ThirdParty_Info_Period1_4','ThirdParty_Info_Period1_3',\n",
    "                        'ThirdParty_Info_Period1_2','ThirdParty_Info_Period1_1']].mean(axis=1)\n",
    "\n",
    "train_master['ThirdParty_Info_Period1_median'] = train_master[['ThirdParty_Info_Period1_17',\n",
    "                        'ThirdParty_Info_Period1_16','ThirdParty_Info_Period1_15',\n",
    "                        'ThirdParty_Info_Period1_14','ThirdParty_Info_Period1_13','ThirdParty_Info_Period1_12',\n",
    "                        'ThirdParty_Info_Period1_11','ThirdParty_Info_Period1_10','ThirdParty_Info_Period1_9',\n",
    "                        'ThirdParty_Info_Period1_8','ThirdParty_Info_Period1_7','ThirdParty_Info_Period1_6',\n",
    "                        'ThirdParty_Info_Period1_5','ThirdParty_Info_Period1_4','ThirdParty_Info_Period1_3',\n",
    "                        'ThirdParty_Info_Period1_2','ThirdParty_Info_Period1_1']].median(axis=1)\n",
    "\n",
    "train_master['ThirdParty_Info_Period2_max'] = train_master[['ThirdParty_Info_Period2_17',\n",
    "                        'ThirdParty_Info_Period2_16','ThirdParty_Info_Period2_15',\n",
    "                        'ThirdParty_Info_Period2_14','ThirdParty_Info_Period2_13','ThirdParty_Info_Period2_12',\n",
    "                        'ThirdParty_Info_Period2_11','ThirdParty_Info_Period2_10','ThirdParty_Info_Period2_9',\n",
    "                        'ThirdParty_Info_Period2_8','ThirdParty_Info_Period2_7','ThirdParty_Info_Period2_6',\n",
    "                        'ThirdParty_Info_Period2_5','ThirdParty_Info_Period2_4','ThirdParty_Info_Period2_3',\n",
    "                        'ThirdParty_Info_Period2_2','ThirdParty_Info_Period2_1']].max(axis=1)\n",
    "\n",
    "train_master['ThirdParty_Info_Period2_min'] = train_master[['ThirdParty_Info_Period2_17',\n",
    "                        'ThirdParty_Info_Period2_16','ThirdParty_Info_Period2_15',\n",
    "                        'ThirdParty_Info_Period2_14','ThirdParty_Info_Period2_13','ThirdParty_Info_Period2_12',\n",
    "                        'ThirdParty_Info_Period2_11','ThirdParty_Info_Period2_10','ThirdParty_Info_Period2_9',\n",
    "                        'ThirdParty_Info_Period2_8','ThirdParty_Info_Period2_7','ThirdParty_Info_Period2_6',\n",
    "                        'ThirdParty_Info_Period2_5','ThirdParty_Info_Period2_4','ThirdParty_Info_Period2_3',\n",
    "                        'ThirdParty_Info_Period2_2','ThirdParty_Info_Period2_1']].min(axis=1)\n",
    "\n",
    "train_master['ThirdParty_Info_Period2_mean'] = train_master[['ThirdParty_Info_Period2_17',\n",
    "                        'ThirdParty_Info_Period2_16','ThirdParty_Info_Period2_15',\n",
    "                        'ThirdParty_Info_Period2_14','ThirdParty_Info_Period2_13','ThirdParty_Info_Period2_12',\n",
    "                        'ThirdParty_Info_Period2_11','ThirdParty_Info_Period2_10','ThirdParty_Info_Period2_9',\n",
    "                        'ThirdParty_Info_Period2_8','ThirdParty_Info_Period2_7','ThirdParty_Info_Period2_6',\n",
    "                        'ThirdParty_Info_Period2_5','ThirdParty_Info_Period2_4','ThirdParty_Info_Period2_3',\n",
    "                        'ThirdParty_Info_Period2_2','ThirdParty_Info_Period2_1']].mean(axis=1)\n",
    "\n",
    "train_master['ThirdParty_Info_Period2_median'] = train_master[['ThirdParty_Info_Period2_17',\n",
    "                        'ThirdParty_Info_Period2_16','ThirdParty_Info_Period2_15',\n",
    "                        'ThirdParty_Info_Period2_14','ThirdParty_Info_Period2_13','ThirdParty_Info_Period2_12',\n",
    "                        'ThirdParty_Info_Period2_11','ThirdParty_Info_Period2_10','ThirdParty_Info_Period2_9',\n",
    "                        'ThirdParty_Info_Period2_8','ThirdParty_Info_Period2_7','ThirdParty_Info_Period2_6',\n",
    "                        'ThirdParty_Info_Period2_5','ThirdParty_Info_Period2_4','ThirdParty_Info_Period2_3',\n",
    "                        'ThirdParty_Info_Period2_2','ThirdParty_Info_Period2_1']].median(axis=1)\n",
    "\n",
    "train_master['ThirdParty_Info_Period3_max'] = train_master[['ThirdParty_Info_Period3_17',\n",
    "                        'ThirdParty_Info_Period3_16','ThirdParty_Info_Period3_15',\n",
    "                        'ThirdParty_Info_Period3_14','ThirdParty_Info_Period3_13','ThirdParty_Info_Period3_12',\n",
    "                        'ThirdParty_Info_Period3_11','ThirdParty_Info_Period3_10','ThirdParty_Info_Period3_9',\n",
    "                        'ThirdParty_Info_Period3_8','ThirdParty_Info_Period3_7','ThirdParty_Info_Period3_6',\n",
    "                        'ThirdParty_Info_Period3_5','ThirdParty_Info_Period3_4','ThirdParty_Info_Period3_3',\n",
    "                        'ThirdParty_Info_Period3_2','ThirdParty_Info_Period3_1']].max(axis=1)\n",
    "\n",
    "train_master['ThirdParty_Info_Period3_min'] = train_master[['ThirdParty_Info_Period3_17',\n",
    "                        'ThirdParty_Info_Period3_16','ThirdParty_Info_Period3_15',\n",
    "                        'ThirdParty_Info_Period3_14','ThirdParty_Info_Period3_13','ThirdParty_Info_Period3_12',\n",
    "                        'ThirdParty_Info_Period3_11','ThirdParty_Info_Period3_10','ThirdParty_Info_Period3_9',\n",
    "                        'ThirdParty_Info_Period3_8','ThirdParty_Info_Period3_7','ThirdParty_Info_Period3_6',\n",
    "                        'ThirdParty_Info_Period3_5','ThirdParty_Info_Period3_4','ThirdParty_Info_Period3_3',\n",
    "                        'ThirdParty_Info_Period3_2','ThirdParty_Info_Period3_1']].min(axis=1)\n",
    "\n",
    "train_master['ThirdParty_Info_Period3_mean'] = train_master[['ThirdParty_Info_Period3_17',\n",
    "                        'ThirdParty_Info_Period3_16','ThirdParty_Info_Period3_15',\n",
    "                        'ThirdParty_Info_Period3_14','ThirdParty_Info_Period3_13','ThirdParty_Info_Period3_12',\n",
    "                        'ThirdParty_Info_Period3_11','ThirdParty_Info_Period3_10','ThirdParty_Info_Period3_9',\n",
    "                        'ThirdParty_Info_Period3_8','ThirdParty_Info_Period3_7','ThirdParty_Info_Period3_6',\n",
    "                        'ThirdParty_Info_Period3_5','ThirdParty_Info_Period3_4','ThirdParty_Info_Period3_3',\n",
    "                        'ThirdParty_Info_Period3_2','ThirdParty_Info_Period3_1']].mean(axis=1)\n",
    "\n",
    "train_master['ThirdParty_Info_Period3_median'] = train_master[['ThirdParty_Info_Period3_17',\n",
    "                        'ThirdParty_Info_Period3_16','ThirdParty_Info_Period3_15',\n",
    "                        'ThirdParty_Info_Period3_14','ThirdParty_Info_Period3_13','ThirdParty_Info_Period3_12',\n",
    "                        'ThirdParty_Info_Period3_11','ThirdParty_Info_Period3_10','ThirdParty_Info_Period3_9',\n",
    "                        'ThirdParty_Info_Period3_8','ThirdParty_Info_Period3_7','ThirdParty_Info_Period3_6',\n",
    "                        'ThirdParty_Info_Period3_5','ThirdParty_Info_Period3_4','ThirdParty_Info_Period3_3',\n",
    "                        'ThirdParty_Info_Period3_2','ThirdParty_Info_Period3_1']].median(axis=1)\n",
    "\n",
    "train_master['ThirdParty_Info_Period4_max'] = train_master[['ThirdParty_Info_Period4_17',\n",
    "                        'ThirdParty_Info_Period4_16','ThirdParty_Info_Period4_15',\n",
    "                        'ThirdParty_Info_Period4_14','ThirdParty_Info_Period4_13','ThirdParty_Info_Period4_12',\n",
    "                        'ThirdParty_Info_Period4_11','ThirdParty_Info_Period4_10','ThirdParty_Info_Period4_9',\n",
    "                        'ThirdParty_Info_Period4_8','ThirdParty_Info_Period4_7','ThirdParty_Info_Period4_6',\n",
    "                        'ThirdParty_Info_Period4_5','ThirdParty_Info_Period4_4','ThirdParty_Info_Period4_3',\n",
    "                        'ThirdParty_Info_Period4_2','ThirdParty_Info_Period4_1']].max(axis=1)\n",
    "\n",
    "train_master['ThirdParty_Info_Period4_min'] = train_master[['ThirdParty_Info_Period4_17',\n",
    "                        'ThirdParty_Info_Period4_16','ThirdParty_Info_Period4_15',\n",
    "                        'ThirdParty_Info_Period4_14','ThirdParty_Info_Period4_13','ThirdParty_Info_Period4_12',\n",
    "                        'ThirdParty_Info_Period4_11','ThirdParty_Info_Period4_10','ThirdParty_Info_Period4_9',\n",
    "                        'ThirdParty_Info_Period4_8','ThirdParty_Info_Period4_7','ThirdParty_Info_Period4_6',\n",
    "                        'ThirdParty_Info_Period4_5','ThirdParty_Info_Period4_4','ThirdParty_Info_Period4_3',\n",
    "                        'ThirdParty_Info_Period4_2','ThirdParty_Info_Period4_1']].min(axis=1)\n",
    "\n",
    "train_master['ThirdParty_Info_Period4_mean'] = train_master[['ThirdParty_Info_Period4_17',\n",
    "                        'ThirdParty_Info_Period4_16','ThirdParty_Info_Period4_15',\n",
    "                        'ThirdParty_Info_Period4_14','ThirdParty_Info_Period4_13','ThirdParty_Info_Period4_12',\n",
    "                        'ThirdParty_Info_Period4_11','ThirdParty_Info_Period4_10','ThirdParty_Info_Period4_9',\n",
    "                        'ThirdParty_Info_Period4_8','ThirdParty_Info_Period4_7','ThirdParty_Info_Period4_6',\n",
    "                        'ThirdParty_Info_Period4_5','ThirdParty_Info_Period4_4','ThirdParty_Info_Period4_3',\n",
    "                        'ThirdParty_Info_Period4_2','ThirdParty_Info_Period4_1']].mean(axis=1)\n",
    "\n",
    "train_master['ThirdParty_Info_Period4_median'] = train_master[['ThirdParty_Info_Period4_17',\n",
    "                        'ThirdParty_Info_Period4_16','ThirdParty_Info_Period4_15',\n",
    "                        'ThirdParty_Info_Period4_14','ThirdParty_Info_Period4_13','ThirdParty_Info_Period4_12',\n",
    "                        'ThirdParty_Info_Period4_11','ThirdParty_Info_Period4_10','ThirdParty_Info_Period4_9',\n",
    "                        'ThirdParty_Info_Period4_8','ThirdParty_Info_Period4_7','ThirdParty_Info_Period4_6',\n",
    "                        'ThirdParty_Info_Period4_5','ThirdParty_Info_Period4_4','ThirdParty_Info_Period4_3',\n",
    "                        'ThirdParty_Info_Period4_2','ThirdParty_Info_Period4_1']].median(axis=1)\n",
    "\n",
    "train_master['ThirdParty_Info_Period5_max'] = train_master[['ThirdParty_Info_Period5_17',\n",
    "                        'ThirdParty_Info_Period5_16','ThirdParty_Info_Period5_15',\n",
    "                        'ThirdParty_Info_Period5_14','ThirdParty_Info_Period5_13','ThirdParty_Info_Period5_12',\n",
    "                        'ThirdParty_Info_Period5_11','ThirdParty_Info_Period5_10','ThirdParty_Info_Period5_9',\n",
    "                        'ThirdParty_Info_Period5_8','ThirdParty_Info_Period5_7','ThirdParty_Info_Period5_6',\n",
    "                        'ThirdParty_Info_Period5_5','ThirdParty_Info_Period5_4','ThirdParty_Info_Period5_3',\n",
    "                        'ThirdParty_Info_Period5_2','ThirdParty_Info_Period5_1']].max(axis=1)\n",
    "\n",
    "train_master['ThirdParty_Info_Period5_min'] = train_master[['ThirdParty_Info_Period5_17',\n",
    "                        'ThirdParty_Info_Period5_16','ThirdParty_Info_Period5_15',\n",
    "                        'ThirdParty_Info_Period5_14','ThirdParty_Info_Period5_13','ThirdParty_Info_Period5_12',\n",
    "                        'ThirdParty_Info_Period5_11','ThirdParty_Info_Period5_10','ThirdParty_Info_Period5_9',\n",
    "                        'ThirdParty_Info_Period5_8','ThirdParty_Info_Period5_7','ThirdParty_Info_Period5_6',\n",
    "                        'ThirdParty_Info_Period5_5','ThirdParty_Info_Period5_4','ThirdParty_Info_Period5_3',\n",
    "                        'ThirdParty_Info_Period5_2','ThirdParty_Info_Period5_1']].min(axis=1)\n",
    "\n",
    "train_master['ThirdParty_Info_Period5_mean'] = train_master[['ThirdParty_Info_Period5_17',\n",
    "                        'ThirdParty_Info_Period5_16','ThirdParty_Info_Period5_15',\n",
    "                        'ThirdParty_Info_Period5_14','ThirdParty_Info_Period5_13','ThirdParty_Info_Period5_12',\n",
    "                        'ThirdParty_Info_Period5_11','ThirdParty_Info_Period5_10','ThirdParty_Info_Period5_9',\n",
    "                        'ThirdParty_Info_Period5_8','ThirdParty_Info_Period5_7','ThirdParty_Info_Period5_6',\n",
    "                        'ThirdParty_Info_Period5_5','ThirdParty_Info_Period5_4','ThirdParty_Info_Period5_3',\n",
    "                        'ThirdParty_Info_Period5_2','ThirdParty_Info_Period5_1']].mean(axis=1)\n",
    "\n",
    "train_master['ThirdParty_Info_Period5_median'] = train_master[['ThirdParty_Info_Period5_17',\n",
    "                        'ThirdParty_Info_Period5_16','ThirdParty_Info_Period5_15',\n",
    "                        'ThirdParty_Info_Period5_14','ThirdParty_Info_Period5_13','ThirdParty_Info_Period5_12',\n",
    "                        'ThirdParty_Info_Period5_11','ThirdParty_Info_Period5_10','ThirdParty_Info_Period5_9',\n",
    "                        'ThirdParty_Info_Period5_8','ThirdParty_Info_Period5_7','ThirdParty_Info_Period5_6',\n",
    "                        'ThirdParty_Info_Period5_5','ThirdParty_Info_Period5_4','ThirdParty_Info_Period5_3',\n",
    "                        'ThirdParty_Info_Period5_2','ThirdParty_Info_Period5_1']].median(axis=1)\n",
    "\n",
    "train_master['ThirdParty_Info_Period6_max'] = train_master[['ThirdParty_Info_Period6_17',\n",
    "                        'ThirdParty_Info_Period6_16','ThirdParty_Info_Period6_15',\n",
    "                        'ThirdParty_Info_Period6_14','ThirdParty_Info_Period6_13','ThirdParty_Info_Period6_12',\n",
    "                        'ThirdParty_Info_Period6_11','ThirdParty_Info_Period6_10','ThirdParty_Info_Period6_9',\n",
    "                        'ThirdParty_Info_Period6_8','ThirdParty_Info_Period6_7','ThirdParty_Info_Period6_6',\n",
    "                        'ThirdParty_Info_Period6_5','ThirdParty_Info_Period6_4','ThirdParty_Info_Period6_3',\n",
    "                        'ThirdParty_Info_Period6_2','ThirdParty_Info_Period6_1']].max(axis=1)\n",
    "\n",
    "train_master['ThirdParty_Info_Period6_min'] = train_master[['ThirdParty_Info_Period6_17',\n",
    "                        'ThirdParty_Info_Period6_16','ThirdParty_Info_Period6_15',\n",
    "                        'ThirdParty_Info_Period6_14','ThirdParty_Info_Period6_13','ThirdParty_Info_Period6_12',\n",
    "                        'ThirdParty_Info_Period6_11','ThirdParty_Info_Period6_10','ThirdParty_Info_Period6_9',\n",
    "                        'ThirdParty_Info_Period6_8','ThirdParty_Info_Period6_7','ThirdParty_Info_Period6_6',\n",
    "                        'ThirdParty_Info_Period6_5','ThirdParty_Info_Period6_4','ThirdParty_Info_Period6_3',\n",
    "                        'ThirdParty_Info_Period6_2','ThirdParty_Info_Period6_1']].min(axis=1)\n",
    "\n",
    "train_master['ThirdParty_Info_Period6_mean'] = train_master[['ThirdParty_Info_Period6_17',\n",
    "                        'ThirdParty_Info_Period6_16','ThirdParty_Info_Period6_15',\n",
    "                        'ThirdParty_Info_Period6_14','ThirdParty_Info_Period6_13','ThirdParty_Info_Period6_12',\n",
    "                        'ThirdParty_Info_Period6_11','ThirdParty_Info_Period6_10','ThirdParty_Info_Period6_9',\n",
    "                        'ThirdParty_Info_Period6_8','ThirdParty_Info_Period6_7','ThirdParty_Info_Period6_6',\n",
    "                        'ThirdParty_Info_Period6_5','ThirdParty_Info_Period6_4','ThirdParty_Info_Period6_3',\n",
    "                        'ThirdParty_Info_Period6_2','ThirdParty_Info_Period6_1']].mean(axis=1)\n",
    "\n",
    "train_master['ThirdParty_Info_Period6_median'] = train_master[['ThirdParty_Info_Period6_17',\n",
    "                        'ThirdParty_Info_Period6_16','ThirdParty_Info_Period6_15',\n",
    "                        'ThirdParty_Info_Period6_14','ThirdParty_Info_Period6_13','ThirdParty_Info_Period6_12',\n",
    "                        'ThirdParty_Info_Period6_11','ThirdParty_Info_Period6_10','ThirdParty_Info_Period6_9',\n",
    "                        'ThirdParty_Info_Period6_8','ThirdParty_Info_Period6_7','ThirdParty_Info_Period6_6',\n",
    "                        'ThirdParty_Info_Period6_5','ThirdParty_Info_Period6_4','ThirdParty_Info_Period6_3',\n",
    "                        'ThirdParty_Info_Period6_2','ThirdParty_Info_Period6_1']].median(axis=1)\n",
    "\n",
    "train_master['ThirdParty_Info_Period7_max'] = train_master[['ThirdParty_Info_Period7_17',\n",
    "                        'ThirdParty_Info_Period7_16','ThirdParty_Info_Period7_15',\n",
    "                        'ThirdParty_Info_Period7_14','ThirdParty_Info_Period7_13','ThirdParty_Info_Period7_12',\n",
    "                        'ThirdParty_Info_Period7_11','ThirdParty_Info_Period7_10','ThirdParty_Info_Period7_9',\n",
    "                        'ThirdParty_Info_Period7_8','ThirdParty_Info_Period7_7','ThirdParty_Info_Period7_6',\n",
    "                        'ThirdParty_Info_Period7_5','ThirdParty_Info_Period7_4','ThirdParty_Info_Period7_3',\n",
    "                        'ThirdParty_Info_Period7_2','ThirdParty_Info_Period7_1']].max(axis=1)\n",
    "\n",
    "train_master['ThirdParty_Info_Period7_min'] = train_master[['ThirdParty_Info_Period7_17',\n",
    "                        'ThirdParty_Info_Period7_16','ThirdParty_Info_Period7_15',\n",
    "                        'ThirdParty_Info_Period7_14','ThirdParty_Info_Period7_13','ThirdParty_Info_Period7_12',\n",
    "                        'ThirdParty_Info_Period7_11','ThirdParty_Info_Period7_10','ThirdParty_Info_Period7_9',\n",
    "                        'ThirdParty_Info_Period7_8','ThirdParty_Info_Period7_7','ThirdParty_Info_Period7_6',\n",
    "                        'ThirdParty_Info_Period7_5','ThirdParty_Info_Period7_4','ThirdParty_Info_Period7_3',\n",
    "                        'ThirdParty_Info_Period7_2','ThirdParty_Info_Period7_1']].min(axis=1)\n",
    "\n",
    "train_master['ThirdParty_Info_Period7_mean'] = train_master[['ThirdParty_Info_Period7_17',\n",
    "                        'ThirdParty_Info_Period7_16','ThirdParty_Info_Period7_15',\n",
    "                        'ThirdParty_Info_Period7_14','ThirdParty_Info_Period7_13','ThirdParty_Info_Period7_12',\n",
    "                        'ThirdParty_Info_Period7_11','ThirdParty_Info_Period7_10','ThirdParty_Info_Period7_9',\n",
    "                        'ThirdParty_Info_Period7_8','ThirdParty_Info_Period7_7','ThirdParty_Info_Period7_6',\n",
    "                        'ThirdParty_Info_Period7_5','ThirdParty_Info_Period7_4','ThirdParty_Info_Period7_3',\n",
    "                        'ThirdParty_Info_Period7_2','ThirdParty_Info_Period7_1']].mean(axis=1)\n",
    "\n",
    "train_master['ThirdParty_Info_Period7_median'] = train_master[['ThirdParty_Info_Period7_17',\n",
    "                        'ThirdParty_Info_Period7_16','ThirdParty_Info_Period7_15',\n",
    "                        'ThirdParty_Info_Period7_14','ThirdParty_Info_Period7_13','ThirdParty_Info_Period7_12',\n",
    "                        'ThirdParty_Info_Period7_11','ThirdParty_Info_Period7_10','ThirdParty_Info_Period7_9',\n",
    "                        'ThirdParty_Info_Period7_8','ThirdParty_Info_Period7_7','ThirdParty_Info_Period7_6',\n",
    "                        'ThirdParty_Info_Period7_5','ThirdParty_Info_Period7_4','ThirdParty_Info_Period7_3',\n",
    "                        'ThirdParty_Info_Period7_2','ThirdParty_Info_Period7_1']].median(axis=1)\n",
    "\n",
    "train_master.head()"
   ]
  },
  {
   "cell_type": "markdown",
   "metadata": {},
   "source": [
    "## Data process"
   ]
  },
  {
   "cell_type": "code",
   "execution_count": 74,
   "metadata": {},
   "outputs": [],
   "source": [
    "target = train_df['target']\n",
    "train_df.drop('target',inplace = True, axis = 1)\n",
    "train_df.drop('Idx', inplace = True, axis = 1)"
   ]
  },
  {
   "cell_type": "code",
   "execution_count": 75,
   "metadata": {},
   "outputs": [],
   "source": [
    "mask = (train_df.count() / train_df.shape[0]) > 0.03\n",
    "filter_data = train_df.loc[:,mask].copy()"
   ]
  },
  {
   "cell_type": "markdown",
   "metadata": {},
   "source": [
    "### Fill null, encoding and scale"
   ]
  },
  {
   "cell_type": "code",
   "execution_count": 76,
   "metadata": {},
   "outputs": [],
   "source": [
    "numerical_features_mask = filter_data.columns[(filter_data.dtypes == \"float64\") | (filter_data.dtypes == \"int64\")].tolist()\n",
    "label_features_mask = filter_data.columns[(filter_data.dtypes == \"object\") & (filter_data.nunique() > 200)].tolist()\n",
    "dummy_features_mask = filter_data.columns[(filter_data.dtypes == \"object\") & (filter_data.nunique() <= 200)].tolist()\n",
    "\n",
    "filter_data[numerical_features_mask] = filter_data[numerical_features_mask].fillna(0)\n",
    "filter_data[label_features_mask] = filter_data[label_features_mask].fillna(\"None\")\n",
    "filter_data[dummy_features_mask] = filter_data[dummy_features_mask].fillna(\"None\")\n",
    "\n",
    "for i in label_features_mask:\n",
    "    filter_data[i] = preprocessing.LabelEncoder().fit_transform(filter_data[i])\n",
    "\n",
    "for i in numerical_features_mask:\n",
    "    filter_data[i] = StandardScaler().fit_transform(filter_data[i].values.reshape(-1, 1))\n",
    "    \n",
    "dummy_features = pd.get_dummies(filter_data[dummy_features_mask]).values\n",
    "for i in dummy_features_mask:\n",
    "    filter_data[i] = preprocessing.LabelEncoder().fit_transform(filter_data[i])"
   ]
  },
  {
   "cell_type": "markdown",
   "metadata": {},
   "source": [
    "### Matrix decomposition\n",
    "**Decompose dummy features**"
   ]
  },
  {
   "cell_type": "code",
   "execution_count": 77,
   "metadata": {},
   "outputs": [
    {
     "data": {
      "text/plain": [
       "((60000, 261), 15660000, 960000)"
      ]
     },
     "execution_count": 77,
     "metadata": {},
     "output_type": "execute_result"
    }
   ],
   "source": [
    "dummy_features.shape, dummy_features.shape[0]*dummy_features.shape[1], dummy_features.sum()"
   ]
  },
  {
   "cell_type": "code",
   "execution_count": 78,
   "metadata": {},
   "outputs": [],
   "source": [
    "svd = TruncatedSVD(n_components= 50)\n",
    "pca = PCA(n_components= 50)\n",
    "nmf = NMF(n_components = 50)\n",
    "\n",
    "scale = StandardScaler()\n",
    "\n",
    "svd_features = svd.fit_transform(scale.fit_transform(dummy_features))\n",
    "pca_features = pca.fit_transform(dummy_features)\n",
    "nmf_features = nmf.fit_transform(dummy_features)\n",
    "merge_decomp_features = np.hstack([svd_features, pca_features, nmf_features])"
   ]
  },
  {
   "cell_type": "code",
   "execution_count": 79,
   "metadata": {},
   "outputs": [],
   "source": [
    "merge_decomp_features_df = pd.DataFrame(data = merge_decomp_features.tolist(),columns=[\"merge_decomp\"+str(c) for c in range(merge_decomp_features.shape[1])])"
   ]
  },
  {
   "cell_type": "code",
   "execution_count": 80,
   "metadata": {},
   "outputs": [],
   "source": [
    "train_data = filter_data.merge(merge_decomp_features_df,left_index = True, right_index = True)"
   ]
  },
  {
   "cell_type": "markdown",
   "metadata": {},
   "source": [
    "# Models"
   ]
  },
  {
   "cell_type": "markdown",
   "metadata": {},
   "source": [
    "## Lightgbm"
   ]
  },
  {
   "cell_type": "code",
   "execution_count": 81,
   "metadata": {},
   "outputs": [],
   "source": [
    "x_train, x_test_final, y_train, y_test_final = train_test_split(train_data, target, test_size=0.2, random_state=1)\n",
    "x_train, x_test, y_train, y_test = train_test_split(x_train, y_train, test_size = 0.2, random_state=1)\n",
    "x_train, x_val, y_train, y_val = train_test_split(x_train, y_train, test_size = 0.2, random_state=1)"
   ]
  },
  {
   "cell_type": "markdown",
   "metadata": {},
   "source": [
    "### hyperopt"
   ]
  },
  {
   "cell_type": "code",
   "execution_count": null,
   "metadata": {},
   "outputs": [],
   "source": [
    "lightgbm_hp_train = lgb.Dataset(x_train, y_train)\n",
    "lightgbm_hp_val = lgb.Dataset(x_val, y_val)\n",
    "lgbm_space = {\n",
    "    'learning_rate': hp.hp.loguniform('learning_rate', -4, 0),\n",
    "    'subsample':hp.hp.quniform('subsample',0.5,1.0,0.1),\n",
    "    'boosting_type': 'gbdt',\n",
    "    'metric': 'auc',\n",
    "    'application':\"binary\",\n",
    "    'objective': 'binary',\n",
    "    'num_iterations': 1000,\n",
    "    'max_depth': 2, \n",
    "    'num_leaves': 30,\n",
    "    'feature_fraction':0.5,\n",
    "    'bagging_fraction':0.5,\n",
    "    'min_data_in_leaf': 80,\n",
    "    'max_bin': 10,\n",
    "    'lambda_l1': 40,\n",
    "    'lambda_l2': 50,\n",
    "    }\n",
    "\n",
    "def objective_m(params, n_folds=5):\n",
    "\n",
    "\n",
    "    model = lgb.cv(params = params,\n",
    "              train_set = lightgbm_hp_train,\n",
    "              num_boost_round = 500,\n",
    "              early_stopping_rounds = 50,\n",
    "              nfold = n_folds,\n",
    "              stratified = False) \n",
    "  \n",
    "    # returns the best average loss on validation set \n",
    "    \n",
    "    loss = 1 - (max(model['auc-mean']))\n",
    "    return loss\n",
    "\n",
    "bayes_trials = Trials()\n",
    "MAX_EVALS = 50 # this controls the runtime \n",
    "\n",
    "lgbm_best_m = fmin(fn = objective_m, \n",
    "                   space = lgbm_space, \n",
    "                   algo = hp.tpe.suggest, \n",
    "                   max_evals = MAX_EVALS, \n",
    "                   trials = bayes_trials)"
   ]
  },
  {
   "cell_type": "code",
   "execution_count": null,
   "metadata": {},
   "outputs": [],
   "source": [
    "lgbm_best_m"
   ]
  },
  {
   "cell_type": "code",
   "execution_count": null,
   "metadata": {},
   "outputs": [],
   "source": [
    "params = {\n",
    "    'boosting_type': 'gbdt',\n",
    "    'metric': 'auc',\n",
    "    'application':\"binary\",\n",
    "    'objective': 'binary',\n",
    "    'num_iterations': 1000,\n",
    "    'learning_rate': 0.1585806160630482,\n",
    "    'max_depth': 2, \n",
    "    'num_leaves': 30,\n",
    "    'feature_fraction':0.5,\n",
    "    'bagging_fraction':0.5,\n",
    "    'min_data_in_leaf': 80,\n",
    "    'max_bin': 10,\n",
    "    'subsample': 0.5,\n",
    "    'lambda_l1': 40,\n",
    "    'lambda_l2': 50,\n",
    "#     'scale_pos_weight': (target.count()-target.sum())/target.sum(),\n",
    "#     'nthread': 6,\n",
    "    \n",
    "}\n",
    "\n",
    "lgb_train = lgb.Dataset(x_train, y_train)\n",
    "lgb_eval = lgb.Dataset(x_val, y_val, reference=lgb_train)\n",
    "\n",
    "gbm = lgb.train(params, lgb_train, num_boost_round=500, valid_sets=lgb_eval, early_stopping_rounds=50)"
   ]
  },
  {
   "cell_type": "code",
   "execution_count": null,
   "metadata": {},
   "outputs": [],
   "source": [
    "roc_auc_score(y_train, gbm.predict(x_train, num_iteration=gbm.best_iteration))"
   ]
  },
  {
   "cell_type": "code",
   "execution_count": null,
   "metadata": {},
   "outputs": [],
   "source": [
    "roc_auc_score(y_test, gbm.predict(x_test, num_iteration=gbm.best_iteration))"
   ]
  },
  {
   "cell_type": "markdown",
   "metadata": {},
   "source": [
    "### Manual"
   ]
  },
  {
   "cell_type": "code",
   "execution_count": 82,
   "metadata": {},
   "outputs": [
    {
     "name": "stdout",
     "output_type": "stream",
     "text": [
      "[1]\tvalid_0's auc: 0.606668\n",
      "Training until validation scores don't improve for 50 rounds.\n",
      "[2]\tvalid_0's auc: 0.625666\n",
      "[3]\tvalid_0's auc: 0.631731\n",
      "[4]\tvalid_0's auc: 0.630715\n",
      "[5]\tvalid_0's auc: 0.639787\n",
      "[6]\tvalid_0's auc: 0.648147\n",
      "[7]\tvalid_0's auc: 0.651615\n",
      "[8]\tvalid_0's auc: 0.653788\n",
      "[9]\tvalid_0's auc: 0.652457\n",
      "[10]\tvalid_0's auc: 0.654207\n",
      "[11]\tvalid_0's auc: 0.655397\n",
      "[12]\tvalid_0's auc: 0.654448\n",
      "[13]\tvalid_0's auc: 0.653966\n",
      "[14]\tvalid_0's auc: 0.65428\n",
      "[15]\tvalid_0's auc: 0.656606\n",
      "[16]\tvalid_0's auc: 0.657673\n",
      "[17]\tvalid_0's auc: 0.655752\n",
      "[18]\tvalid_0's auc: 0.657001\n",
      "[19]\tvalid_0's auc: 0.65689\n",
      "[20]\tvalid_0's auc: 0.656396\n",
      "[21]\tvalid_0's auc: 0.655728\n",
      "[22]\tvalid_0's auc: 0.655268\n",
      "[23]\tvalid_0's auc: 0.65679\n",
      "[24]\tvalid_0's auc: 0.657715\n",
      "[25]\tvalid_0's auc: 0.657181\n",
      "[26]\tvalid_0's auc: 0.657917\n",
      "[27]\tvalid_0's auc: 0.658558\n",
      "[28]\tvalid_0's auc: 0.659376\n",
      "[29]\tvalid_0's auc: 0.660412\n",
      "[30]\tvalid_0's auc: 0.660327\n",
      "[31]\tvalid_0's auc: 0.659867\n",
      "[32]\tvalid_0's auc: 0.65936\n",
      "[33]\tvalid_0's auc: 0.658805\n",
      "[34]\tvalid_0's auc: 0.659217\n",
      "[35]\tvalid_0's auc: 0.65872\n",
      "[36]\tvalid_0's auc: 0.658858\n",
      "[37]\tvalid_0's auc: 0.659371\n",
      "[38]\tvalid_0's auc: 0.659877\n",
      "[39]\tvalid_0's auc: 0.65917\n",
      "[40]\tvalid_0's auc: 0.659563\n",
      "[41]\tvalid_0's auc: 0.659444\n",
      "[42]\tvalid_0's auc: 0.659262\n",
      "[43]\tvalid_0's auc: 0.66029\n",
      "[44]\tvalid_0's auc: 0.659465\n",
      "[45]\tvalid_0's auc: 0.659813\n",
      "[46]\tvalid_0's auc: 0.66013\n",
      "[47]\tvalid_0's auc: 0.660065\n",
      "[48]\tvalid_0's auc: 0.660315\n",
      "[49]\tvalid_0's auc: 0.659481\n",
      "[50]\tvalid_0's auc: 0.659912\n",
      "[51]\tvalid_0's auc: 0.660101\n",
      "[52]\tvalid_0's auc: 0.659444\n",
      "[53]\tvalid_0's auc: 0.659371\n",
      "[54]\tvalid_0's auc: 0.659327\n",
      "[55]\tvalid_0's auc: 0.659305\n",
      "[56]\tvalid_0's auc: 0.658422\n",
      "[57]\tvalid_0's auc: 0.658834\n",
      "[58]\tvalid_0's auc: 0.658589\n",
      "[59]\tvalid_0's auc: 0.65822\n",
      "[60]\tvalid_0's auc: 0.658955\n",
      "[61]\tvalid_0's auc: 0.659317\n",
      "[62]\tvalid_0's auc: 0.659725\n",
      "[63]\tvalid_0's auc: 0.660979\n",
      "[64]\tvalid_0's auc: 0.66128\n",
      "[65]\tvalid_0's auc: 0.661046\n",
      "[66]\tvalid_0's auc: 0.661605\n",
      "[67]\tvalid_0's auc: 0.661778\n",
      "[68]\tvalid_0's auc: 0.662837\n",
      "[69]\tvalid_0's auc: 0.66281\n",
      "[70]\tvalid_0's auc: 0.663238\n",
      "[71]\tvalid_0's auc: 0.664113\n",
      "[72]\tvalid_0's auc: 0.664891\n",
      "[73]\tvalid_0's auc: 0.664598\n",
      "[74]\tvalid_0's auc: 0.66453\n",
      "[75]\tvalid_0's auc: 0.665284\n",
      "[76]\tvalid_0's auc: 0.665401\n",
      "[77]\tvalid_0's auc: 0.665433\n",
      "[78]\tvalid_0's auc: 0.665771\n",
      "[79]\tvalid_0's auc: 0.665873\n",
      "[80]\tvalid_0's auc: 0.666521\n",
      "[81]\tvalid_0's auc: 0.667136\n",
      "[82]\tvalid_0's auc: 0.667226\n",
      "[83]\tvalid_0's auc: 0.666776\n",
      "[84]\tvalid_0's auc: 0.667138\n",
      "[85]\tvalid_0's auc: 0.667122\n",
      "[86]\tvalid_0's auc: 0.667906\n",
      "[87]\tvalid_0's auc: 0.668475\n",
      "[88]\tvalid_0's auc: 0.668605\n",
      "[89]\tvalid_0's auc: 0.66905\n",
      "[90]\tvalid_0's auc: 0.669478\n",
      "[91]\tvalid_0's auc: 0.66976\n",
      "[92]\tvalid_0's auc: 0.669731\n",
      "[93]\tvalid_0's auc: 0.669618\n",
      "[94]\tvalid_0's auc: 0.669952\n",
      "[95]\tvalid_0's auc: 0.669718\n",
      "[96]\tvalid_0's auc: 0.66955\n",
      "[97]\tvalid_0's auc: 0.670348\n",
      "[98]\tvalid_0's auc: 0.670743\n",
      "[99]\tvalid_0's auc: 0.671045\n",
      "[100]\tvalid_0's auc: 0.671075\n",
      "[101]\tvalid_0's auc: 0.671277\n",
      "[102]\tvalid_0's auc: 0.671124\n",
      "[103]\tvalid_0's auc: 0.671587\n",
      "[104]\tvalid_0's auc: 0.671461\n",
      "[105]\tvalid_0's auc: 0.672173\n",
      "[106]\tvalid_0's auc: 0.67241\n",
      "[107]\tvalid_0's auc: 0.672784\n",
      "[108]\tvalid_0's auc: 0.672901\n",
      "[109]\tvalid_0's auc: 0.672964\n",
      "[110]\tvalid_0's auc: 0.673566\n",
      "[111]\tvalid_0's auc: 0.673882\n",
      "[112]\tvalid_0's auc: 0.673872\n",
      "[113]\tvalid_0's auc: 0.673895\n",
      "[114]\tvalid_0's auc: 0.674152\n",
      "[115]\tvalid_0's auc: 0.674533\n",
      "[116]\tvalid_0's auc: 0.674568\n",
      "[117]\tvalid_0's auc: 0.67518\n",
      "[118]\tvalid_0's auc: 0.675702\n",
      "[119]\tvalid_0's auc: 0.675745\n",
      "[120]\tvalid_0's auc: 0.675765\n",
      "[121]\tvalid_0's auc: 0.675444\n",
      "[122]\tvalid_0's auc: 0.67575\n",
      "[123]\tvalid_0's auc: 0.676361\n",
      "[124]\tvalid_0's auc: 0.676755\n",
      "[125]\tvalid_0's auc: 0.676903\n",
      "[126]\tvalid_0's auc: 0.677336\n",
      "[127]\tvalid_0's auc: 0.677376\n",
      "[128]\tvalid_0's auc: 0.677375\n",
      "[129]\tvalid_0's auc: 0.677402\n",
      "[130]\tvalid_0's auc: 0.67738\n",
      "[131]\tvalid_0's auc: 0.67757\n",
      "[132]\tvalid_0's auc: 0.677908\n",
      "[133]\tvalid_0's auc: 0.678124\n",
      "[134]\tvalid_0's auc: 0.678427\n",
      "[135]\tvalid_0's auc: 0.678414\n",
      "[136]\tvalid_0's auc: 0.67857\n",
      "[137]\tvalid_0's auc: 0.678788\n",
      "[138]\tvalid_0's auc: 0.678838\n",
      "[139]\tvalid_0's auc: 0.679233\n",
      "[140]\tvalid_0's auc: 0.679594\n",
      "[141]\tvalid_0's auc: 0.679733\n",
      "[142]\tvalid_0's auc: 0.679829\n",
      "[143]\tvalid_0's auc: 0.679838\n",
      "[144]\tvalid_0's auc: 0.679727\n",
      "[145]\tvalid_0's auc: 0.680201\n",
      "[146]\tvalid_0's auc: 0.680635\n",
      "[147]\tvalid_0's auc: 0.680888\n",
      "[148]\tvalid_0's auc: 0.68086\n",
      "[149]\tvalid_0's auc: 0.681384\n",
      "[150]\tvalid_0's auc: 0.681616\n",
      "[151]\tvalid_0's auc: 0.681676\n",
      "[152]\tvalid_0's auc: 0.681854\n",
      "[153]\tvalid_0's auc: 0.682036\n",
      "[154]\tvalid_0's auc: 0.682436\n",
      "[155]\tvalid_0's auc: 0.682541\n",
      "[156]\tvalid_0's auc: 0.682503\n",
      "[157]\tvalid_0's auc: 0.682651\n",
      "[158]\tvalid_0's auc: 0.682799\n",
      "[159]\tvalid_0's auc: 0.682779\n",
      "[160]\tvalid_0's auc: 0.682945\n",
      "[161]\tvalid_0's auc: 0.683053\n",
      "[162]\tvalid_0's auc: 0.683481\n",
      "[163]\tvalid_0's auc: 0.683942\n",
      "[164]\tvalid_0's auc: 0.684098\n",
      "[165]\tvalid_0's auc: 0.684105\n",
      "[166]\tvalid_0's auc: 0.684185\n",
      "[167]\tvalid_0's auc: 0.68441\n",
      "[168]\tvalid_0's auc: 0.684426\n",
      "[169]\tvalid_0's auc: 0.684842\n",
      "[170]\tvalid_0's auc: 0.685037\n",
      "[171]\tvalid_0's auc: 0.685382\n",
      "[172]\tvalid_0's auc: 0.685565\n",
      "[173]\tvalid_0's auc: 0.68583\n",
      "[174]\tvalid_0's auc: 0.686015\n",
      "[175]\tvalid_0's auc: 0.686161\n",
      "[176]\tvalid_0's auc: 0.686124\n",
      "[177]\tvalid_0's auc: 0.68667\n",
      "[178]\tvalid_0's auc: 0.686819\n",
      "[179]\tvalid_0's auc: 0.686956\n",
      "[180]\tvalid_0's auc: 0.687112\n",
      "[181]\tvalid_0's auc: 0.687292\n",
      "[182]\tvalid_0's auc: 0.687601\n",
      "[183]\tvalid_0's auc: 0.687924\n",
      "[184]\tvalid_0's auc: 0.687914\n",
      "[185]\tvalid_0's auc: 0.688026\n",
      "[186]\tvalid_0's auc: 0.688438\n",
      "[187]\tvalid_0's auc: 0.688779\n",
      "[188]\tvalid_0's auc: 0.688854\n",
      "[189]\tvalid_0's auc: 0.688972\n",
      "[190]\tvalid_0's auc: 0.689135\n",
      "[191]\tvalid_0's auc: 0.689651\n",
      "[192]\tvalid_0's auc: 0.689633\n",
      "[193]\tvalid_0's auc: 0.689682\n",
      "[194]\tvalid_0's auc: 0.689904\n",
      "[195]\tvalid_0's auc: 0.689955\n",
      "[196]\tvalid_0's auc: 0.690263\n",
      "[197]\tvalid_0's auc: 0.690368\n",
      "[198]\tvalid_0's auc: 0.690489\n",
      "[199]\tvalid_0's auc: 0.690572\n",
      "[200]\tvalid_0's auc: 0.690821\n",
      "[201]\tvalid_0's auc: 0.690811\n",
      "[202]\tvalid_0's auc: 0.691054\n",
      "[203]\tvalid_0's auc: 0.691035\n",
      "[204]\tvalid_0's auc: 0.691432\n",
      "[205]\tvalid_0's auc: 0.691542\n",
      "[206]\tvalid_0's auc: 0.691518\n",
      "[207]\tvalid_0's auc: 0.691807\n",
      "[208]\tvalid_0's auc: 0.692005\n",
      "[209]\tvalid_0's auc: 0.69204\n",
      "[210]\tvalid_0's auc: 0.69211\n",
      "[211]\tvalid_0's auc: 0.692188\n",
      "[212]\tvalid_0's auc: 0.692388\n",
      "[213]\tvalid_0's auc: 0.692547\n",
      "[214]\tvalid_0's auc: 0.692582\n",
      "[215]\tvalid_0's auc: 0.692963\n",
      "[216]\tvalid_0's auc: 0.693004\n",
      "[217]\tvalid_0's auc: 0.693367\n",
      "[218]\tvalid_0's auc: 0.693573\n",
      "[219]\tvalid_0's auc: 0.693632\n",
      "[220]\tvalid_0's auc: 0.693674\n",
      "[221]\tvalid_0's auc: 0.693591\n",
      "[222]\tvalid_0's auc: 0.693712\n",
      "[223]\tvalid_0's auc: 0.693631\n",
      "[224]\tvalid_0's auc: 0.693708\n",
      "[225]\tvalid_0's auc: 0.69382\n",
      "[226]\tvalid_0's auc: 0.693841\n",
      "[227]\tvalid_0's auc: 0.69412\n",
      "[228]\tvalid_0's auc: 0.694143\n",
      "[229]\tvalid_0's auc: 0.694329\n",
      "[230]\tvalid_0's auc: 0.694528\n",
      "[231]\tvalid_0's auc: 0.694775\n",
      "[232]\tvalid_0's auc: 0.694837\n",
      "[233]\tvalid_0's auc: 0.694916\n",
      "[234]\tvalid_0's auc: 0.695218\n",
      "[235]\tvalid_0's auc: 0.695357\n",
      "[236]\tvalid_0's auc: 0.695326\n",
      "[237]\tvalid_0's auc: 0.695293\n",
      "[238]\tvalid_0's auc: 0.695198\n",
      "[239]\tvalid_0's auc: 0.695214\n",
      "[240]\tvalid_0's auc: 0.695471\n",
      "[241]\tvalid_0's auc: 0.695436\n",
      "[242]\tvalid_0's auc: 0.695727\n",
      "[243]\tvalid_0's auc: 0.695876\n",
      "[244]\tvalid_0's auc: 0.695964\n",
      "[245]\tvalid_0's auc: 0.696236\n",
      "[246]\tvalid_0's auc: 0.69642\n",
      "[247]\tvalid_0's auc: 0.696473\n",
      "[248]\tvalid_0's auc: 0.696407\n",
      "[249]\tvalid_0's auc: 0.696509\n",
      "[250]\tvalid_0's auc: 0.696541\n",
      "[251]\tvalid_0's auc: 0.696624\n",
      "[252]\tvalid_0's auc: 0.696845\n",
      "[253]\tvalid_0's auc: 0.697075\n",
      "[254]\tvalid_0's auc: 0.697082\n",
      "[255]\tvalid_0's auc: 0.697199\n",
      "[256]\tvalid_0's auc: 0.69724\n",
      "[257]\tvalid_0's auc: 0.697228\n",
      "[258]\tvalid_0's auc: 0.697354\n",
      "[259]\tvalid_0's auc: 0.697582\n",
      "[260]\tvalid_0's auc: 0.69759\n",
      "[261]\tvalid_0's auc: 0.697752\n",
      "[262]\tvalid_0's auc: 0.697919\n",
      "[263]\tvalid_0's auc: 0.698086\n",
      "[264]\tvalid_0's auc: 0.698109\n",
      "[265]\tvalid_0's auc: 0.698187\n",
      "[266]\tvalid_0's auc: 0.698101\n",
      "[267]\tvalid_0's auc: 0.698131\n",
      "[268]\tvalid_0's auc: 0.698457\n",
      "[269]\tvalid_0's auc: 0.698452\n",
      "[270]\tvalid_0's auc: 0.698526\n",
      "[271]\tvalid_0's auc: 0.6986\n",
      "[272]\tvalid_0's auc: 0.698709\n",
      "[273]\tvalid_0's auc: 0.698719\n",
      "[274]\tvalid_0's auc: 0.698675\n",
      "[275]\tvalid_0's auc: 0.698811\n",
      "[276]\tvalid_0's auc: 0.698922\n",
      "[277]\tvalid_0's auc: 0.699008\n",
      "[278]\tvalid_0's auc: 0.699218\n",
      "[279]\tvalid_0's auc: 0.699236\n",
      "[280]\tvalid_0's auc: 0.699512\n",
      "[281]\tvalid_0's auc: 0.699539\n",
      "[282]\tvalid_0's auc: 0.699672\n",
      "[283]\tvalid_0's auc: 0.699779\n",
      "[284]\tvalid_0's auc: 0.699977\n",
      "[285]\tvalid_0's auc: 0.700087\n",
      "[286]\tvalid_0's auc: 0.700086\n",
      "[287]\tvalid_0's auc: 0.700173\n",
      "[288]\tvalid_0's auc: 0.70019\n",
      "[289]\tvalid_0's auc: 0.700264\n",
      "[290]\tvalid_0's auc: 0.700363\n",
      "[291]\tvalid_0's auc: 0.700602\n",
      "[292]\tvalid_0's auc: 0.700656\n",
      "[293]\tvalid_0's auc: 0.700728\n",
      "[294]\tvalid_0's auc: 0.700618\n",
      "[295]\tvalid_0's auc: 0.700869\n",
      "[296]\tvalid_0's auc: 0.700893\n",
      "[297]\tvalid_0's auc: 0.700868\n",
      "[298]\tvalid_0's auc: 0.700877\n",
      "[299]\tvalid_0's auc: 0.700924\n",
      "[300]\tvalid_0's auc: 0.701051\n",
      "[301]\tvalid_0's auc: 0.701036\n",
      "[302]\tvalid_0's auc: 0.70105\n",
      "[303]\tvalid_0's auc: 0.701113\n",
      "[304]\tvalid_0's auc: 0.701222\n",
      "[305]\tvalid_0's auc: 0.701451\n",
      "[306]\tvalid_0's auc: 0.701508\n",
      "[307]\tvalid_0's auc: 0.701679\n",
      "[308]\tvalid_0's auc: 0.701667\n",
      "[309]\tvalid_0's auc: 0.701735\n",
      "[310]\tvalid_0's auc: 0.701729\n",
      "[311]\tvalid_0's auc: 0.701884\n",
      "[312]\tvalid_0's auc: 0.701853\n",
      "[313]\tvalid_0's auc: 0.701915\n",
      "[314]\tvalid_0's auc: 0.701899\n",
      "[315]\tvalid_0's auc: 0.702129\n",
      "[316]\tvalid_0's auc: 0.702164\n",
      "[317]\tvalid_0's auc: 0.702226\n",
      "[318]\tvalid_0's auc: 0.702321\n",
      "[319]\tvalid_0's auc: 0.702321\n",
      "[320]\tvalid_0's auc: 0.702223\n",
      "[321]\tvalid_0's auc: 0.702214\n",
      "[322]\tvalid_0's auc: 0.70247\n",
      "[323]\tvalid_0's auc: 0.702615\n",
      "[324]\tvalid_0's auc: 0.702604\n",
      "[325]\tvalid_0's auc: 0.702832\n",
      "[326]\tvalid_0's auc: 0.702931\n",
      "[327]\tvalid_0's auc: 0.702858\n",
      "[328]\tvalid_0's auc: 0.702955\n"
     ]
    },
    {
     "name": "stdout",
     "output_type": "stream",
     "text": [
      "[329]\tvalid_0's auc: 0.703013\n",
      "[330]\tvalid_0's auc: 0.703075\n",
      "[331]\tvalid_0's auc: 0.703194\n",
      "[332]\tvalid_0's auc: 0.703407\n",
      "[333]\tvalid_0's auc: 0.70346\n",
      "[334]\tvalid_0's auc: 0.703663\n",
      "[335]\tvalid_0's auc: 0.703682\n",
      "[336]\tvalid_0's auc: 0.703696\n",
      "[337]\tvalid_0's auc: 0.703773\n",
      "[338]\tvalid_0's auc: 0.703814\n",
      "[339]\tvalid_0's auc: 0.703913\n",
      "[340]\tvalid_0's auc: 0.704112\n",
      "[341]\tvalid_0's auc: 0.704236\n",
      "[342]\tvalid_0's auc: 0.704229\n",
      "[343]\tvalid_0's auc: 0.704217\n",
      "[344]\tvalid_0's auc: 0.704414\n",
      "[345]\tvalid_0's auc: 0.704499\n",
      "[346]\tvalid_0's auc: 0.704606\n",
      "[347]\tvalid_0's auc: 0.70459\n",
      "[348]\tvalid_0's auc: 0.704734\n",
      "[349]\tvalid_0's auc: 0.704698\n",
      "[350]\tvalid_0's auc: 0.704795\n",
      "[351]\tvalid_0's auc: 0.704791\n",
      "[352]\tvalid_0's auc: 0.704786\n",
      "[353]\tvalid_0's auc: 0.704884\n",
      "[354]\tvalid_0's auc: 0.704932\n",
      "[355]\tvalid_0's auc: 0.704976\n",
      "[356]\tvalid_0's auc: 0.705043\n",
      "[357]\tvalid_0's auc: 0.705042\n",
      "[358]\tvalid_0's auc: 0.705018\n",
      "[359]\tvalid_0's auc: 0.705097\n",
      "[360]\tvalid_0's auc: 0.705223\n",
      "[361]\tvalid_0's auc: 0.705362\n",
      "[362]\tvalid_0's auc: 0.705377\n",
      "[363]\tvalid_0's auc: 0.705522\n",
      "[364]\tvalid_0's auc: 0.705497\n",
      "[365]\tvalid_0's auc: 0.705611\n",
      "[366]\tvalid_0's auc: 0.70578\n",
      "[367]\tvalid_0's auc: 0.705775\n",
      "[368]\tvalid_0's auc: 0.705705\n",
      "[369]\tvalid_0's auc: 0.705823\n",
      "[370]\tvalid_0's auc: 0.705853\n",
      "[371]\tvalid_0's auc: 0.706027\n",
      "[372]\tvalid_0's auc: 0.706175\n",
      "[373]\tvalid_0's auc: 0.70628\n",
      "[374]\tvalid_0's auc: 0.706367\n",
      "[375]\tvalid_0's auc: 0.706413\n",
      "[376]\tvalid_0's auc: 0.706449\n",
      "[377]\tvalid_0's auc: 0.706429\n",
      "[378]\tvalid_0's auc: 0.706397\n",
      "[379]\tvalid_0's auc: 0.706478\n",
      "[380]\tvalid_0's auc: 0.706464\n",
      "[381]\tvalid_0's auc: 0.706556\n",
      "[382]\tvalid_0's auc: 0.706561\n",
      "[383]\tvalid_0's auc: 0.706609\n",
      "[384]\tvalid_0's auc: 0.706589\n",
      "[385]\tvalid_0's auc: 0.706762\n",
      "[386]\tvalid_0's auc: 0.706932\n",
      "[387]\tvalid_0's auc: 0.70699\n",
      "[388]\tvalid_0's auc: 0.707085\n",
      "[389]\tvalid_0's auc: 0.707189\n",
      "[390]\tvalid_0's auc: 0.707178\n",
      "[391]\tvalid_0's auc: 0.707268\n",
      "[392]\tvalid_0's auc: 0.707386\n",
      "[393]\tvalid_0's auc: 0.707452\n",
      "[394]\tvalid_0's auc: 0.707391\n",
      "[395]\tvalid_0's auc: 0.707385\n",
      "[396]\tvalid_0's auc: 0.707439\n",
      "[397]\tvalid_0's auc: 0.707559\n",
      "[398]\tvalid_0's auc: 0.707559\n",
      "[399]\tvalid_0's auc: 0.707708\n",
      "[400]\tvalid_0's auc: 0.707688\n",
      "[401]\tvalid_0's auc: 0.707787\n",
      "[402]\tvalid_0's auc: 0.707846\n",
      "[403]\tvalid_0's auc: 0.7079\n",
      "[404]\tvalid_0's auc: 0.708034\n",
      "[405]\tvalid_0's auc: 0.708049\n",
      "[406]\tvalid_0's auc: 0.708069\n",
      "[407]\tvalid_0's auc: 0.708125\n",
      "[408]\tvalid_0's auc: 0.708111\n",
      "[409]\tvalid_0's auc: 0.708223\n",
      "[410]\tvalid_0's auc: 0.708351\n",
      "[411]\tvalid_0's auc: 0.708499\n",
      "[412]\tvalid_0's auc: 0.708534\n",
      "[413]\tvalid_0's auc: 0.708545\n",
      "[414]\tvalid_0's auc: 0.708595\n",
      "[415]\tvalid_0's auc: 0.70865\n",
      "[416]\tvalid_0's auc: 0.708764\n",
      "[417]\tvalid_0's auc: 0.70883\n",
      "[418]\tvalid_0's auc: 0.708815\n",
      "[419]\tvalid_0's auc: 0.708848\n",
      "[420]\tvalid_0's auc: 0.708923\n",
      "[421]\tvalid_0's auc: 0.708917\n",
      "[422]\tvalid_0's auc: 0.709\n",
      "[423]\tvalid_0's auc: 0.709073\n",
      "[424]\tvalid_0's auc: 0.709112\n",
      "[425]\tvalid_0's auc: 0.709172\n",
      "[426]\tvalid_0's auc: 0.709211\n",
      "[427]\tvalid_0's auc: 0.709346\n",
      "[428]\tvalid_0's auc: 0.709524\n",
      "[429]\tvalid_0's auc: 0.709519\n",
      "[430]\tvalid_0's auc: 0.709587\n",
      "[431]\tvalid_0's auc: 0.709657\n",
      "[432]\tvalid_0's auc: 0.709629\n",
      "[433]\tvalid_0's auc: 0.709693\n",
      "[434]\tvalid_0's auc: 0.709618\n",
      "[435]\tvalid_0's auc: 0.70968\n",
      "[436]\tvalid_0's auc: 0.709782\n",
      "[437]\tvalid_0's auc: 0.709922\n",
      "[438]\tvalid_0's auc: 0.709871\n",
      "[439]\tvalid_0's auc: 0.709922\n",
      "[440]\tvalid_0's auc: 0.709972\n",
      "[441]\tvalid_0's auc: 0.709994\n",
      "[442]\tvalid_0's auc: 0.710026\n",
      "[443]\tvalid_0's auc: 0.710145\n",
      "[444]\tvalid_0's auc: 0.710246\n",
      "[445]\tvalid_0's auc: 0.710206\n",
      "[446]\tvalid_0's auc: 0.710335\n",
      "[447]\tvalid_0's auc: 0.710305\n",
      "[448]\tvalid_0's auc: 0.710302\n",
      "[449]\tvalid_0's auc: 0.710336\n",
      "[450]\tvalid_0's auc: 0.710381\n",
      "[451]\tvalid_0's auc: 0.710516\n",
      "[452]\tvalid_0's auc: 0.710563\n",
      "[453]\tvalid_0's auc: 0.71058\n",
      "[454]\tvalid_0's auc: 0.710601\n",
      "[455]\tvalid_0's auc: 0.710666\n",
      "[456]\tvalid_0's auc: 0.710708\n",
      "[457]\tvalid_0's auc: 0.710657\n",
      "[458]\tvalid_0's auc: 0.710659\n",
      "[459]\tvalid_0's auc: 0.710616\n",
      "[460]\tvalid_0's auc: 0.71067\n",
      "[461]\tvalid_0's auc: 0.710752\n",
      "[462]\tvalid_0's auc: 0.710859\n",
      "[463]\tvalid_0's auc: 0.710936\n",
      "[464]\tvalid_0's auc: 0.711067\n",
      "[465]\tvalid_0's auc: 0.711135\n",
      "[466]\tvalid_0's auc: 0.71127\n",
      "[467]\tvalid_0's auc: 0.711404\n",
      "[468]\tvalid_0's auc: 0.711407\n",
      "[469]\tvalid_0's auc: 0.711521\n",
      "[470]\tvalid_0's auc: 0.71153\n",
      "[471]\tvalid_0's auc: 0.711596\n",
      "[472]\tvalid_0's auc: 0.711627\n",
      "[473]\tvalid_0's auc: 0.711745\n",
      "[474]\tvalid_0's auc: 0.711776\n",
      "[475]\tvalid_0's auc: 0.711743\n",
      "[476]\tvalid_0's auc: 0.711716\n",
      "[477]\tvalid_0's auc: 0.711768\n",
      "[478]\tvalid_0's auc: 0.711843\n",
      "[479]\tvalid_0's auc: 0.711966\n",
      "[480]\tvalid_0's auc: 0.712007\n",
      "[481]\tvalid_0's auc: 0.711983\n",
      "[482]\tvalid_0's auc: 0.712038\n",
      "[483]\tvalid_0's auc: 0.712017\n",
      "[484]\tvalid_0's auc: 0.712079\n",
      "[485]\tvalid_0's auc: 0.712094\n",
      "[486]\tvalid_0's auc: 0.712212\n",
      "[487]\tvalid_0's auc: 0.712327\n",
      "[488]\tvalid_0's auc: 0.712358\n",
      "[489]\tvalid_0's auc: 0.712453\n",
      "[490]\tvalid_0's auc: 0.712454\n",
      "[491]\tvalid_0's auc: 0.712483\n",
      "[492]\tvalid_0's auc: 0.712505\n",
      "[493]\tvalid_0's auc: 0.712543\n",
      "[494]\tvalid_0's auc: 0.712588\n",
      "[495]\tvalid_0's auc: 0.712696\n",
      "[496]\tvalid_0's auc: 0.712635\n",
      "[497]\tvalid_0's auc: 0.712729\n",
      "[498]\tvalid_0's auc: 0.712778\n",
      "[499]\tvalid_0's auc: 0.712785\n",
      "[500]\tvalid_0's auc: 0.712867\n",
      "[501]\tvalid_0's auc: 0.712875\n",
      "[502]\tvalid_0's auc: 0.712949\n",
      "[503]\tvalid_0's auc: 0.713038\n",
      "[504]\tvalid_0's auc: 0.713106\n",
      "[505]\tvalid_0's auc: 0.713154\n",
      "[506]\tvalid_0's auc: 0.713131\n",
      "[507]\tvalid_0's auc: 0.713202\n",
      "[508]\tvalid_0's auc: 0.713206\n",
      "[509]\tvalid_0's auc: 0.713316\n",
      "[510]\tvalid_0's auc: 0.713398\n",
      "[511]\tvalid_0's auc: 0.713372\n",
      "[512]\tvalid_0's auc: 0.713411\n",
      "[513]\tvalid_0's auc: 0.713396\n",
      "[514]\tvalid_0's auc: 0.713471\n",
      "[515]\tvalid_0's auc: 0.713466\n",
      "[516]\tvalid_0's auc: 0.713581\n",
      "[517]\tvalid_0's auc: 0.713589\n",
      "[518]\tvalid_0's auc: 0.713667\n",
      "[519]\tvalid_0's auc: 0.713734\n",
      "[520]\tvalid_0's auc: 0.713713\n",
      "[521]\tvalid_0's auc: 0.713663\n",
      "[522]\tvalid_0's auc: 0.713752\n",
      "[523]\tvalid_0's auc: 0.713725\n",
      "[524]\tvalid_0's auc: 0.713826\n",
      "[525]\tvalid_0's auc: 0.713913\n",
      "[526]\tvalid_0's auc: 0.713916\n",
      "[527]\tvalid_0's auc: 0.713905\n",
      "[528]\tvalid_0's auc: 0.713901\n",
      "[529]\tvalid_0's auc: 0.713987\n",
      "[530]\tvalid_0's auc: 0.714094\n",
      "[531]\tvalid_0's auc: 0.71407\n",
      "[532]\tvalid_0's auc: 0.714058\n",
      "[533]\tvalid_0's auc: 0.71413\n",
      "[534]\tvalid_0's auc: 0.714159\n",
      "[535]\tvalid_0's auc: 0.714227\n",
      "[536]\tvalid_0's auc: 0.714254\n",
      "[537]\tvalid_0's auc: 0.714357\n",
      "[538]\tvalid_0's auc: 0.714475\n",
      "[539]\tvalid_0's auc: 0.714532\n",
      "[540]\tvalid_0's auc: 0.714558\n",
      "[541]\tvalid_0's auc: 0.714574\n",
      "[542]\tvalid_0's auc: 0.714678\n",
      "[543]\tvalid_0's auc: 0.714731\n",
      "[544]\tvalid_0's auc: 0.714763\n",
      "[545]\tvalid_0's auc: 0.714739\n",
      "[546]\tvalid_0's auc: 0.714786\n",
      "[547]\tvalid_0's auc: 0.714807\n",
      "[548]\tvalid_0's auc: 0.714825\n",
      "[549]\tvalid_0's auc: 0.714798\n",
      "[550]\tvalid_0's auc: 0.714905\n",
      "[551]\tvalid_0's auc: 0.714939\n",
      "[552]\tvalid_0's auc: 0.714997\n",
      "[553]\tvalid_0's auc: 0.715025\n",
      "[554]\tvalid_0's auc: 0.715059\n",
      "[555]\tvalid_0's auc: 0.715071\n",
      "[556]\tvalid_0's auc: 0.715068\n",
      "[557]\tvalid_0's auc: 0.715044\n",
      "[558]\tvalid_0's auc: 0.715116\n",
      "[559]\tvalid_0's auc: 0.715173\n",
      "[560]\tvalid_0's auc: 0.715178\n",
      "[561]\tvalid_0's auc: 0.715231\n",
      "[562]\tvalid_0's auc: 0.715232\n",
      "[563]\tvalid_0's auc: 0.715298\n",
      "[564]\tvalid_0's auc: 0.715321\n",
      "[565]\tvalid_0's auc: 0.715403\n",
      "[566]\tvalid_0's auc: 0.715467\n",
      "[567]\tvalid_0's auc: 0.715474\n",
      "[568]\tvalid_0's auc: 0.715497\n",
      "[569]\tvalid_0's auc: 0.715516\n",
      "[570]\tvalid_0's auc: 0.715576\n",
      "[571]\tvalid_0's auc: 0.715621\n",
      "[572]\tvalid_0's auc: 0.715614\n",
      "[573]\tvalid_0's auc: 0.715684\n",
      "[574]\tvalid_0's auc: 0.715723\n",
      "[575]\tvalid_0's auc: 0.715755\n",
      "[576]\tvalid_0's auc: 0.715831\n",
      "[577]\tvalid_0's auc: 0.715823\n",
      "[578]\tvalid_0's auc: 0.715879\n",
      "[579]\tvalid_0's auc: 0.715917\n",
      "[580]\tvalid_0's auc: 0.71597\n",
      "[581]\tvalid_0's auc: 0.716036\n",
      "[582]\tvalid_0's auc: 0.716021\n",
      "[583]\tvalid_0's auc: 0.716005\n",
      "[584]\tvalid_0's auc: 0.716051\n",
      "[585]\tvalid_0's auc: 0.716114\n",
      "[586]\tvalid_0's auc: 0.716137\n",
      "[587]\tvalid_0's auc: 0.716185\n",
      "[588]\tvalid_0's auc: 0.716252\n",
      "[589]\tvalid_0's auc: 0.716335\n",
      "[590]\tvalid_0's auc: 0.716353\n",
      "[591]\tvalid_0's auc: 0.716358\n",
      "[592]\tvalid_0's auc: 0.716461\n",
      "[593]\tvalid_0's auc: 0.716434\n",
      "[594]\tvalid_0's auc: 0.716457\n",
      "[595]\tvalid_0's auc: 0.716507\n",
      "[596]\tvalid_0's auc: 0.716528\n",
      "[597]\tvalid_0's auc: 0.71655\n",
      "[598]\tvalid_0's auc: 0.716649\n",
      "[599]\tvalid_0's auc: 0.716731\n",
      "[600]\tvalid_0's auc: 0.716746\n",
      "[601]\tvalid_0's auc: 0.716718\n",
      "[602]\tvalid_0's auc: 0.716754\n",
      "[603]\tvalid_0's auc: 0.716793\n",
      "[604]\tvalid_0's auc: 0.71685\n",
      "[605]\tvalid_0's auc: 0.716905\n",
      "[606]\tvalid_0's auc: 0.71691\n",
      "[607]\tvalid_0's auc: 0.716908\n",
      "[608]\tvalid_0's auc: 0.716913\n",
      "[609]\tvalid_0's auc: 0.716944\n",
      "[610]\tvalid_0's auc: 0.716992\n",
      "[611]\tvalid_0's auc: 0.717021\n",
      "[612]\tvalid_0's auc: 0.716997\n",
      "[613]\tvalid_0's auc: 0.717017\n",
      "[614]\tvalid_0's auc: 0.717092\n",
      "[615]\tvalid_0's auc: 0.717159\n",
      "[616]\tvalid_0's auc: 0.717194\n",
      "[617]\tvalid_0's auc: 0.717231\n",
      "[618]\tvalid_0's auc: 0.717337\n",
      "[619]\tvalid_0's auc: 0.717338\n",
      "[620]\tvalid_0's auc: 0.717396\n",
      "[621]\tvalid_0's auc: 0.717388\n",
      "[622]\tvalid_0's auc: 0.717442\n",
      "[623]\tvalid_0's auc: 0.71744\n",
      "[624]\tvalid_0's auc: 0.717439\n",
      "[625]\tvalid_0's auc: 0.717485\n",
      "[626]\tvalid_0's auc: 0.717538\n",
      "[627]\tvalid_0's auc: 0.71757\n",
      "[628]\tvalid_0's auc: 0.717615\n",
      "[629]\tvalid_0's auc: 0.717653\n",
      "[630]\tvalid_0's auc: 0.717726\n",
      "[631]\tvalid_0's auc: 0.717738\n",
      "[632]\tvalid_0's auc: 0.717803\n",
      "[633]\tvalid_0's auc: 0.717819\n",
      "[634]\tvalid_0's auc: 0.717859\n",
      "[635]\tvalid_0's auc: 0.717887\n",
      "[636]\tvalid_0's auc: 0.717908\n",
      "[637]\tvalid_0's auc: 0.717923\n",
      "[638]\tvalid_0's auc: 0.717926\n",
      "[639]\tvalid_0's auc: 0.717964\n",
      "[640]\tvalid_0's auc: 0.718036\n",
      "[641]\tvalid_0's auc: 0.718114\n",
      "[642]\tvalid_0's auc: 0.718122\n",
      "[643]\tvalid_0's auc: 0.718156\n",
      "[644]\tvalid_0's auc: 0.718219\n",
      "[645]\tvalid_0's auc: 0.718264\n",
      "[646]\tvalid_0's auc: 0.71829\n",
      "[647]\tvalid_0's auc: 0.718303\n",
      "[648]\tvalid_0's auc: 0.718317\n",
      "[649]\tvalid_0's auc: 0.718345\n",
      "[650]\tvalid_0's auc: 0.718385\n",
      "[651]\tvalid_0's auc: 0.718462\n",
      "[652]\tvalid_0's auc: 0.718497\n",
      "[653]\tvalid_0's auc: 0.718543\n",
      "[654]\tvalid_0's auc: 0.718538\n",
      "[655]\tvalid_0's auc: 0.718566\n",
      "[656]\tvalid_0's auc: 0.718576\n",
      "[657]\tvalid_0's auc: 0.718594\n",
      "[658]\tvalid_0's auc: 0.718641\n",
      "[659]\tvalid_0's auc: 0.71865\n"
     ]
    },
    {
     "name": "stdout",
     "output_type": "stream",
     "text": [
      "[660]\tvalid_0's auc: 0.718713\n",
      "[661]\tvalid_0's auc: 0.718812\n",
      "[662]\tvalid_0's auc: 0.718839\n",
      "[663]\tvalid_0's auc: 0.718853\n",
      "[664]\tvalid_0's auc: 0.718867\n",
      "[665]\tvalid_0's auc: 0.718887\n",
      "[666]\tvalid_0's auc: 0.718907\n",
      "[667]\tvalid_0's auc: 0.718954\n",
      "[668]\tvalid_0's auc: 0.719003\n",
      "[669]\tvalid_0's auc: 0.718987\n",
      "[670]\tvalid_0's auc: 0.719067\n",
      "[671]\tvalid_0's auc: 0.719092\n",
      "[672]\tvalid_0's auc: 0.719049\n",
      "[673]\tvalid_0's auc: 0.719101\n",
      "[674]\tvalid_0's auc: 0.719087\n",
      "[675]\tvalid_0's auc: 0.7191\n",
      "[676]\tvalid_0's auc: 0.719111\n",
      "[677]\tvalid_0's auc: 0.719152\n",
      "[678]\tvalid_0's auc: 0.71921\n",
      "[679]\tvalid_0's auc: 0.719224\n",
      "[680]\tvalid_0's auc: 0.719327\n",
      "[681]\tvalid_0's auc: 0.719359\n",
      "[682]\tvalid_0's auc: 0.719351\n",
      "[683]\tvalid_0's auc: 0.719405\n",
      "[684]\tvalid_0's auc: 0.719464\n",
      "[685]\tvalid_0's auc: 0.719433\n",
      "[686]\tvalid_0's auc: 0.719439\n",
      "[687]\tvalid_0's auc: 0.719429\n",
      "[688]\tvalid_0's auc: 0.71945\n",
      "[689]\tvalid_0's auc: 0.719476\n",
      "[690]\tvalid_0's auc: 0.719489\n",
      "[691]\tvalid_0's auc: 0.719536\n",
      "[692]\tvalid_0's auc: 0.719574\n",
      "[693]\tvalid_0's auc: 0.71962\n",
      "[694]\tvalid_0's auc: 0.719676\n",
      "[695]\tvalid_0's auc: 0.719773\n",
      "[696]\tvalid_0's auc: 0.71982\n",
      "[697]\tvalid_0's auc: 0.71984\n",
      "[698]\tvalid_0's auc: 0.719881\n",
      "[699]\tvalid_0's auc: 0.719946\n",
      "[700]\tvalid_0's auc: 0.719925\n",
      "[701]\tvalid_0's auc: 0.719944\n",
      "[702]\tvalid_0's auc: 0.719963\n",
      "[703]\tvalid_0's auc: 0.71998\n",
      "[704]\tvalid_0's auc: 0.719987\n",
      "[705]\tvalid_0's auc: 0.720028\n",
      "[706]\tvalid_0's auc: 0.720038\n",
      "[707]\tvalid_0's auc: 0.720102\n",
      "[708]\tvalid_0's auc: 0.72007\n",
      "[709]\tvalid_0's auc: 0.720115\n",
      "[710]\tvalid_0's auc: 0.720136\n",
      "[711]\tvalid_0's auc: 0.72015\n",
      "[712]\tvalid_0's auc: 0.720148\n",
      "[713]\tvalid_0's auc: 0.720166\n",
      "[714]\tvalid_0's auc: 0.720211\n",
      "[715]\tvalid_0's auc: 0.720216\n",
      "[716]\tvalid_0's auc: 0.720238\n",
      "[717]\tvalid_0's auc: 0.720264\n",
      "[718]\tvalid_0's auc: 0.720325\n",
      "[719]\tvalid_0's auc: 0.720355\n",
      "[720]\tvalid_0's auc: 0.720364\n",
      "[721]\tvalid_0's auc: 0.720388\n",
      "[722]\tvalid_0's auc: 0.720431\n",
      "[723]\tvalid_0's auc: 0.720474\n",
      "[724]\tvalid_0's auc: 0.720427\n",
      "[725]\tvalid_0's auc: 0.72046\n",
      "[726]\tvalid_0's auc: 0.72045\n",
      "[727]\tvalid_0's auc: 0.720499\n",
      "[728]\tvalid_0's auc: 0.720528\n",
      "[729]\tvalid_0's auc: 0.720528\n",
      "[730]\tvalid_0's auc: 0.72057\n",
      "[731]\tvalid_0's auc: 0.7206\n",
      "[732]\tvalid_0's auc: 0.720604\n",
      "[733]\tvalid_0's auc: 0.720648\n",
      "[734]\tvalid_0's auc: 0.72068\n",
      "[735]\tvalid_0's auc: 0.720699\n",
      "[736]\tvalid_0's auc: 0.720732\n",
      "[737]\tvalid_0's auc: 0.720752\n",
      "[738]\tvalid_0's auc: 0.720766\n",
      "[739]\tvalid_0's auc: 0.72079\n",
      "[740]\tvalid_0's auc: 0.720867\n",
      "[741]\tvalid_0's auc: 0.720846\n",
      "[742]\tvalid_0's auc: 0.720845\n",
      "[743]\tvalid_0's auc: 0.720843\n",
      "[744]\tvalid_0's auc: 0.72088\n",
      "[745]\tvalid_0's auc: 0.720868\n",
      "[746]\tvalid_0's auc: 0.720925\n",
      "[747]\tvalid_0's auc: 0.720955\n",
      "[748]\tvalid_0's auc: 0.720993\n",
      "[749]\tvalid_0's auc: 0.721057\n",
      "[750]\tvalid_0's auc: 0.721115\n",
      "[751]\tvalid_0's auc: 0.721119\n",
      "[752]\tvalid_0's auc: 0.721146\n",
      "[753]\tvalid_0's auc: 0.721189\n",
      "[754]\tvalid_0's auc: 0.721195\n",
      "[755]\tvalid_0's auc: 0.721246\n",
      "[756]\tvalid_0's auc: 0.721292\n",
      "[757]\tvalid_0's auc: 0.721269\n",
      "[758]\tvalid_0's auc: 0.721301\n",
      "[759]\tvalid_0's auc: 0.721325\n",
      "[760]\tvalid_0's auc: 0.721331\n",
      "[761]\tvalid_0's auc: 0.721327\n",
      "[762]\tvalid_0's auc: 0.721331\n",
      "[763]\tvalid_0's auc: 0.721353\n",
      "[764]\tvalid_0's auc: 0.721381\n",
      "[765]\tvalid_0's auc: 0.721427\n",
      "[766]\tvalid_0's auc: 0.721421\n",
      "[767]\tvalid_0's auc: 0.721429\n",
      "[768]\tvalid_0's auc: 0.721504\n",
      "[769]\tvalid_0's auc: 0.721544\n",
      "[770]\tvalid_0's auc: 0.721576\n",
      "[771]\tvalid_0's auc: 0.721595\n",
      "[772]\tvalid_0's auc: 0.721628\n",
      "[773]\tvalid_0's auc: 0.721659\n",
      "[774]\tvalid_0's auc: 0.721691\n",
      "[775]\tvalid_0's auc: 0.721749\n",
      "[776]\tvalid_0's auc: 0.721814\n",
      "[777]\tvalid_0's auc: 0.721794\n",
      "[778]\tvalid_0's auc: 0.721879\n",
      "[779]\tvalid_0's auc: 0.721889\n",
      "[780]\tvalid_0's auc: 0.721932\n",
      "[781]\tvalid_0's auc: 0.721923\n",
      "[782]\tvalid_0's auc: 0.721932\n",
      "[783]\tvalid_0's auc: 0.721928\n",
      "[784]\tvalid_0's auc: 0.721948\n",
      "[785]\tvalid_0's auc: 0.72197\n",
      "[786]\tvalid_0's auc: 0.722046\n",
      "[787]\tvalid_0's auc: 0.722083\n",
      "[788]\tvalid_0's auc: 0.722063\n",
      "[789]\tvalid_0's auc: 0.722071\n",
      "[790]\tvalid_0's auc: 0.722085\n",
      "[791]\tvalid_0's auc: 0.722124\n",
      "[792]\tvalid_0's auc: 0.722172\n",
      "[793]\tvalid_0's auc: 0.722184\n",
      "[794]\tvalid_0's auc: 0.7222\n",
      "[795]\tvalid_0's auc: 0.722177\n",
      "[796]\tvalid_0's auc: 0.722267\n",
      "[797]\tvalid_0's auc: 0.722294\n",
      "[798]\tvalid_0's auc: 0.722308\n",
      "[799]\tvalid_0's auc: 0.722319\n",
      "[800]\tvalid_0's auc: 0.722352\n",
      "[801]\tvalid_0's auc: 0.722375\n",
      "[802]\tvalid_0's auc: 0.722411\n",
      "[803]\tvalid_0's auc: 0.722427\n",
      "[804]\tvalid_0's auc: 0.722468\n",
      "[805]\tvalid_0's auc: 0.722497\n",
      "[806]\tvalid_0's auc: 0.722506\n",
      "[807]\tvalid_0's auc: 0.722549\n",
      "[808]\tvalid_0's auc: 0.72252\n",
      "[809]\tvalid_0's auc: 0.722503\n",
      "[810]\tvalid_0's auc: 0.722523\n",
      "[811]\tvalid_0's auc: 0.722584\n",
      "[812]\tvalid_0's auc: 0.72261\n",
      "[813]\tvalid_0's auc: 0.722627\n",
      "[814]\tvalid_0's auc: 0.722676\n",
      "[815]\tvalid_0's auc: 0.722715\n",
      "[816]\tvalid_0's auc: 0.722709\n",
      "[817]\tvalid_0's auc: 0.722721\n",
      "[818]\tvalid_0's auc: 0.722757\n",
      "[819]\tvalid_0's auc: 0.72279\n",
      "[820]\tvalid_0's auc: 0.722798\n",
      "[821]\tvalid_0's auc: 0.722788\n",
      "[822]\tvalid_0's auc: 0.722801\n",
      "[823]\tvalid_0's auc: 0.722886\n",
      "[824]\tvalid_0's auc: 0.722883\n",
      "[825]\tvalid_0's auc: 0.722915\n",
      "[826]\tvalid_0's auc: 0.722973\n",
      "[827]\tvalid_0's auc: 0.722964\n",
      "[828]\tvalid_0's auc: 0.723008\n",
      "[829]\tvalid_0's auc: 0.723077\n",
      "[830]\tvalid_0's auc: 0.723091\n",
      "[831]\tvalid_0's auc: 0.723097\n",
      "[832]\tvalid_0's auc: 0.72312\n",
      "[833]\tvalid_0's auc: 0.723109\n",
      "[834]\tvalid_0's auc: 0.723155\n",
      "[835]\tvalid_0's auc: 0.723191\n",
      "[836]\tvalid_0's auc: 0.723205\n",
      "[837]\tvalid_0's auc: 0.72321\n",
      "[838]\tvalid_0's auc: 0.723179\n",
      "[839]\tvalid_0's auc: 0.723251\n",
      "[840]\tvalid_0's auc: 0.72329\n",
      "[841]\tvalid_0's auc: 0.723292\n",
      "[842]\tvalid_0's auc: 0.723312\n",
      "[843]\tvalid_0's auc: 0.723385\n",
      "[844]\tvalid_0's auc: 0.723426\n",
      "[845]\tvalid_0's auc: 0.723448\n",
      "[846]\tvalid_0's auc: 0.723436\n",
      "[847]\tvalid_0's auc: 0.723468\n",
      "[848]\tvalid_0's auc: 0.723458\n",
      "[849]\tvalid_0's auc: 0.723468\n",
      "[850]\tvalid_0's auc: 0.723464\n",
      "[851]\tvalid_0's auc: 0.723494\n",
      "[852]\tvalid_0's auc: 0.723472\n",
      "[853]\tvalid_0's auc: 0.723479\n",
      "[854]\tvalid_0's auc: 0.723514\n",
      "[855]\tvalid_0's auc: 0.723576\n",
      "[856]\tvalid_0's auc: 0.723557\n",
      "[857]\tvalid_0's auc: 0.723586\n",
      "[858]\tvalid_0's auc: 0.72364\n",
      "[859]\tvalid_0's auc: 0.723668\n",
      "[860]\tvalid_0's auc: 0.723706\n",
      "[861]\tvalid_0's auc: 0.723685\n",
      "[862]\tvalid_0's auc: 0.723703\n",
      "[863]\tvalid_0's auc: 0.723721\n",
      "[864]\tvalid_0's auc: 0.723725\n",
      "[865]\tvalid_0's auc: 0.723749\n",
      "[866]\tvalid_0's auc: 0.723823\n",
      "[867]\tvalid_0's auc: 0.723794\n",
      "[868]\tvalid_0's auc: 0.723805\n",
      "[869]\tvalid_0's auc: 0.723885\n",
      "[870]\tvalid_0's auc: 0.723927\n",
      "[871]\tvalid_0's auc: 0.723947\n",
      "[872]\tvalid_0's auc: 0.723975\n",
      "[873]\tvalid_0's auc: 0.724007\n",
      "[874]\tvalid_0's auc: 0.724018\n",
      "[875]\tvalid_0's auc: 0.724019\n",
      "[876]\tvalid_0's auc: 0.724044\n",
      "[877]\tvalid_0's auc: 0.72408\n",
      "[878]\tvalid_0's auc: 0.724116\n",
      "[879]\tvalid_0's auc: 0.724118\n",
      "[880]\tvalid_0's auc: 0.724136\n",
      "[881]\tvalid_0's auc: 0.724166\n",
      "[882]\tvalid_0's auc: 0.724206\n",
      "[883]\tvalid_0's auc: 0.72422\n",
      "[884]\tvalid_0's auc: 0.724225\n",
      "[885]\tvalid_0's auc: 0.724263\n",
      "[886]\tvalid_0's auc: 0.72428\n",
      "[887]\tvalid_0's auc: 0.724263\n",
      "[888]\tvalid_0's auc: 0.72434\n",
      "[889]\tvalid_0's auc: 0.72436\n",
      "[890]\tvalid_0's auc: 0.724374\n",
      "[891]\tvalid_0's auc: 0.724425\n",
      "[892]\tvalid_0's auc: 0.724456\n",
      "[893]\tvalid_0's auc: 0.724453\n",
      "[894]\tvalid_0's auc: 0.724476\n",
      "[895]\tvalid_0's auc: 0.724501\n",
      "[896]\tvalid_0's auc: 0.724487\n",
      "[897]\tvalid_0's auc: 0.724514\n",
      "[898]\tvalid_0's auc: 0.724557\n",
      "[899]\tvalid_0's auc: 0.724559\n",
      "[900]\tvalid_0's auc: 0.724618\n",
      "[901]\tvalid_0's auc: 0.724667\n",
      "[902]\tvalid_0's auc: 0.724678\n",
      "[903]\tvalid_0's auc: 0.72468\n",
      "[904]\tvalid_0's auc: 0.72466\n",
      "[905]\tvalid_0's auc: 0.724725\n",
      "[906]\tvalid_0's auc: 0.724754\n",
      "[907]\tvalid_0's auc: 0.724771\n",
      "[908]\tvalid_0's auc: 0.724782\n",
      "[909]\tvalid_0's auc: 0.724841\n",
      "[910]\tvalid_0's auc: 0.724827\n",
      "[911]\tvalid_0's auc: 0.724877\n",
      "[912]\tvalid_0's auc: 0.724884\n",
      "[913]\tvalid_0's auc: 0.724888\n",
      "[914]\tvalid_0's auc: 0.724891\n",
      "[915]\tvalid_0's auc: 0.7249\n",
      "[916]\tvalid_0's auc: 0.724949\n",
      "[917]\tvalid_0's auc: 0.724977\n",
      "[918]\tvalid_0's auc: 0.725023\n",
      "[919]\tvalid_0's auc: 0.725045\n",
      "[920]\tvalid_0's auc: 0.725027\n",
      "[921]\tvalid_0's auc: 0.725044\n",
      "[922]\tvalid_0's auc: 0.725085\n",
      "[923]\tvalid_0's auc: 0.725118\n",
      "[924]\tvalid_0's auc: 0.725113\n",
      "[925]\tvalid_0's auc: 0.725149\n",
      "[926]\tvalid_0's auc: 0.72515\n",
      "[927]\tvalid_0's auc: 0.725155\n",
      "[928]\tvalid_0's auc: 0.725182\n",
      "[929]\tvalid_0's auc: 0.725146\n",
      "[930]\tvalid_0's auc: 0.725183\n",
      "[931]\tvalid_0's auc: 0.725171\n",
      "[932]\tvalid_0's auc: 0.725185\n",
      "[933]\tvalid_0's auc: 0.725219\n",
      "[934]\tvalid_0's auc: 0.725294\n",
      "[935]\tvalid_0's auc: 0.725328\n",
      "[936]\tvalid_0's auc: 0.725331\n",
      "[937]\tvalid_0's auc: 0.725368\n",
      "[938]\tvalid_0's auc: 0.725402\n",
      "[939]\tvalid_0's auc: 0.72542\n",
      "[940]\tvalid_0's auc: 0.725493\n",
      "[941]\tvalid_0's auc: 0.725523\n",
      "[942]\tvalid_0's auc: 0.725539\n",
      "[943]\tvalid_0's auc: 0.725512\n",
      "[944]\tvalid_0's auc: 0.725515\n",
      "[945]\tvalid_0's auc: 0.725561\n",
      "[946]\tvalid_0's auc: 0.725538\n",
      "[947]\tvalid_0's auc: 0.725546\n",
      "[948]\tvalid_0's auc: 0.725605\n",
      "[949]\tvalid_0's auc: 0.725608\n",
      "[950]\tvalid_0's auc: 0.725626\n",
      "[951]\tvalid_0's auc: 0.72566\n",
      "[952]\tvalid_0's auc: 0.72564\n",
      "[953]\tvalid_0's auc: 0.72567\n",
      "[954]\tvalid_0's auc: 0.725712\n",
      "[955]\tvalid_0's auc: 0.725725\n",
      "[956]\tvalid_0's auc: 0.72577\n",
      "[957]\tvalid_0's auc: 0.725809\n"
     ]
    },
    {
     "name": "stdout",
     "output_type": "stream",
     "text": [
      "[958]\tvalid_0's auc: 0.72582\n",
      "[959]\tvalid_0's auc: 0.725814\n",
      "[960]\tvalid_0's auc: 0.725881\n",
      "[961]\tvalid_0's auc: 0.725889\n",
      "[962]\tvalid_0's auc: 0.72593\n",
      "[963]\tvalid_0's auc: 0.72592\n",
      "[964]\tvalid_0's auc: 0.72593\n",
      "[965]\tvalid_0's auc: 0.72595\n",
      "[966]\tvalid_0's auc: 0.725981\n",
      "[967]\tvalid_0's auc: 0.725978\n",
      "[968]\tvalid_0's auc: 0.72599\n",
      "[969]\tvalid_0's auc: 0.726016\n",
      "[970]\tvalid_0's auc: 0.72604\n",
      "[971]\tvalid_0's auc: 0.726048\n",
      "[972]\tvalid_0's auc: 0.726063\n",
      "[973]\tvalid_0's auc: 0.726093\n",
      "[974]\tvalid_0's auc: 0.726106\n",
      "[975]\tvalid_0's auc: 0.726125\n",
      "[976]\tvalid_0's auc: 0.726121\n",
      "[977]\tvalid_0's auc: 0.726177\n",
      "[978]\tvalid_0's auc: 0.726209\n",
      "[979]\tvalid_0's auc: 0.726256\n",
      "[980]\tvalid_0's auc: 0.726294\n",
      "[981]\tvalid_0's auc: 0.726314\n",
      "[982]\tvalid_0's auc: 0.72633\n",
      "[983]\tvalid_0's auc: 0.72632\n",
      "[984]\tvalid_0's auc: 0.726318\n",
      "[985]\tvalid_0's auc: 0.726307\n",
      "[986]\tvalid_0's auc: 0.726328\n",
      "[987]\tvalid_0's auc: 0.726325\n",
      "[988]\tvalid_0's auc: 0.726308\n",
      "[989]\tvalid_0's auc: 0.726307\n",
      "[990]\tvalid_0's auc: 0.726331\n",
      "[991]\tvalid_0's auc: 0.726343\n",
      "[992]\tvalid_0's auc: 0.726374\n",
      "[993]\tvalid_0's auc: 0.726403\n",
      "[994]\tvalid_0's auc: 0.72645\n",
      "[995]\tvalid_0's auc: 0.726484\n",
      "[996]\tvalid_0's auc: 0.726543\n",
      "[997]\tvalid_0's auc: 0.726542\n",
      "[998]\tvalid_0's auc: 0.726577\n",
      "[999]\tvalid_0's auc: 0.726572\n",
      "[1000]\tvalid_0's auc: 0.72659\n",
      "Did not meet early stopping. Best iteration is:\n",
      "[1000]\tvalid_0's auc: 0.72659\n"
     ]
    }
   ],
   "source": [
    "params = {\n",
    "    'boosting_type': 'gbdt',\n",
    "    'metric': 'auc',\n",
    "    'application':\"binary\",\n",
    "    'objective': 'binary',\n",
    "    'num_iterations': 1000,\n",
    "    'learning_rate': 0.01,\n",
    "    'max_depth': 2, \n",
    "    'num_leaves': 30,\n",
    "    'feature_fraction':0.5,\n",
    "    'bagging_fraction':0.5,\n",
    "    'min_data_in_leaf': 80,\n",
    "    'max_bin': 10,\n",
    "  \n",
    "    'lambda_l1': 40,\n",
    "    'lambda_l2': 50,\n",
    "#     'scale_pos_weight': (target.count()-target.sum())/target.sum(),\n",
    "#     'nthread': 6,\n",
    "    \n",
    "}\n",
    "\n",
    "lgb_train = lgb.Dataset(x_train, y_train)\n",
    "lgb_eval = lgb.Dataset(x_val, y_val, reference=lgb_train)\n",
    "\n",
    "gbm = lgb.train(params, lgb_train, num_boost_round=500, valid_sets=lgb_eval, early_stopping_rounds=50)"
   ]
  },
  {
   "cell_type": "code",
   "execution_count": 83,
   "metadata": {},
   "outputs": [
    {
     "data": {
      "text/plain": [
       "0.7533716387321591"
      ]
     },
     "execution_count": 83,
     "metadata": {},
     "output_type": "execute_result"
    }
   ],
   "source": [
    "y_train_pred = gbm.predict(x_train, num_iteration=gbm.best_iteration)\n",
    "fpr, tpr, thresholds = metrics.roc_curve(y_train, y_train_pred)\n",
    "metrics.auc(fpr, tpr)"
   ]
  },
  {
   "cell_type": "code",
   "execution_count": 84,
   "metadata": {},
   "outputs": [
    {
     "data": {
      "text/plain": [
       "0.7231719310878186"
      ]
     },
     "execution_count": 84,
     "metadata": {},
     "output_type": "execute_result"
    }
   ],
   "source": [
    "y_test_pred = gbm.predict(x_test, num_iteration=gbm.best_iteration)\n",
    "fpr, tpr, thresholds = metrics.roc_curve(y_test, y_test_pred)\n",
    "metrics.auc(fpr, tpr)"
   ]
  },
  {
   "cell_type": "code",
   "execution_count": 85,
   "metadata": {},
   "outputs": [
    {
     "data": {
      "text/plain": [
       "0.7231719310878186"
      ]
     },
     "execution_count": 85,
     "metadata": {},
     "output_type": "execute_result"
    }
   ],
   "source": [
    "lg_auc = roc_auc_score(y_test, y_test_pred)\n",
    "lg_auc"
   ]
  },
  {
   "cell_type": "markdown",
   "metadata": {},
   "source": [
    "#### ROC curve"
   ]
  },
  {
   "cell_type": "code",
   "execution_count": 86,
   "metadata": {},
   "outputs": [],
   "source": [
    "def plot_roc_curve(y_train, x_train_pre, y_test, x_test_pre): \n",
    "    plt.plot(roc_curve(y_train, x_train_pre)[0],roc_curve(y_train, x_train_pre)[1], \n",
    "             color = 'blue', label='Train ROC Curve (area = %0.3f)' % roc_auc_score(y_train, x_train_pre))\n",
    "\n",
    "    plt.plot(roc_curve(y_test, x_test_pre)[0],roc_curve(y_test, x_test_pre)[1], \n",
    "             color = 'red', label='Test ROC Curve (area = %0.3f)' % roc_auc_score(y_test, x_test_pre))\n",
    "\n",
    "\n",
    "    plt.plot([0, 1], [0, 1], color='black', linestyle='--')\n",
    "    plt.xlim([0.0, 1.0])\n",
    "    plt.ylim([0.0, 1.05])\n",
    "    plt.xlabel('False Positive Rate')\n",
    "    plt.ylabel('True Positive Rate')\n",
    "    plt.title('ROC')\n",
    "    plt.legend()\n",
    "    plt.show()"
   ]
  },
  {
   "cell_type": "code",
   "execution_count": 87,
   "metadata": {},
   "outputs": [],
   "source": [
    "lg_pre = gbm.predict(x_test, num_iteration=gbm.best_iteration)"
   ]
  },
  {
   "cell_type": "code",
   "execution_count": 88,
   "metadata": {},
   "outputs": [
    {
     "data": {
      "image/png": "[encoded data removed]",
      "text/plain": [
       "<Figure size 432x288 with 1 Axes>"
      ]
     },
     "metadata": {
      "needs_background": "light"
     },
     "output_type": "display_data"
    }
   ],
   "source": [
    "plot_roc_curve(y_train, gbm.predict(x_train, num_iteration=gbm.best_iteration), y_test, lg_pre)"
   ]
  },
  {
   "cell_type": "markdown",
   "metadata": {},
   "source": [
    "#### Confusion matrix"
   ]
  },
  {
   "cell_type": "code",
   "execution_count": 89,
   "metadata": {},
   "outputs": [],
   "source": [
    "def Find_Optimal_Cutoff(target, predicted):\n",
    "    \"\"\" Find the optimal probability cutoff point for a classification model related to event rate\n",
    "    Parameters\n",
    "    ----------\n",
    "    target : Matrix with dependent or target data, where rows are observations\n",
    "\n",
    "    predicted : Matrix with predicted data, where rows are observations\n",
    "\n",
    "    Returns\n",
    "    -------     \n",
    "    list type, with optimal cutoff value\n",
    "\n",
    "    \"\"\"\n",
    "    fpr, tpr, threshold = roc_curve(target, predicted)\n",
    "    i = np.arange(len(tpr)) \n",
    "    roc = pd.DataFrame({'tf' : pd.Series(tpr-(1-fpr), index=i), 'threshold' : pd.Series(threshold, index=i)})\n",
    "    roc_t = roc.ix[(roc.tf-0).abs().argsort()[:1]]\n",
    "\n",
    "    return list(roc_t['threshold'])"
   ]
  },
  {
   "cell_type": "code",
   "execution_count": 90,
   "metadata": {},
   "outputs": [
    {
     "name": "stdout",
     "output_type": "stream",
     "text": [
      "Threshold: [0.07841116443485306]\n"
     ]
    }
   ],
   "source": [
    "lgb_threshold = Find_Optimal_Cutoff(y_test, gbm.predict(x_test, num_iteration=gbm.best_iteration))\n",
    "print(\"Threshold:\", lgb_threshold)"
   ]
  },
  {
   "cell_type": "code",
   "execution_count": 91,
   "metadata": {},
   "outputs": [],
   "source": [
    "def build_confusion_matrix(y, x):\n",
    "    df = pd.crosstab(y, x, rownames=['True'], colnames=['Predicted'], margins=True)\n",
    "    if x.sum() == 0:\n",
    "        df[1] = [0, 0, 0]\n",
    "    return df.reindex(columns=[0, 1, 'All'])"
   ]
  },
  {
   "cell_type": "code",
   "execution_count": 92,
   "metadata": {},
   "outputs": [],
   "source": [
    "lgb_resp = pd.Series(gbm.predict(x_test, num_iteration=gbm.best_iteration)).map(lambda x: 1 if x > lgb_threshold[0] else 0)"
   ]
  },
  {
   "cell_type": "code",
   "execution_count": 93,
   "metadata": {},
   "outputs": [
    {
     "data": {
      "text/html": [
       "<div>\n",
       "<style scoped>\n",
       "    .dataframe tbody tr th:only-of-type {\n",
       "        vertical-align: middle;\n",
       "    }\n",
       "\n",
       "    .dataframe tbody tr th {\n",
       "        vertical-align: top;\n",
       "    }\n",
       "\n",
       "    .dataframe thead th {\n",
       "        text-align: right;\n",
       "    }\n",
       "</style>\n",
       "<table border=\"1\" class=\"dataframe\">\n",
       "  <thead>\n",
       "    <tr style=\"text-align: right;\">\n",
       "      <th>Predicted</th>\n",
       "      <th>0</th>\n",
       "      <th>1</th>\n",
       "      <th>All</th>\n",
       "    </tr>\n",
       "    <tr>\n",
       "      <th>True</th>\n",
       "      <th></th>\n",
       "      <th></th>\n",
       "      <th></th>\n",
       "    </tr>\n",
       "  </thead>\n",
       "  <tbody>\n",
       "    <tr>\n",
       "      <th>0</th>\n",
       "      <td>5943</td>\n",
       "      <td>2939</td>\n",
       "      <td>8882</td>\n",
       "    </tr>\n",
       "    <tr>\n",
       "      <th>1</th>\n",
       "      <td>240</td>\n",
       "      <td>478</td>\n",
       "      <td>718</td>\n",
       "    </tr>\n",
       "    <tr>\n",
       "      <th>All</th>\n",
       "      <td>6183</td>\n",
       "      <td>3417</td>\n",
       "      <td>9600</td>\n",
       "    </tr>\n",
       "  </tbody>\n",
       "</table>\n",
       "</div>"
      ],
      "text/plain": [
       "Predicted     0     1   All\n",
       "True                       \n",
       "0          5943  2939  8882\n",
       "1           240   478   718\n",
       "All        6183  3417  9600"
      ]
     },
     "execution_count": 93,
     "metadata": {},
     "output_type": "execute_result"
    }
   ],
   "source": [
    "build_confusion_matrix(y_test.reset_index()['target'], lgb_resp)"
   ]
  },
  {
   "cell_type": "code",
   "execution_count": 94,
   "metadata": {},
   "outputs": [],
   "source": [
    "def print_related_statistical_measures(y, x):\n",
    "    df = pd.crosstab(y, x, rownames=['True'], colnames=['Predicted'], margins=True)\n",
    "    if x.sum() == 0:\n",
    "        df[1] = [0, 0, 0]\n",
    "    if x.sum() == len(y):\n",
    "        df[0] = [0, 0, 0]\n",
    "    confusion_matrix = df.reindex(columns=[0, 1, 'All'])\n",
    "    # Sensitivity: \n",
    "    sensitivity = confusion_matrix.at[1, 1]/confusion_matrix.at[1, \"All\"]\n",
    "    sensitivity = sensitivity if not math.isnan(sensitivity) else 0\n",
    "    print(\"The sensitivity is\", sensitivity)\n",
    "    \n",
    "    # Specificity\n",
    "    specificity = confusion_matrix.at[0, 0]/confusion_matrix.at[0, \"All\"]\n",
    "    specificity = specificity if not math.isnan(specificity) else 0\n",
    "    print(\"The specificity is\", specificity)\n",
    "    \n",
    "    # PPV\n",
    "    ppv = confusion_matrix.at[1, 1]/confusion_matrix.at[\"All\", 1]\n",
    "    ppv = ppv if not math.isnan(ppv) else 0\n",
    "    print(\"The ppv is\", ppv)\n",
    "    \n",
    "    # NPV\n",
    "    npv = confusion_matrix.at[0, 0]/confusion_matrix.at[\"All\", 0]\n",
    "    npv = npv if not math.isnan(npv) else 0\n",
    "    print(\"The npv is\", npv)\n",
    "    \n",
    "    # Accuracy: \n",
    "    accuracy = (confusion_matrix.at[1, 1]+confusion_matrix.at[0, 0])/confusion_matrix.at[\"All\", \"All\"]\n",
    "    accuracy = accuracy if not math.isnan(accuracy) else 0\n",
    "    print(\"The accuracy is\", accuracy)\n",
    "    \n",
    "    # F1-score:\n",
    "    f1_score = (2*ppv*sensitivity)/(ppv+sensitivity)\n",
    "    f1_score = f1_score if not math.isnan(f1_score) else 0\n",
    "    print(\"The f1_score is\", f1_score)"
   ]
  },
  {
   "cell_type": "code",
   "execution_count": 95,
   "metadata": {},
   "outputs": [
    {
     "name": "stdout",
     "output_type": "stream",
     "text": [
      "The sensitivity is 0.6657381615598886\n",
      "The specificity is 0.6691060571943256\n",
      "The ppv is 0.13988879133743048\n",
      "The npv is 0.9611838913148957\n",
      "The accuracy is 0.6688541666666666\n",
      "The f1_score is 0.23119709794437726\n"
     ]
    }
   ],
   "source": [
    "print_related_statistical_measures(y_test.reset_index()['target'], lgb_resp)"
   ]
  },
  {
   "cell_type": "code",
   "execution_count": 96,
   "metadata": {},
   "outputs": [
    {
     "name": "stdout",
     "output_type": "stream",
     "text": [
      "              precision    recall  f1-score   support\n",
      "\n",
      "           0       0.96      0.67      0.79      8882\n",
      "           1       0.14      0.67      0.23       718\n",
      "\n",
      "    accuracy                           0.67      9600\n",
      "   macro avg       0.55      0.67      0.51      9600\n",
      "weighted avg       0.90      0.67      0.75      9600\n",
      "\n"
     ]
    }
   ],
   "source": [
    "print(classification_report(y_test, lgb_resp))"
   ]
  },
  {
   "cell_type": "markdown",
   "metadata": {},
   "source": [
    "### Adaboost"
   ]
  },
  {
   "cell_type": "code",
   "execution_count": null,
   "metadata": {},
   "outputs": [],
   "source": [
    "adab_model = AdaBoostClassifier(\n",
    "            n_estimators = 225,\n",
    "            learning_rate = 0.05,\n",
    "            random_state = 42,\n",
    "                        )\n",
    "adab_model.fit(x_train,y_train)"
   ]
  },
  {
   "cell_type": "code",
   "execution_count": null,
   "metadata": {},
   "outputs": [],
   "source": [
    "x_train_probs_adab = adab_model.predict_proba(x_train)\n",
    "fpr, tpr, thresholds = metrics.roc_curve(y_train, x_train_probs_adab[:,1])\n",
    "metrics.auc(fpr, tpr)"
   ]
  },
  {
   "cell_type": "code",
   "execution_count": null,
   "metadata": {},
   "outputs": [],
   "source": [
    "x_test_probs_adab = adab_model.predict_proba(x_test)\n",
    "fpr, tpr, thresholds = metrics.roc_curve(y_test, x_test_probs_adab[:,1])\n",
    "metrics.auc(fpr, tpr)"
   ]
  },
  {
   "cell_type": "code",
   "execution_count": null,
   "metadata": {},
   "outputs": [],
   "source": [
    "ad_auc = roc_auc_score(y_test, x_test_probs_adab[:,1])\n",
    "ad_auc"
   ]
  },
  {
   "cell_type": "markdown",
   "metadata": {},
   "source": [
    "#### Roc curve"
   ]
  },
  {
   "cell_type": "code",
   "execution_count": null,
   "metadata": {},
   "outputs": [],
   "source": [
    "ad_pre = adab_model.predict_proba(x_test)[:,1]"
   ]
  },
  {
   "cell_type": "code",
   "execution_count": null,
   "metadata": {},
   "outputs": [],
   "source": [
    "plot_roc_curve(y_train, adab_model.predict_proba(x_train)[:,1], y_test, ad_pre)"
   ]
  },
  {
   "cell_type": "markdown",
   "metadata": {},
   "source": [
    "#### Confusion matrix"
   ]
  },
  {
   "cell_type": "code",
   "execution_count": null,
   "metadata": {},
   "outputs": [],
   "source": [
    "adab_threshold = Find_Optimal_Cutoff(y_test, adab_model.predict(x_test))\n",
    "print(\"Threshold:\", adab_threshold)"
   ]
  },
  {
   "cell_type": "code",
   "execution_count": null,
   "metadata": {},
   "outputs": [],
   "source": [
    "build_confusion_matrix(y_test.reset_index()['target'], pd.Series(adab_model.predict(x_test)).map(lambda x: 1 if x > adab_threshold[0] else 0))"
   ]
  },
  {
   "cell_type": "code",
   "execution_count": null,
   "metadata": {},
   "outputs": [],
   "source": [
    "print_related_statistical_measures(y_test.reset_index()['target'], pd.Series(adab_model.predict(x_test)).map(lambda x: 1 if x > adab_threshold[0] else 0))"
   ]
  },
  {
   "cell_type": "code",
   "execution_count": null,
   "metadata": {},
   "outputs": [],
   "source": [
    "print(classification_report(y_test, pd.Series(adab_model.predict(x_test)).map(lambda x: 1 if x > adab_threshold[0] else 0)))"
   ]
  },
  {
   "cell_type": "markdown",
   "metadata": {},
   "source": [
    "### Xgboost"
   ]
  },
  {
   "cell_type": "code",
   "execution_count": null,
   "metadata": {},
   "outputs": [],
   "source": [
    "dtrain = xgb.DMatrix(data = x_train, label = y_train)\n",
    "dval = xgb.DMatrix(data = x_val, label = y_val)\n",
    "dtest = xgb.DMatrix(data = x_test, label = y_test)\n",
    "dtest_final = xgb.DMatrix(data = x_test_final, label = y_test_final)"
   ]
  },
  {
   "cell_type": "code",
   "execution_count": null,
   "metadata": {
    "scrolled": true
   },
   "outputs": [],
   "source": [
    "param = {\n",
    "        'n_estimators': 256,\n",
    "        'max_depth':2,\n",
    "        'min_child_weight':0.6,\n",
    "        'eta': 0.01,\n",
    "        'silent':1,\n",
    "        'max_leaf_nodes': 40,\n",
    "        'eval_metric': 'auc', \n",
    "        'gamma': 0.1,\n",
    "        'subsample': 0.5,\n",
    "        'colsample_bytree' : 0.5,\n",
    "        'scale_pos_weight' : sum(target==0) / sum(target==1), # sum(negative instances) / sum(positive instances)\n",
    "        }\n",
    "\n",
    "watchlist = [(dtrain, 'train'), (dval, 'eval')]\n",
    "num_round = 200\n",
    "xgbst_model = xgb.train(param, dtrain, num_round, watchlist, early_stopping_rounds = 20)"
   ]
  },
  {
   "cell_type": "code",
   "execution_count": null,
   "metadata": {},
   "outputs": [],
   "source": [
    "fpr, tpr, thresholds = metrics.roc_curve(y_train, xgbst_model.predict(dtrain))\n",
    "metrics.auc(fpr, tpr)"
   ]
  },
  {
   "cell_type": "code",
   "execution_count": null,
   "metadata": {},
   "outputs": [],
   "source": [
    "fpr, tpr, thresholds = metrics.roc_curve(y_test, xgbst_model.predict(dtest))\n",
    "metrics.auc(fpr, tpr)"
   ]
  },
  {
   "cell_type": "code",
   "execution_count": null,
   "metadata": {},
   "outputs": [],
   "source": [
    "xg_auc = roc_auc_score(y_test, xgbst_model.predict(dtest))\n",
    "xg_auc"
   ]
  },
  {
   "cell_type": "markdown",
   "metadata": {},
   "source": [
    "#### Roc curve"
   ]
  },
  {
   "cell_type": "code",
   "execution_count": null,
   "metadata": {},
   "outputs": [],
   "source": [
    "xg_pre = xgbst_model.predict(dtest)"
   ]
  },
  {
   "cell_type": "code",
   "execution_count": null,
   "metadata": {},
   "outputs": [],
   "source": [
    "plot_roc_curve(y_train, xgbst_model.predict(dtrain), y_test, xg_pre)"
   ]
  },
  {
   "cell_type": "markdown",
   "metadata": {},
   "source": [
    "#### Confusion matrix"
   ]
  },
  {
   "cell_type": "code",
   "execution_count": null,
   "metadata": {},
   "outputs": [],
   "source": [
    "threshold = Find_Optimal_Cutoff(y_test, xgbst_model.predict(dtest))\n",
    "print(threshold)"
   ]
  },
  {
   "cell_type": "code",
   "execution_count": null,
   "metadata": {},
   "outputs": [],
   "source": [
    "xgbst_resp = pd.Series(xgbst_model.predict(dtest)).map(lambda x: 1 if x > threshold[0] else 0)"
   ]
  },
  {
   "cell_type": "code",
   "execution_count": null,
   "metadata": {},
   "outputs": [],
   "source": [
    "build_confusion_matrix(y_test.reset_index()['target'], xgbst_resp)"
   ]
  },
  {
   "cell_type": "code",
   "execution_count": null,
   "metadata": {},
   "outputs": [],
   "source": [
    "print_related_statistical_measures(y_test.reset_index()['target'], xgbst_resp)"
   ]
  },
  {
   "cell_type": "code",
   "execution_count": null,
   "metadata": {},
   "outputs": [],
   "source": [
    "print(classification_report(y_test, xgbst_resp))"
   ]
  },
  {
   "cell_type": "markdown",
   "metadata": {},
   "source": [
    "### Catboost"
   ]
  },
  {
   "cell_type": "code",
   "execution_count": null,
   "metadata": {},
   "outputs": [],
   "source": [
    "categorical_features_mask = label_features_mask + dummy_features_mask"
   ]
  },
  {
   "cell_type": "code",
   "execution_count": null,
   "metadata": {},
   "outputs": [],
   "source": [
    "class_weights = class_weight.compute_class_weight('balanced',np.unique(y_train),y_train)\n",
    "cbc_model = CatBoostClassifier(\n",
    "    iterations = 1000, \n",
    "    learning_rate = 0.008,\n",
    "    l2_leaf_reg = 10,\n",
    "    loss_function = \"Logloss\",\n",
    "    rsm = 0.8,\n",
    "    eval_metric = 'AUC',\n",
    "    use_best_model = True,\n",
    "    early_stopping_rounds = 50,\n",
    "    depth = 2,\n",
    "    class_weights = class_weights, \n",
    "    random_seed = 0,\n",
    ")\n",
    "\n",
    "cbc_model.fit(\n",
    "    x_train, y_train,\n",
    "    cat_features = categorical_features_mask,\n",
    "    eval_set = (x_val, y_val),\n",
    "    verbose = True,\n",
    "    plot = True\n",
    ")"
   ]
  },
  {
   "cell_type": "code",
   "execution_count": null,
   "metadata": {},
   "outputs": [],
   "source": [
    "x_train_probs_cbc = cbc_model.predict_proba(x_train)\n",
    "fpr, tpr, thresholds = metrics.roc_curve(y_train, x_train_probs_cbc[:,1])\n",
    "metrics.auc(fpr, tpr)"
   ]
  },
  {
   "cell_type": "code",
   "execution_count": null,
   "metadata": {},
   "outputs": [],
   "source": [
    "x_test_probs_cbc = cbc_model.predict_proba(x_test)\n",
    "fpr, tpr, thresholds = metrics.roc_curve(y_test, x_test_probs_cbc[:,1])\n",
    "metrics.auc(fpr, tpr)"
   ]
  },
  {
   "cell_type": "code",
   "execution_count": null,
   "metadata": {},
   "outputs": [],
   "source": [
    "cb_auc = roc_auc_score(y_test, x_test_probs_cbc[:,1])\n",
    "cb_auc"
   ]
  },
  {
   "cell_type": "markdown",
   "metadata": {},
   "source": [
    "#### Roc curve"
   ]
  },
  {
   "cell_type": "code",
   "execution_count": null,
   "metadata": {},
   "outputs": [],
   "source": [
    "cb_pre = cbc_model.predict_proba(x_test)[:,1]"
   ]
  },
  {
   "cell_type": "code",
   "execution_count": null,
   "metadata": {},
   "outputs": [],
   "source": [
    "plot_roc_curve(y_train, cbc_model.predict_proba(x_train)[:,1], y_test, cb_pre)"
   ]
  },
  {
   "cell_type": "markdown",
   "metadata": {},
   "source": [
    "#### Confusion matrix"
   ]
  },
  {
   "cell_type": "code",
   "execution_count": null,
   "metadata": {},
   "outputs": [],
   "source": [
    "build_confusion_matrix(y_test.reset_index()['target'], cbc_model.predict(x_test))"
   ]
  },
  {
   "cell_type": "code",
   "execution_count": null,
   "metadata": {},
   "outputs": [],
   "source": [
    "print_related_statistical_measures(y_test.reset_index()['target'], pd.Series(cbc_model.predict(x_test)).map(lambda x: 1 if x == 1.0 else 0))"
   ]
  },
  {
   "cell_type": "code",
   "execution_count": null,
   "metadata": {},
   "outputs": [],
   "source": [
    "print(classification_report(y_test, pd.Series(cbc_model.predict(x_test)).map(lambda x: 1 if x == 1.0 else 0)))"
   ]
  },
  {
   "cell_type": "markdown",
   "metadata": {},
   "source": [
    "### Random forest"
   ]
  },
  {
   "cell_type": "code",
   "execution_count": null,
   "metadata": {},
   "outputs": [],
   "source": [
    "rf_clf = RandomForestClassifier(n_estimators = 256, \n",
    "                                random_state = 0, \n",
    "                                max_depth = 3, \n",
    "                                criterion = 'gini',\n",
    "                                min_samples_split = 10,\n",
    "                                min_samples_leaf = 5,\n",
    "                                oob_score = True,\n",
    "                                min_weight_fraction_leaf = 0.2,\n",
    "                               )\n",
    "rf_clf.fit(x_train,y_train)"
   ]
  },
  {
   "cell_type": "code",
   "execution_count": null,
   "metadata": {},
   "outputs": [],
   "source": [
    "x_train_probs_rf = rf_clf.predict_proba(x_train)\n",
    "fpr, tpr, thresholds = metrics.roc_curve(y_train, x_train_probs_rf[:,1])\n",
    "metrics.auc(fpr, tpr)"
   ]
  },
  {
   "cell_type": "code",
   "execution_count": null,
   "metadata": {},
   "outputs": [],
   "source": [
    "x_test_probs_rf = rf_clf.predict_proba(x_test)\n",
    "fpr, tpr, thresholds = metrics.roc_curve(y_test, x_test_probs_rf[:,1])\n",
    "metrics.auc(fpr, tpr)"
   ]
  },
  {
   "cell_type": "code",
   "execution_count": null,
   "metadata": {},
   "outputs": [],
   "source": [
    "rf_auc = roc_auc_score(y_test, x_test_probs_rf[:,1])\n",
    "rf_auc"
   ]
  },
  {
   "cell_type": "code",
   "execution_count": null,
   "metadata": {},
   "outputs": [],
   "source": [
    "rf_pre = rf_clf.predict_proba(x_test)[:,1]"
   ]
  },
  {
   "cell_type": "code",
   "execution_count": null,
   "metadata": {},
   "outputs": [],
   "source": [
    "plot_roc_curve(y_train, rf_clf.predict_proba(x_train)[:,1], y_test, rf_pre)"
   ]
  },
  {
   "cell_type": "code",
   "execution_count": null,
   "metadata": {},
   "outputs": [],
   "source": [
    "build_confusion_matrix(y_test, rf_clf.predict(x_test))"
   ]
  },
  {
   "cell_type": "code",
   "execution_count": null,
   "metadata": {},
   "outputs": [],
   "source": [
    "print_related_statistical_measures(y_test, rf_clf.predict(x_test))"
   ]
  },
  {
   "cell_type": "code",
   "execution_count": null,
   "metadata": {},
   "outputs": [],
   "source": [
    "print(classification_report(y_test, rf_clf.predict(x_test)))"
   ]
  },
  {
   "cell_type": "markdown",
   "metadata": {},
   "source": [
    "### NN"
   ]
  },
  {
   "cell_type": "code",
   "execution_count": null,
   "metadata": {},
   "outputs": [],
   "source": [
    "train_data.shape"
   ]
  },
  {
   "cell_type": "code",
   "execution_count": null,
   "metadata": {},
   "outputs": [],
   "source": [
    "k_model = Sequential()\n",
    "k_model.add(Dense(388, input_dim=387, activation='relu',kernel_initializer='random_normal'))\n",
    "k_model.add(Dense(256, input_dim=12, activation='relu',kernel_initializer='random_normal'))\n",
    "k_model.add(Dense(196, input_dim=12, activation='relu',kernel_initializer='random_normal'))\n",
    "k_model.add(Dense(64, input_dim=12, activation='relu',kernel_initializer='random_normal'))\n",
    "k_model.add(Dense(24, input_dim=12, activation='relu',kernel_initializer='random_normal'))\n",
    "k_model.add(Dense(13, input_dim=12, activation='relu',kernel_initializer='random_normal'))\n",
    "k_model.add(Dense(1,activation='sigmoid', kernel_initializer='random_normal'))\n",
    "k_model.compile(optimizer ='adam',loss='binary_crossentropy', metrics =['accuracy'])\n",
    "k_model.fit(x_train, y_train, batch_size = 1000, epochs = 100, validation_split = 0.2)"
   ]
  },
  {
   "cell_type": "code",
   "execution_count": null,
   "metadata": {},
   "outputs": [],
   "source": [
    "y_pred = k_model.predict(x_test)\n",
    "print(classification_report(y_test.values, y_pred>0.5))\n",
    "print('Train AUC is',roc_auc_score(y_train.values, k_model.predict(x_train)>0.5))\n",
    "print('Test AUC is',roc_auc_score(y_test.values, y_pred>0.5))"
   ]
  },
  {
   "cell_type": "code",
   "execution_count": null,
   "metadata": {},
   "outputs": [],
   "source": [
    "score = k_model.evaluate(x_train, y_train, batch_size=128)\n",
    "score"
   ]
  },
  {
   "cell_type": "code",
   "execution_count": null,
   "metadata": {},
   "outputs": [],
   "source": [
    "score = k_model.evaluate(x_test, y_test, batch_size=128)\n",
    "score"
   ]
  },
  {
   "cell_type": "markdown",
   "metadata": {},
   "source": [
    "## Ensemble"
   ]
  },
  {
   "cell_type": "code",
   "execution_count": null,
   "metadata": {},
   "outputs": [],
   "source": [
    "train_ens = pd.DataFrame({'lg_pre':lg_pre,'ad_pre':ad_pre,'xg_pre':xg_pre,'rf_pre':rf_pre,'cb_pre':cb_pre}) \n",
    "train_ens.head()"
   ]
  },
  {
   "cell_type": "code",
   "execution_count": null,
   "metadata": {},
   "outputs": [],
   "source": [
    "ensemble_model = LinearRegression().fit(train_ens, y_test)"
   ]
  },
  {
   "cell_type": "code",
   "execution_count": null,
   "metadata": {},
   "outputs": [],
   "source": [
    "lg_pre_f = gbm.predict(x_test_final, num_iteration=gbm.best_iteration)\n",
    "ad_pre_f = adab_model.predict_proba(x_test_final)[:,1]\n",
    "xg_pre_f = xgbst_model.predict(dtest_final)\n",
    "cb_pre_f = cbc_model.predict_proba(x_test_final)[:,1]\n",
    "rf_pre_f = rf_clf.predict_proba(x_test_final)[:,1]\n",
    "stacked_test_predcitions = np.column_stack((lg_pre_f,ad_pre_f,xg_pre_f,cb_pre_f,rf_pre_f))"
   ]
  },
  {
   "cell_type": "code",
   "execution_count": null,
   "metadata": {},
   "outputs": [],
   "source": [
    "final_predictions = ensemble_model.predict(stacked_test_predcitions)\n",
    "threshold_f = Find_Optimal_Cutoff(y_test_final.values, final_predictions)\n",
    "fp = pd.Series(final_predictions).map(lambda x: 1 if x > threshold_f[0] else 0)"
   ]
  },
  {
   "cell_type": "code",
   "execution_count": null,
   "metadata": {},
   "outputs": [],
   "source": [
    "(fp.values == y_test_final.values).sum()/len(fp.values == y_test_final.values)"
   ]
  },
  {
   "cell_type": "code",
   "execution_count": null,
   "metadata": {},
   "outputs": [],
   "source": [
    "print(classification_report(y_test_final.values, fp.values))"
   ]
  },
  {
   "cell_type": "code",
   "execution_count": null,
   "metadata": {},
   "outputs": [],
   "source": [
    "fpr, tpr, thresholds = metrics.roc_curve(y_test_final.values, fp.values)\n",
    "metrics.auc(fpr, tpr)"
   ]
  },
  {
   "cell_type": "code",
   "execution_count": null,
   "metadata": {},
   "outputs": [],
   "source": []
  },
  {
   "cell_type": "markdown",
   "metadata": {},
   "source": [
    "### Use recall is not 0"
   ]
  },
  {
   "cell_type": "code",
   "execution_count": null,
   "metadata": {},
   "outputs": [],
   "source": [
    "train_ens_2 = train_ens[['lg_pre','xg_pre','cb_pre']]"
   ]
  },
  {
   "cell_type": "code",
   "execution_count": null,
   "metadata": {},
   "outputs": [],
   "source": [
    "ensemble_model_2 = LinearRegression().fit(train_ens_2, y_test)"
   ]
  },
  {
   "cell_type": "code",
   "execution_count": null,
   "metadata": {},
   "outputs": [],
   "source": [
    "lg_pre_f = gbm.predict(x_test_final, num_iteration=gbm.best_iteration)\n",
    "xg_pre_f = xgbst_model.predict(dtest_final)\n",
    "cb_pre_f = cbc_model.predict_proba(x_test_final)[:,1]\n",
    "stacked_test_predcitions_2 = np.column_stack((lg_pre_f,xg_pre_f,cb_pre_f))"
   ]
  },
  {
   "cell_type": "code",
   "execution_count": null,
   "metadata": {},
   "outputs": [],
   "source": [
    "final_predictions_2 = ensemble_model_2.predict(stacked_test_predcitions_2)\n",
    "threshold_final = Find_Optimal_Cutoff(y_test_final.values, final_predictions_2)\n",
    "fp2 = pd.Series(final_predictions_2).map(lambda x: 1 if x > threshold_final[0] else 0)"
   ]
  },
  {
   "cell_type": "code",
   "execution_count": null,
   "metadata": {},
   "outputs": [],
   "source": [
    "(fp2.values == y_test_final.values).sum()/len(fp2.values == y_test_final.values)"
   ]
  },
  {
   "cell_type": "code",
   "execution_count": null,
   "metadata": {},
   "outputs": [],
   "source": [
    "print(classification_report(y_test_final.values, fp2.values))"
   ]
  },
  {
   "cell_type": "code",
   "execution_count": null,
   "metadata": {},
   "outputs": [],
   "source": [
    "fpr, tpr, thresholds = metrics.roc_curve(y_test_final.values, fp2.values)\n",
    "metrics.auc(fpr, tpr)"
   ]
  },
  {
   "cell_type": "markdown",
   "metadata": {},
   "source": [
    "### SVC"
   ]
  },
  {
   "cell_type": "code",
   "execution_count": null,
   "metadata": {},
   "outputs": [],
   "source": [
    "from sklearn.svm import SVC\n",
    "ensemble_model_svc = SVC(gamma='auto', probability=True).fit(train_ens_2, y_test)\n",
    "final_predictions_svc = ensemble_model_svc.predict_proba(stacked_test_predcitions_2)\n",
    "fp_svc = pd.Series(final_predictions_svc[:,1]).map(lambda x: 1 if x >= 0.5 else 0)\n",
    "print(classification_report(y_test_final.values, fp_svc))\n",
    "print(roc_auc_score(y_test_final.values, fp_svc))"
   ]
  },
  {
   "cell_type": "markdown",
   "metadata": {},
   "source": [
    "### Linear weighted ensemble"
   ]
  },
  {
   "cell_type": "code",
   "execution_count": null,
   "metadata": {},
   "outputs": [],
   "source": [
    "lg_pre_f = gbm.predict(x_test_final, num_iteration=gbm.best_iteration)\n",
    "xg_pre_f = xgbst_model.predict(dtest_final)\n",
    "cb_pre_f = cbc_model.predict_proba(x_test_final)[:,1]\n",
    "\n",
    "# lg_pre_rank = pd.DataFrame(lg_pre_f).rank()\n",
    "# xg_pre_rank = pd.DataFrame(xg_pre_f).rank()\n",
    "# cb_pre_rank = pd.DataFrame(cb_pre_f).rank()"
   ]
  },
  {
   "cell_type": "code",
   "execution_count": null,
   "metadata": {},
   "outputs": [],
   "source": [
    "lg_auc,xg_auc,cb_auc"
   ]
  },
  {
   "cell_type": "code",
   "execution_count": null,
   "metadata": {},
   "outputs": [],
   "source": [
    "pred_f = 0.7*cb_pre_f + 0.1*lg_pre_f + 0.2*xg_pre_f"
   ]
  },
  {
   "cell_type": "code",
   "execution_count": null,
   "metadata": {},
   "outputs": [],
   "source": [
    "threshold_f = Find_Optimal_Cutoff(y_test_final.values, pred_f)\n",
    "pred_f = pd.Series(pred_f).map(lambda x: 1 if x > threshold_f[0] else 0)"
   ]
  },
  {
   "cell_type": "code",
   "execution_count": null,
   "metadata": {},
   "outputs": [],
   "source": [
    "print(classification_report(y_test_final.values, pred_f))\n",
    "print(roc_auc_score(y_test_final.values, pred_f))"
   ]
  },
  {
   "cell_type": "markdown",
   "metadata": {},
   "source": [
    "## Feature importance: Shap"
   ]
  },
  {
   "cell_type": "code",
   "execution_count": null,
   "metadata": {},
   "outputs": [],
   "source": [
    "lgb_shap_explainer = shap.TreeExplainer(gbm)\n",
    "lgb_shap_vals_train = lgb_shap_explainer.shap_values(x_train)\n",
    "lgb_shap_vals_test = lgb_shap_explainer.shap_values(x_test)"
   ]
  },
  {
   "cell_type": "code",
   "execution_count": null,
   "metadata": {},
   "outputs": [],
   "source": [
    "shap.summary_plot(lgb_shap_vals_train[0], x_train)"
   ]
  },
  {
   "cell_type": "code",
   "execution_count": null,
   "metadata": {},
   "outputs": [],
   "source": [
    "shap.summary_plot(lgb_shap_vals_test[0], x_test)"
   ]
  },
  {
   "cell_type": "code",
   "execution_count": null,
   "metadata": {},
   "outputs": [],
   "source": []
  }
 ],
 "metadata": {
  "kernelspec": {
   "display_name": "Python 3",
   "language": "python",
   "name": "python3"
  },
  "language_info": {
   "codemirror_mode": {
    "name": "ipython",
    "version": 3
   },
   "file_extension": ".py",
   "mimetype": "text/x-python",
   "name": "python",
   "nbconvert_exporter": "python",
   "pygments_lexer": "ipython3",
   "version": "3.7.3"
  }
 },
 "nbformat": 4,
 "nbformat_minor": 2
}
